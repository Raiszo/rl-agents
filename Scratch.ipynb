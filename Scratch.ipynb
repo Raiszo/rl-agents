{
 "cells": [
  {
   "cell_type": "code",
   "execution_count": 6,
   "metadata": {},
   "outputs": [],
   "source": [
    "import tensorflow as tf\n",
    "import gym\n",
    "import numpy as np\n",
    "from tensorflow_probability import distributions as dists\n",
    "import tensorflow.keras.layers as kl\n",
    "\n",
    "from rl_agents.env_utils import rollouts_generator, get_adv_vtarg\n",
    "from rl_agents.ppo.policy import Actor, Critic\n",
    "from rl_agents.ppo.agent import PPO_Agent\n",
    "\n",
    "# for auto-reloading external modules\n",
    "# see http://stackoverflow.com/questions/1907993/autoreload-of-modules-in-ipython\n",
    "%load_ext autoreload\n",
    "%autoreload 2\n",
    "\n",
    "tf.random.set_seed(0)"
   ]
  },
  {
   "cell_type": "code",
   "execution_count": 7,
   "metadata": {},
   "outputs": [],
   "source": [
    "env = gym.make('Pendulum-v0')\n",
    "is_continuous = isinstance(env.action_space, gym.spaces.Box)\n",
    "obs_dim = env.observation_space.shape\n",
    "act_dim = env.action_space.shape"
   ]
  },
  {
   "cell_type": "code",
   "execution_count": 8,
   "metadata": {},
   "outputs": [],
   "source": [
    "actor = Actor(obs_dim, act_dim, is_continuous)\n",
    "critic = Critic(obs_dim)\n",
    "vero = PPO_Agent(actor, critic)"
   ]
  },
  {
   "cell_type": "code",
   "execution_count": 9,
   "metadata": {},
   "outputs": [],
   "source": [
    "generator = rollouts_generator(vero, env, horizon=2048)\n",
    "rollout = generator.__next__()"
   ]
  },
  {
   "cell_type": "code",
   "execution_count": 10,
   "metadata": {},
   "outputs": [],
   "source": [
    "advantage, target_value = get_adv_vtarg(rollout, lam=0.95, gamma=0.99)"
   ]
  },
  {
   "cell_type": "code",
   "execution_count": 18,
   "metadata": {},
   "outputs": [
    {
     "name": "stdout",
     "output_type": "stream",
     "text": [
      "0\n",
      "obs_no shape (64, 3)\n",
      "ac_no shape (64, 1)\n",
      "ratio: 1.002486753545601\n",
      "1\n",
      "obs_no shape (64, 3)\n",
      "ac_no shape (64, 1)\n",
      "ratio: 0.99915064769354744\n",
      "2\n",
      "obs_no shape (64, 3)\n",
      "ac_no shape (64, 1)\n",
      "ratio: 1.0010979458369522\n",
      "3\n",
      "obs_no shape (64, 3)\n",
      "ac_no shape (64, 1)\n",
      "ratio: 1.000597702959658\n",
      "4\n",
      "obs_no shape (64, 3)\n",
      "ac_no shape (64, 1)\n",
      "ratio: 0.99918143021246841\n",
      "5\n",
      "obs_no shape (64, 3)\n",
      "ac_no shape (64, 1)\n",
      "ratio: 1.0015500764403171\n",
      "6\n",
      "obs_no shape (64, 3)\n",
      "ac_no shape (64, 1)\n",
      "ratio: 1.0004204092614342\n",
      "7\n",
      "obs_no shape (64, 3)\n",
      "ac_no shape (64, 1)\n",
      "ratio: 0.99439464618910522\n",
      "8\n",
      "obs_no shape (64, 3)\n",
      "ac_no shape (64, 1)\n",
      "ratio: 1.0003183928261086\n",
      "9\n",
      "obs_no shape (64, 3)\n",
      "ac_no shape (64, 1)\n",
      "ratio: 1.0034284752192122\n",
      "10\n",
      "obs_no shape (64, 3)\n",
      "ac_no shape (64, 1)\n",
      "ratio: 1.0042810966896898\n",
      "11\n",
      "obs_no shape (64, 3)\n",
      "ac_no shape (64, 1)\n",
      "ratio: 1.0018198618681304\n",
      "12\n",
      "obs_no shape (64, 3)\n",
      "ac_no shape (64, 1)\n",
      "ratio: 0.99666420868202232\n",
      "13\n",
      "obs_no shape (64, 3)\n",
      "ac_no shape (64, 1)\n",
      "ratio: 1.0012909035530244\n",
      "14\n",
      "obs_no shape (64, 3)\n",
      "ac_no shape (64, 1)\n",
      "ratio: 0.99114922623129909\n",
      "15\n",
      "obs_no shape (64, 3)\n",
      "ac_no shape (64, 1)\n",
      "ratio: 1.0072323477676302\n",
      "16\n",
      "obs_no shape (64, 3)\n",
      "ac_no shape (64, 1)\n",
      "ratio: 0.99429312124241176\n",
      "17\n",
      "obs_no shape (64, 3)\n",
      "ac_no shape (64, 1)\n",
      "ratio: 1.0092144903489659\n",
      "18\n",
      "obs_no shape (64, 3)\n",
      "ac_no shape (64, 1)\n",
      "ratio: 0.996790523633497\n",
      "19\n",
      "obs_no shape (64, 3)\n",
      "ac_no shape (64, 1)\n",
      "ratio: 0.99844034660557035\n",
      "20\n",
      "obs_no shape (64, 3)\n",
      "ac_no shape (64, 1)\n",
      "ratio: 0.99798149155967009\n",
      "21\n",
      "obs_no shape (64, 3)\n",
      "ac_no shape (64, 1)\n",
      "ratio: 1.0005638767585268\n",
      "22\n",
      "obs_no shape (64, 3)\n",
      "ac_no shape (64, 1)\n",
      "ratio: 0.99721037886985164\n",
      "23\n",
      "obs_no shape (64, 3)\n",
      "ac_no shape (64, 1)\n",
      "ratio: 1.0009451719100713\n",
      "24\n",
      "obs_no shape (64, 3)\n",
      "ac_no shape (64, 1)\n",
      "ratio: 0.99937255168645722\n",
      "25\n",
      "obs_no shape (64, 3)\n",
      "ac_no shape (64, 1)\n",
      "ratio: 0.99905957265540635\n",
      "26\n",
      "obs_no shape (64, 3)\n",
      "ac_no shape (64, 1)\n",
      "ratio: 0.99815323998590322\n",
      "27\n",
      "obs_no shape (64, 3)\n",
      "ac_no shape (64, 1)\n",
      "ratio: 1.0008139106399518\n",
      "28\n",
      "obs_no shape (64, 3)\n",
      "ac_no shape (64, 1)\n",
      "ratio: 1.0040792077810554\n",
      "29\n",
      "obs_no shape (64, 3)\n",
      "ac_no shape (64, 1)\n",
      "ratio: 0.99736047951924034\n",
      "30\n",
      "obs_no shape (64, 3)\n",
      "ac_no shape (64, 1)\n",
      "ratio: 0.99458042065699337\n",
      "31\n",
      "obs_no shape (64, 3)\n",
      "ac_no shape (64, 1)\n",
      "ratio: 1.0016597330950334\n"
     ]
    }
   ],
   "source": [
    "vero.run_epoch(rollout['ob'], rollout['ac'], rollout['log_probs'], target_value, advantage, epochs=1)"
   ]
  },
  {
   "cell_type": "code",
   "execution_count": 39,
   "metadata": {},
   "outputs": [
    {
     "name": "stdout",
     "output_type": "stream",
     "text": [
      "tf.Tensor([-0.42190623], shape=(1,), dtype=float64)\n",
      "tf.Tensor([[-0.42190623]], shape=(1, 1), dtype=float64)\n",
      "tf.Tensor([[0.88893853]], shape=(1, 1), dtype=float64)\n"
     ]
    }
   ],
   "source": [
    "obs = env.reset()\n",
    "ac, v, lp = vero.act_stochastic(obs)\n",
    "print(lp)\n",
    "l = vero.get_distributions(obs[None])\n",
    "print(l.log_prob(ac))\n",
    "print(l.entropy())"
   ]
  },
  {
   "cell_type": "code",
   "execution_count": 8,
   "metadata": {},
   "outputs": [
    {
     "name": "stdout",
     "output_type": "stream",
     "text": [
      "float32\n"
     ]
    }
   ],
   "source": [
    "ac = env.action_space.sample()\n",
    "print(ac.dtype)"
   ]
  },
  {
   "cell_type": "code",
   "execution_count": 9,
   "metadata": {},
   "outputs": [
    {
     "name": "stdout",
     "output_type": "stream",
     "text": [
      "<class 'numpy.float64'>\n"
     ]
    }
   ],
   "source": [
    "print(np.float64)"
   ]
  },
  {
   "cell_type": "code",
   "execution_count": 10,
   "metadata": {},
   "outputs": [],
   "source": [
    "import tensorflow_probability as tfp"
   ]
  },
  {
   "cell_type": "code",
   "execution_count": 11,
   "metadata": {},
   "outputs": [],
   "source": [
    "tfd = tfp.distributions\n"
   ]
  },
  {
   "cell_type": "code",
   "execution_count": 12,
   "metadata": {},
   "outputs": [],
   "source": [
    "dist = tfd.Normal(loc=np.array([0., 1, 2, 0.5]), scale=np.array([0.02, 0.09, 0.1, 1]))"
   ]
  },
  {
   "cell_type": "code",
   "execution_count": 13,
   "metadata": {},
   "outputs": [
    {
     "data": {
      "text/plain": [
       "<tf.Tensor: id=171838, shape=(4,), dtype=float64, numpy=array([0.01061005, 0.96683973, 2.05509682, 1.26374006])>"
      ]
     },
     "execution_count": 13,
     "metadata": {},
     "output_type": "execute_result"
    }
   ],
   "source": [
    "dist.sample()\n"
   ]
  },
  {
   "cell_type": "code",
   "execution_count": 14,
   "metadata": {},
   "outputs": [
    {
     "data": {
      "text/plain": [
       "(3,)"
      ]
     },
     "execution_count": 14,
     "metadata": {},
     "output_type": "execute_result"
    }
   ],
   "source": [
    "obs_dim"
   ]
  },
  {
   "cell_type": "code",
   "execution_count": null,
   "metadata": {},
   "outputs": [],
   "source": []
  }
 ],
 "metadata": {
  "kernelspec": {
   "display_name": "Python 3",
   "language": "python",
   "name": "python3"
  },
  "language_info": {
   "codemirror_mode": {
    "name": "ipython",
    "version": 3
   },
   "file_extension": ".py",
   "mimetype": "text/x-python",
   "name": "python",
   "nbconvert_exporter": "python",
   "pygments_lexer": "ipython3",
   "version": "3.6.8"
  }
 },
 "nbformat": 4,
 "nbformat_minor": 2
}
