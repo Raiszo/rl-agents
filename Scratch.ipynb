{
 "cells": [
  {
   "cell_type": "code",
   "execution_count": 6,
   "metadata": {},
   "outputs": [],
   "source": [
    "import tensorflow as tf\n",
    "import gym\n",
    "import numpy as np\n",
    "from tensorflow_probability import distributions as dists\n",
    "import tensorflow.keras.layers as kl\n",
    "\n",
    "from rl_agents.env_utils import rollouts_generator, get_adv_vtarg\n",
    "from rl_agents.ppo.policy import Actor, Critic\n",
    "from rl_agents.ppo.agent import PPO_Agent\n",
    "\n",
    "# for auto-reloading external modules\n",
    "# see http://stackoverflow.com/questions/1907993/autoreload-of-modules-in-ipython\n",
    "%load_ext autoreload\n",
    "%autoreload 2\n",
    "\n",
    "tf.random.set_seed(0)"
   ]
  },
  {
   "cell_type": "code",
   "execution_count": 26,
   "metadata": {},
   "outputs": [],
   "source": [
    "env = gym.make('Pendulum-v0')\n",
    "is_continuous = isinstance(env.action_space, gym.spaces.Box)\n",
    "obs_dim = env.observation_space.shape\n",
    "act_dim = env.action_space.shape"
   ]
  },
  {
   "cell_type": "code",
   "execution_count": 27,
   "metadata": {},
   "outputs": [],
   "source": [
    "actor = Actor(obs_dim, act_dim, is_continuous)\n",
    "critic = Critic(obs_dim)\n",
    "vero = PPO_Agent(actor, critic)"
   ]
  },
  {
   "cell_type": "code",
   "execution_count": 28,
   "metadata": {},
   "outputs": [],
   "source": [
    "generator = rollouts_generator(vero, env, horizon=2048)"
   ]
  },
  {
   "cell_type": "code",
   "execution_count": 22,
   "metadata": {},
   "outputs": [],
   "source": [
    "\n",
    "rollout = generator.__next__()"
   ]
  },
  {
   "cell_type": "code",
   "execution_count": 23,
   "metadata": {},
   "outputs": [],
   "source": [
    "advantage, target_value = get_adv_vtarg(rollout, lam=0.95, gamma=0.99)"
   ]
  },
  {
   "cell_type": "code",
   "execution_count": 24,
   "metadata": {},
   "outputs": [
    {
     "name": "stdout",
     "output_type": "stream",
     "text": [
      "0\n",
      "ratio: 1\n",
      "ratio: 0.99986536579738594\n",
      "ratio: 1.0002050306771106\n",
      "ratio: 1.0000960784213153\n",
      "ratio: 1.0003117955160292\n",
      "ratio: 1.0004834391937216\n",
      "ratio: 0.99926434532689923\n",
      "ratio: 1.0006816304514778\n",
      "ratio: 1.0001126785073315\n",
      "ratio: 0.99794626571821765\n",
      "ratio: 0.997715335885212\n",
      "ratio: 1.0024440811561544\n",
      "ratio: 1.0022740357153386\n",
      "ratio: 1.0001499875573048\n",
      "ratio: 1.0000772947360512\n",
      "ratio: 0.99941493507176959\n",
      "ratio: 1.0002766605937596\n",
      "ratio: 0.99822019019761166\n",
      "ratio: 0.99982106261295989\n",
      "ratio: 1.0004539418544824\n",
      "ratio: 1.0012911335335788\n",
      "ratio: 1.0014382488972178\n",
      "ratio: 0.99894058165126687\n",
      "ratio: 0.99605942045174123\n",
      "ratio: 1.0028261540144627\n",
      "ratio: 1.0066989862779403\n",
      "ratio: 1.0018653282597774\n",
      "ratio: 1.0064422061160445\n",
      "ratio: 0.9961470337060665\n",
      "ratio: 0.99960341926649243\n",
      "ratio: 0.9986721303510917\n",
      "ratio: 1.0108206816435\n",
      "1\n",
      "ratio: 0.99363130512267717\n",
      "ratio: 0.9967984866073103\n",
      "ratio: 1.00303683154325\n",
      "ratio: 0.99818918871425055\n",
      "ratio: 0.998604596870793\n",
      "ratio: 1.0079575464835486\n",
      "ratio: 1.0002300474996173\n",
      "ratio: 1.0073428267867177\n",
      "ratio: 1.0011020838918014\n",
      "ratio: 0.99260952342230246\n",
      "ratio: 0.99648466476666919\n",
      "ratio: 1.0154827882506197\n",
      "ratio: 1.0044847784403172\n",
      "ratio: 1.0016030906282052\n",
      "ratio: 0.99981837445001553\n",
      "ratio: 1.0002194719480726\n",
      "ratio: 1.0072105459084391\n",
      "ratio: 0.993257643659951\n",
      "ratio: 0.99997984186100908\n",
      "ratio: 1.0012582486448203\n",
      "ratio: 1.0044783315944774\n",
      "ratio: 1.002281547683805\n",
      "ratio: 1.007955669913092\n",
      "ratio: 0.98379772280775035\n",
      "ratio: 1.0115202868468844\n",
      "ratio: 1.0179131364915786\n",
      "ratio: 1.0161081549504969\n",
      "ratio: 1.0170629005725074\n",
      "ratio: 0.98916494467234672\n",
      "ratio: 1.0018326327415608\n",
      "ratio: 0.99790410326797374\n",
      "ratio: 1.0284273286867762\n",
      "2\n",
      "ratio: 0.9846014068739386\n",
      "ratio: 0.98664019739451736\n",
      "ratio: 1.0061269093158027\n",
      "ratio: 1.0045872327783572\n",
      "ratio: 0.99161987418976016\n",
      "ratio: 1.0214813188644132\n",
      "ratio: 1.0030397270992966\n",
      "ratio: 1.0213744362068438\n",
      "ratio: 1.0041319496918573\n",
      "ratio: 0.97527105710775686\n",
      "ratio: 0.99437368504004431\n",
      "ratio: 1.0494878624172972\n",
      "ratio: 1.0110986161790185\n",
      "ratio: 1.0045712032592578\n",
      "ratio: 0.99882583184821139\n",
      "ratio: 1.0002623991428055\n",
      "ratio: 1.031158991145404\n",
      "ratio: 0.97547129016567213\n",
      "ratio: 1.0097735232366958\n",
      "ratio: 1.0027312334777758\n",
      "ratio: 1.012486112090214\n",
      "ratio: 1.0053702784775997\n",
      "ratio: 1.0148465735329255\n",
      "ratio: 0.95004316927845966\n",
      "ratio: 1.0476884495263097\n",
      "ratio: 1.0657843108967489\n",
      "ratio: 1.0852576066704387\n",
      "ratio: 1.0562342703551049\n",
      "ratio: 0.96780958696006048\n",
      "ratio: 0.99512021372652026\n",
      "ratio: 1.0015411501433635\n",
      "ratio: 1.090105406356161\n",
      "3\n",
      "ratio: 0.95920714897103954\n",
      "ratio: 0.93766938493005325\n",
      "ratio: 1.0016983303776839\n",
      "ratio: 1.3696974118429179\n",
      "ratio: 0.95934158984117468\n",
      "ratio: 1.0789957155629475\n",
      "ratio: 1.0274406205166449\n",
      "ratio: 1.0594831889556771\n",
      "ratio: 1.018073156949229\n",
      "ratio: 0.92008566917503865\n",
      "ratio: 1.0316994651316831\n",
      "ratio: 1.1277293532618831\n",
      "ratio: 1.0125908476410375\n",
      "ratio: 1.012260395876726\n",
      "ratio: 0.99281299891665764\n",
      "ratio: 0.98808362520878334\n",
      "ratio: 1.0828433048244319\n",
      "ratio: 0.9167520540074654\n",
      "ratio: 1.0573511704845262\n",
      "ratio: 1.0026074245555898\n",
      "ratio: 1.0281974562886962\n",
      "ratio: 1.0096070850782557\n",
      "ratio: 0.96705996427608953\n",
      "ratio: 0.87739711094737283\n",
      "ratio: 1.1661092770785881\n",
      "ratio: 1.2085508416061841\n",
      "ratio: 1.3516679069076467\n",
      "ratio: 1.1307246171929113\n",
      "ratio: 0.93912768572107408\n",
      "ratio: 0.94684956877094406\n",
      "ratio: 1.0349322723630867\n",
      "ratio: 1.195965595817019\n",
      "4\n",
      "ratio: 0.93214531792646416\n",
      "ratio: 0.86333158384196707\n",
      "ratio: 0.96344317118551892\n",
      "ratio: 4.9404205680146669\n",
      "ratio: 0.89227561674906419\n",
      "ratio: 1.15359085722146\n",
      "ratio: 1.0746082206472769\n",
      "ratio: 1.0934455990227419\n",
      "ratio: 1.0470029471117734\n",
      "ratio: 0.84025813341781963\n",
      "ratio: 1.155353445966421\n",
      "ratio: 1.1978555698828406\n",
      "ratio: 1.0056130821707714\n",
      "ratio: 1.0205691632042138\n",
      "ratio: 0.98193729633377369\n",
      "ratio: 0.968297007971176\n",
      "ratio: 1.0984215568625411\n",
      "ratio: 0.84204056528039262\n",
      "ratio: 1.1376905716498937\n",
      "ratio: 0.99868379537605412\n",
      "ratio: 1.0403875603805681\n",
      "ratio: 1.0196610033635136\n",
      "ratio: 0.86119343461095688\n",
      "ratio: 0.81020102329571508\n",
      "ratio: 1.3288570495651246\n",
      "ratio: 1.3758626773470026\n",
      "ratio: 1.6661178487886372\n",
      "ratio: 1.1909819220123112\n",
      "ratio: 0.91573870114153666\n",
      "ratio: 0.87442562580632988\n",
      "ratio: 1.0787428298511095\n",
      "ratio: 1.2906463037204163\n"
     ]
    }
   ],
   "source": [
    "vero.run_epoch(rollout['ob'], rollout['ac'], rollout['log_probs'], target_value, advantage, epochs=5)"
   ]
  },
  {
   "cell_type": "markdown",
   "metadata": {},
   "source": [
    "# Training loop"
   ]
  },
  {
   "cell_type": "code",
   "execution_count": 29,
   "metadata": {},
   "outputs": [
    {
     "name": "stdout",
     "output_type": "stream",
     "text": [
      "mean -1212.197886086397\n",
      "std 231.7375959857599\n",
      "mean -1493.4496442358027\n",
      "std 102.53170961987499\n",
      "mean -1543.9191801547904\n",
      "std 101.78788577157268\n",
      "mean -1572.9159071051088\n",
      "std 148.4869459656204\n",
      "mean -1607.6499063854849\n",
      "std 166.63569543188007\n",
      "mean -1494.870606405347\n",
      "std 227.9790688388157\n",
      "mean -1370.627460615131\n",
      "std 202.99956137229623\n",
      "mean nan\n",
      "std nan\n"
     ]
    },
    {
     "ename": "KeyboardInterrupt",
     "evalue": "",
     "output_type": "error",
     "traceback": [
      "\u001b[0;31m---------------------------------------------------------------------------\u001b[0m",
      "\u001b[0;31mKeyboardInterrupt\u001b[0m                         Traceback (most recent call last)",
      "\u001b[0;32m<ipython-input-29-56498ca5b058>\u001b[0m in \u001b[0;36m<module>\u001b[0;34m\u001b[0m\n\u001b[1;32m      7\u001b[0m     \u001b[0mroll\u001b[0m \u001b[0;34m=\u001b[0m \u001b[0mgenerator\u001b[0m\u001b[0;34m.\u001b[0m\u001b[0m__next__\u001b[0m\u001b[0;34m(\u001b[0m\u001b[0;34m)\u001b[0m\u001b[0;34m\u001b[0m\u001b[0;34m\u001b[0m\u001b[0m\n\u001b[1;32m      8\u001b[0m     \u001b[0madvantage\u001b[0m\u001b[0;34m,\u001b[0m \u001b[0mtarget_value\u001b[0m \u001b[0;34m=\u001b[0m \u001b[0mget_adv_vtarg\u001b[0m\u001b[0;34m(\u001b[0m\u001b[0mrollout\u001b[0m\u001b[0;34m,\u001b[0m \u001b[0mlam\u001b[0m\u001b[0;34m=\u001b[0m\u001b[0mlam\u001b[0m\u001b[0;34m,\u001b[0m \u001b[0mgamma\u001b[0m\u001b[0;34m=\u001b[0m\u001b[0mgamma\u001b[0m\u001b[0;34m)\u001b[0m\u001b[0;34m\u001b[0m\u001b[0;34m\u001b[0m\u001b[0m\n\u001b[0;32m----> 9\u001b[0;31m     \u001b[0mvero\u001b[0m\u001b[0;34m.\u001b[0m\u001b[0mrun_epoch\u001b[0m\u001b[0;34m(\u001b[0m\u001b[0mrollout\u001b[0m\u001b[0;34m[\u001b[0m\u001b[0;34m'ob'\u001b[0m\u001b[0;34m]\u001b[0m\u001b[0;34m,\u001b[0m \u001b[0mrollout\u001b[0m\u001b[0;34m[\u001b[0m\u001b[0;34m'ac'\u001b[0m\u001b[0;34m]\u001b[0m\u001b[0;34m,\u001b[0m \u001b[0mrollout\u001b[0m\u001b[0;34m[\u001b[0m\u001b[0;34m'log_probs'\u001b[0m\u001b[0;34m]\u001b[0m\u001b[0;34m,\u001b[0m \u001b[0mtarget_value\u001b[0m\u001b[0;34m,\u001b[0m \u001b[0madvantage\u001b[0m\u001b[0;34m,\u001b[0m \u001b[0mepochs\u001b[0m\u001b[0;34m=\u001b[0m\u001b[0mnum_epochs\u001b[0m\u001b[0;34m)\u001b[0m\u001b[0;34m\u001b[0m\u001b[0;34m\u001b[0m\u001b[0m\n\u001b[0m\u001b[1;32m     10\u001b[0m     \u001b[0mrewards\u001b[0m \u001b[0;34m=\u001b[0m \u001b[0mnp\u001b[0m\u001b[0;34m.\u001b[0m\u001b[0marray\u001b[0m\u001b[0;34m(\u001b[0m\u001b[0mroll\u001b[0m\u001b[0;34m[\u001b[0m\u001b[0;34m\"ep_rets\"\u001b[0m\u001b[0;34m]\u001b[0m\u001b[0;34m)\u001b[0m\u001b[0;34m\u001b[0m\u001b[0;34m\u001b[0m\u001b[0m\n\u001b[1;32m     11\u001b[0m \u001b[0;34m\u001b[0m\u001b[0m\n",
      "\u001b[0;32m~/neu_env/rl-agents/rl_agents/ppo/agent.py\u001b[0m in \u001b[0;36mrun_epoch\u001b[0;34m(self, obs, ac, log_prob, t_val, adv, epochs, batch_size)\u001b[0m\n\u001b[1;32m     93\u001b[0m                 \u001b[0midx\u001b[0m \u001b[0;34m=\u001b[0m \u001b[0mtrain_indicies\u001b[0m\u001b[0;34m[\u001b[0m\u001b[0mstart_idx\u001b[0m\u001b[0;34m:\u001b[0m\u001b[0mstart_idx\u001b[0m\u001b[0;34m+\u001b[0m\u001b[0mbatch_size\u001b[0m\u001b[0;34m]\u001b[0m\u001b[0;34m\u001b[0m\u001b[0;34m\u001b[0m\u001b[0m\n\u001b[1;32m     94\u001b[0m \u001b[0;34m\u001b[0m\u001b[0m\n\u001b[0;32m---> 95\u001b[0;31m                 \u001b[0mself\u001b[0m\u001b[0;34m.\u001b[0m\u001b[0mtrain_step\u001b[0m\u001b[0;34m(\u001b[0m\u001b[0mobs\u001b[0m\u001b[0;34m[\u001b[0m\u001b[0midx\u001b[0m\u001b[0;34m,\u001b[0m \u001b[0;34m:\u001b[0m\u001b[0;34m]\u001b[0m\u001b[0;34m,\u001b[0m \u001b[0mac\u001b[0m\u001b[0;34m[\u001b[0m\u001b[0midx\u001b[0m\u001b[0;34m,\u001b[0m \u001b[0;34m:\u001b[0m\u001b[0;34m]\u001b[0m\u001b[0;34m,\u001b[0m \u001b[0mlog_prob\u001b[0m\u001b[0;34m[\u001b[0m\u001b[0midx\u001b[0m\u001b[0;34m]\u001b[0m\u001b[0;34m,\u001b[0m \u001b[0madv\u001b[0m\u001b[0;34m[\u001b[0m\u001b[0midx\u001b[0m\u001b[0;34m]\u001b[0m\u001b[0;34m,\u001b[0m \u001b[0mt_val\u001b[0m\u001b[0;34m[\u001b[0m\u001b[0midx\u001b[0m\u001b[0;34m]\u001b[0m\u001b[0;34m)\u001b[0m\u001b[0;34m\u001b[0m\u001b[0;34m\u001b[0m\u001b[0m\n\u001b[0m\u001b[1;32m     96\u001b[0m                 \u001b[0;31m# break\u001b[0m\u001b[0;34m\u001b[0m\u001b[0;34m\u001b[0m\u001b[0;34m\u001b[0m\u001b[0m\n\u001b[1;32m     97\u001b[0m \u001b[0;34m\u001b[0m\u001b[0m\n",
      "\u001b[0;32m~/neu_env/.venv/lib/python3.6/site-packages/tensorflow/python/eager/def_function.py\u001b[0m in \u001b[0;36m__call__\u001b[0;34m(self, *args, **kwds)\u001b[0m\n\u001b[1;32m    412\u001b[0m       \u001b[0;31m# In this case we have created variables on the first call, so we run the\u001b[0m\u001b[0;34m\u001b[0m\u001b[0;34m\u001b[0m\u001b[0;34m\u001b[0m\u001b[0m\n\u001b[1;32m    413\u001b[0m       \u001b[0;31m# defunned version which is guaranteed to never create variables.\u001b[0m\u001b[0;34m\u001b[0m\u001b[0;34m\u001b[0m\u001b[0;34m\u001b[0m\u001b[0m\n\u001b[0;32m--> 414\u001b[0;31m       \u001b[0;32mreturn\u001b[0m \u001b[0mself\u001b[0m\u001b[0;34m.\u001b[0m\u001b[0m_stateless_fn\u001b[0m\u001b[0;34m(\u001b[0m\u001b[0;34m*\u001b[0m\u001b[0margs\u001b[0m\u001b[0;34m,\u001b[0m \u001b[0;34m**\u001b[0m\u001b[0mkwds\u001b[0m\u001b[0;34m)\u001b[0m  \u001b[0;31m# pylint: disable=not-callable\u001b[0m\u001b[0;34m\u001b[0m\u001b[0;34m\u001b[0m\u001b[0m\n\u001b[0m\u001b[1;32m    415\u001b[0m     \u001b[0;32melif\u001b[0m \u001b[0mself\u001b[0m\u001b[0;34m.\u001b[0m\u001b[0m_stateful_fn\u001b[0m \u001b[0;32mis\u001b[0m \u001b[0;32mnot\u001b[0m \u001b[0;32mNone\u001b[0m\u001b[0;34m:\u001b[0m\u001b[0;34m\u001b[0m\u001b[0;34m\u001b[0m\u001b[0m\n\u001b[1;32m    416\u001b[0m       \u001b[0;31m# In this case we have not created variables on the first call. So we can\u001b[0m\u001b[0;34m\u001b[0m\u001b[0;34m\u001b[0m\u001b[0;34m\u001b[0m\u001b[0m\n",
      "\u001b[0;32m~/neu_env/.venv/lib/python3.6/site-packages/tensorflow/python/eager/function.py\u001b[0m in \u001b[0;36m__call__\u001b[0;34m(self, *args, **kwargs)\u001b[0m\n\u001b[1;32m   1286\u001b[0m     \u001b[0;34m\"\"\"Calls a graph function specialized to the inputs.\"\"\"\u001b[0m\u001b[0;34m\u001b[0m\u001b[0;34m\u001b[0m\u001b[0m\n\u001b[1;32m   1287\u001b[0m     \u001b[0mgraph_function\u001b[0m\u001b[0;34m,\u001b[0m \u001b[0margs\u001b[0m\u001b[0;34m,\u001b[0m \u001b[0mkwargs\u001b[0m \u001b[0;34m=\u001b[0m \u001b[0mself\u001b[0m\u001b[0;34m.\u001b[0m\u001b[0m_maybe_define_function\u001b[0m\u001b[0;34m(\u001b[0m\u001b[0margs\u001b[0m\u001b[0;34m,\u001b[0m \u001b[0mkwargs\u001b[0m\u001b[0;34m)\u001b[0m\u001b[0;34m\u001b[0m\u001b[0;34m\u001b[0m\u001b[0m\n\u001b[0;32m-> 1288\u001b[0;31m     \u001b[0;32mreturn\u001b[0m \u001b[0mgraph_function\u001b[0m\u001b[0;34m.\u001b[0m\u001b[0m_filtered_call\u001b[0m\u001b[0;34m(\u001b[0m\u001b[0margs\u001b[0m\u001b[0;34m,\u001b[0m \u001b[0mkwargs\u001b[0m\u001b[0;34m)\u001b[0m  \u001b[0;31m# pylint: disable=protected-access\u001b[0m\u001b[0;34m\u001b[0m\u001b[0;34m\u001b[0m\u001b[0m\n\u001b[0m\u001b[1;32m   1289\u001b[0m \u001b[0;34m\u001b[0m\u001b[0m\n\u001b[1;32m   1290\u001b[0m   \u001b[0;34m@\u001b[0m\u001b[0mproperty\u001b[0m\u001b[0;34m\u001b[0m\u001b[0;34m\u001b[0m\u001b[0m\n",
      "\u001b[0;32m~/neu_env/.venv/lib/python3.6/site-packages/tensorflow/python/eager/function.py\u001b[0m in \u001b[0;36m_filtered_call\u001b[0;34m(self, args, kwargs)\u001b[0m\n\u001b[1;32m    572\u001b[0m     \"\"\"\n\u001b[1;32m    573\u001b[0m     return self._call_flat(\n\u001b[0;32m--> 574\u001b[0;31m         (t for t in nest.flatten((args, kwargs))\n\u001b[0m\u001b[1;32m    575\u001b[0m          if isinstance(t, (ops.Tensor,\n\u001b[1;32m    576\u001b[0m                            resource_variable_ops.ResourceVariable))))\n",
      "\u001b[0;32m~/neu_env/.venv/lib/python3.6/site-packages/tensorflow/python/eager/function.py\u001b[0m in \u001b[0;36m_call_flat\u001b[0;34m(self, args)\u001b[0m\n\u001b[1;32m    625\u001b[0m     \u001b[0;31m# Only need to override the gradient in graph mode and when we have outputs.\u001b[0m\u001b[0;34m\u001b[0m\u001b[0;34m\u001b[0m\u001b[0;34m\u001b[0m\u001b[0m\n\u001b[1;32m    626\u001b[0m     \u001b[0;32mif\u001b[0m \u001b[0mcontext\u001b[0m\u001b[0;34m.\u001b[0m\u001b[0mexecuting_eagerly\u001b[0m\u001b[0;34m(\u001b[0m\u001b[0;34m)\u001b[0m \u001b[0;32mor\u001b[0m \u001b[0;32mnot\u001b[0m \u001b[0mself\u001b[0m\u001b[0;34m.\u001b[0m\u001b[0moutputs\u001b[0m\u001b[0;34m:\u001b[0m\u001b[0;34m\u001b[0m\u001b[0;34m\u001b[0m\u001b[0m\n\u001b[0;32m--> 627\u001b[0;31m       \u001b[0moutputs\u001b[0m \u001b[0;34m=\u001b[0m \u001b[0mself\u001b[0m\u001b[0;34m.\u001b[0m\u001b[0m_inference_function\u001b[0m\u001b[0;34m.\u001b[0m\u001b[0mcall\u001b[0m\u001b[0;34m(\u001b[0m\u001b[0mctx\u001b[0m\u001b[0;34m,\u001b[0m \u001b[0margs\u001b[0m\u001b[0;34m)\u001b[0m\u001b[0;34m\u001b[0m\u001b[0;34m\u001b[0m\u001b[0m\n\u001b[0m\u001b[1;32m    628\u001b[0m     \u001b[0;32melse\u001b[0m\u001b[0;34m:\u001b[0m\u001b[0;34m\u001b[0m\u001b[0;34m\u001b[0m\u001b[0m\n\u001b[1;32m    629\u001b[0m       \u001b[0mself\u001b[0m\u001b[0;34m.\u001b[0m\u001b[0m_register_gradient\u001b[0m\u001b[0;34m(\u001b[0m\u001b[0;34m)\u001b[0m\u001b[0;34m\u001b[0m\u001b[0;34m\u001b[0m\u001b[0m\n",
      "\u001b[0;32m~/neu_env/.venv/lib/python3.6/site-packages/tensorflow/python/eager/function.py\u001b[0m in \u001b[0;36mcall\u001b[0;34m(self, ctx, args)\u001b[0m\n\u001b[1;32m    413\u001b[0m             attrs=(\"executor_type\", executor_type,\n\u001b[1;32m    414\u001b[0m                    \"config_proto\", config),\n\u001b[0;32m--> 415\u001b[0;31m             ctx=ctx)\n\u001b[0m\u001b[1;32m    416\u001b[0m       \u001b[0;31m# Replace empty list with None\u001b[0m\u001b[0;34m\u001b[0m\u001b[0;34m\u001b[0m\u001b[0;34m\u001b[0m\u001b[0m\n\u001b[1;32m    417\u001b[0m       \u001b[0moutputs\u001b[0m \u001b[0;34m=\u001b[0m \u001b[0moutputs\u001b[0m \u001b[0;32mor\u001b[0m \u001b[0;32mNone\u001b[0m\u001b[0;34m\u001b[0m\u001b[0;34m\u001b[0m\u001b[0m\n",
      "\u001b[0;32m~/neu_env/.venv/lib/python3.6/site-packages/tensorflow/python/eager/execute.py\u001b[0m in \u001b[0;36mquick_execute\u001b[0;34m(op_name, num_outputs, inputs, attrs, ctx, name)\u001b[0m\n\u001b[1;32m     58\u001b[0m     tensors = pywrap_tensorflow.TFE_Py_Execute(ctx._handle, device_name,\n\u001b[1;32m     59\u001b[0m                                                \u001b[0mop_name\u001b[0m\u001b[0;34m,\u001b[0m \u001b[0minputs\u001b[0m\u001b[0;34m,\u001b[0m \u001b[0mattrs\u001b[0m\u001b[0;34m,\u001b[0m\u001b[0;34m\u001b[0m\u001b[0;34m\u001b[0m\u001b[0m\n\u001b[0;32m---> 60\u001b[0;31m                                                num_outputs)\n\u001b[0m\u001b[1;32m     61\u001b[0m   \u001b[0;32mexcept\u001b[0m \u001b[0mcore\u001b[0m\u001b[0;34m.\u001b[0m\u001b[0m_NotOkStatusException\u001b[0m \u001b[0;32mas\u001b[0m \u001b[0me\u001b[0m\u001b[0;34m:\u001b[0m\u001b[0;34m\u001b[0m\u001b[0;34m\u001b[0m\u001b[0m\n\u001b[1;32m     62\u001b[0m     \u001b[0;32mif\u001b[0m \u001b[0mname\u001b[0m \u001b[0;32mis\u001b[0m \u001b[0;32mnot\u001b[0m \u001b[0;32mNone\u001b[0m\u001b[0;34m:\u001b[0m\u001b[0;34m\u001b[0m\u001b[0;34m\u001b[0m\u001b[0m\n",
      "\u001b[0;31mKeyboardInterrupt\u001b[0m: "
     ]
    }
   ],
   "source": [
    "num_ite = 200\n",
    "lam = 0.95\n",
    "gamma = 0.99\n",
    "num_epochs = 10\n",
    "\n",
    "for i in range(num_ite):\n",
    "    roll = generator.__next__()\n",
    "    advantage, target_value = get_adv_vtarg(rollout, lam=lam, gamma=gamma)\n",
    "    vero.run_epoch(rollout['ob'], rollout['ac'], rollout['log_probs'], target_value, advantage, epochs=num_epochs)\n",
    "    rewards = np.array(roll[\"ep_rets\"])\n",
    "    \n",
    "    if i % 10 == 0 or i == num_ite-1:\n",
    "        mean, std = rewards.mean(), rewards.std()\n",
    "        print('mean', mean)\n",
    "        print('std', std)"
   ]
  },
  {
   "cell_type": "code",
   "execution_count": 39,
   "metadata": {},
   "outputs": [
    {
     "name": "stdout",
     "output_type": "stream",
     "text": [
      "tf.Tensor([-0.42190623], shape=(1,), dtype=float64)\n",
      "tf.Tensor([[-0.42190623]], shape=(1, 1), dtype=float64)\n",
      "tf.Tensor([[0.88893853]], shape=(1, 1), dtype=float64)\n"
     ]
    }
   ],
   "source": [
    "obs = env.reset()\n",
    "ac, v, lp = vero.act_stochastic(obs)\n",
    "print(lp)\n",
    "l = vero.get_distributions(obs[None])\n",
    "print(l.log_prob(ac))\n",
    "print(l.entropy())"
   ]
  },
  {
   "cell_type": "code",
   "execution_count": 8,
   "metadata": {},
   "outputs": [
    {
     "name": "stdout",
     "output_type": "stream",
     "text": [
      "float32\n"
     ]
    }
   ],
   "source": [
    "ac = env.action_space.sample()\n",
    "print(ac.dtype)"
   ]
  },
  {
   "cell_type": "code",
   "execution_count": 9,
   "metadata": {},
   "outputs": [
    {
     "name": "stdout",
     "output_type": "stream",
     "text": [
      "<class 'numpy.float64'>\n"
     ]
    }
   ],
   "source": [
    "print(np.float64)"
   ]
  },
  {
   "cell_type": "code",
   "execution_count": 10,
   "metadata": {},
   "outputs": [],
   "source": [
    "import tensorflow_probability as tfp"
   ]
  },
  {
   "cell_type": "code",
   "execution_count": 11,
   "metadata": {},
   "outputs": [],
   "source": [
    "tfd = tfp.distributions\n"
   ]
  },
  {
   "cell_type": "code",
   "execution_count": 12,
   "metadata": {},
   "outputs": [],
   "source": [
    "dist = tfd.Normal(loc=np.array([0., 1, 2, 0.5]), scale=np.array([0.02, 0.09, 0.1, 1]))"
   ]
  },
  {
   "cell_type": "code",
   "execution_count": 13,
   "metadata": {},
   "outputs": [
    {
     "data": {
      "text/plain": [
       "<tf.Tensor: id=171838, shape=(4,), dtype=float64, numpy=array([0.01061005, 0.96683973, 2.05509682, 1.26374006])>"
      ]
     },
     "execution_count": 13,
     "metadata": {},
     "output_type": "execute_result"
    }
   ],
   "source": [
    "dist.sample()\n"
   ]
  },
  {
   "cell_type": "code",
   "execution_count": 14,
   "metadata": {},
   "outputs": [
    {
     "data": {
      "text/plain": [
       "(3,)"
      ]
     },
     "execution_count": 14,
     "metadata": {},
     "output_type": "execute_result"
    }
   ],
   "source": [
    "obs_dim"
   ]
  },
  {
   "cell_type": "code",
   "execution_count": null,
   "metadata": {},
   "outputs": [],
   "source": []
  }
 ],
 "metadata": {
  "kernelspec": {
   "display_name": "Python 3",
   "language": "python",
   "name": "python3"
  },
  "language_info": {
   "codemirror_mode": {
    "name": "ipython",
    "version": 3
   },
   "file_extension": ".py",
   "mimetype": "text/x-python",
   "name": "python",
   "nbconvert_exporter": "python",
   "pygments_lexer": "ipython3",
   "version": "3.6.8"
  }
 },
 "nbformat": 4,
 "nbformat_minor": 2
}
