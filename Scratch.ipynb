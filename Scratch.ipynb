{
 "cells": [
  {
   "cell_type": "code",
   "execution_count": 1,
   "metadata": {},
   "outputs": [],
   "source": [
    "import tensorflow as tf\n",
    "import gym\n",
    "import numpy as np\n",
    "import datetime\n",
    "\n",
    "# from rl_agents.env_utils import rollouts_generator, get_adv_vtarg, get_gaeadv_vtarg\n",
    "from rl_agents.vpg.agent import VPG_Agent\n",
    "from rl_agents.ppo.agent import PPO_Agent\n",
    "from rl_agents.training.buffers import GAE_Buffer\n",
    "from rl_agents.training.sensei import Sensei, ExperimentRunner\n",
    "from rl_agents.utils import get_actor_critic, simple_run\n",
    "\n",
    "# for auto-reloading external modules\n",
    "# see http://stackoverflow.com/questions/1907993/autoreload-of-modules-in-ipython\n",
    "%load_ext autoreload\n",
    "%autoreload 2\n",
    "\n",
    "tf.random.set_seed(0)\n",
    "tf.keras.backend.set_floatx('float32')"
   ]
  },
  {
   "cell_type": "markdown",
   "metadata": {},
   "source": [
    "## Create GYM environment\n",
    "Use Pendulum-v0 for now"
   ]
  },
  {
   "cell_type": "code",
   "execution_count": 2,
   "metadata": {},
   "outputs": [],
   "source": [
    "# env_fn = lambda: gym.make('MountainCarContinuous-v0')\n",
    "env_fn = lambda: gym.make('Pendulum-v0')\n",
    "# env_fn = lambda: gym.make('MountainCar-v0')\n",
    "# env_fn = lambda: gym.make('CartPole-v0')\n",
    "# env_fn = lambda: gym.make('LunarLanderContinuous-v2')\n",
    "# env_fn = lambda: gym.make('Acrobot-v1')\n",
    "env = env_fn()\n",
    "# continuous = check_if_continuous(env)\n",
    "obs_dim = env.observation_space.shape\n",
    "act_dim = env.action_space.shape or env.action_space.n"
   ]
  },
  {
   "cell_type": "code",
   "execution_count": 16,
   "metadata": {},
   "outputs": [
    {
     "data": {
      "text/plain": [
       "(1,)"
      ]
     },
     "execution_count": 16,
     "metadata": {},
     "output_type": "execute_result"
    }
   ],
   "source": [
    "act_dim"
   ]
  },
  {
   "cell_type": "code",
   "execution_count": 13,
   "metadata": {},
   "outputs": [],
   "source": [
    "buff_vpg = GAE_Buffer(obs_dim, act_dim, 64, gamma=0.99, lam=0.95)\n",
    "actor_vpg, critic_vpg = get_actor_critic(env)\n",
    "jen_vpg = VPG_Agent(actor_vpg, critic_vpg, act_dim)\n",
    "\n",
    "lam = 0.95\n",
    "gamma = 0.99\n",
    "epochs_actor = 1\n",
    "epochs_critic = 80\n",
    "sensei_vpg = Sensei(jen_vpg, env_fn, buff_vpg,\n",
    "                    epochs_actor=epochs_actor, epochs_critic=epochs_critic,\n",
    "                    gamma=gamma, gae_lambda=lam,\n",
    "                    log_dir='logs')"
   ]
  },
  {
   "cell_type": "code",
   "execution_count": 14,
   "metadata": {
    "scrolled": false
   },
   "outputs": [
    {
     "name": "stdout",
     "output_type": "stream",
     "text": [
      "WARNING:tensorflow:Layer Actor is casting an input tensor from dtype float64 to the layer's dtype of float32, which is new behavior in TensorFlow 2.  The layer has dtype float32 because it's dtype defaults to floatx.\n",
      "\n",
      "If you intended to run this layer in float32, you can safely ignore this warning. If in doubt, this warning is likely only an issue if you are porting a TensorFlow 1.X model to TensorFlow 2.\n",
      "\n",
      "To change all layers to have dtype float64 by default, call `tf.keras.backend.set_floatx('float64')`. To change just this layer, pass dtype='float64' to the layer constructor. If you are the author of this layer, you can disable autocasting by passing autocast=False to the base Layer constructor.\n",
      "\n",
      "WARNING:tensorflow:Layer Critic is casting an input tensor from dtype float64 to the layer's dtype of float32, which is new behavior in TensorFlow 2.  The layer has dtype float32 because it's dtype defaults to floatx.\n",
      "\n",
      "If you intended to run this layer in float32, you can safely ignore this warning. If in doubt, this warning is likely only an issue if you are porting a TensorFlow 1.X model to TensorFlow 2.\n",
      "\n",
      "To change all layers to have dtype float64 by default, call `tf.keras.backend.set_floatx('float64')`. To change just this layer, pass dtype='float64' to the layer constructor. If you are the author of this layer, you can disable autocasting by passing autocast=False to the base Layer constructor.\n",
      "\n",
      "slice(0, 64, None)\n",
      "rews [ -4.12175131  -4.15044832  -4.38621378  -4.83769751  -5.41541386\n",
      "  -6.33364773  -7.31524467  -8.50397205  -9.6859436  -10.83740711\n",
      " -10.5357132   -9.36797142  -8.26935959  -7.27830553  -6.40215445\n",
      "  -5.73918533  -5.27435303  -5.04524088  -5.05105305  -5.30607653\n",
      "  -5.7583251   -6.37805367  -7.06686544  -7.85973835  -8.75917339\n",
      "  -9.70229626 -10.49183655  -9.98402023  -9.12321281  -8.26106548\n",
      "  -7.4526639   -6.76914215  -6.26967382  -5.93617058  -5.76576424\n",
      "  -5.76657677  -5.94510698  -6.30765915  -6.83788776  -7.52622318\n",
      "  -8.29028893  -9.13794327  -9.99452019 -10.340662    -9.51213264\n",
      "  -8.7124939   -8.06794834  -7.53659773  -7.17368937  -6.89972258\n",
      "  -6.75167179  -6.79210043  -6.91178179  -7.12910795  -7.49873114\n",
      "  -7.9554987   -8.52724266  -9.13713741  -9.74061584 -10.16656303\n",
      "  -9.4957819   -8.87137508  -8.30560493  -7.83600807   0.        ]\n",
      "vals [ 0.36779425  0.27397025  0.15642148  0.03768821 -0.04953766 -0.16553985\n",
      " -0.24251653 -0.31815434 -0.36973289 -0.40617251 -0.43658969 -0.45547867\n",
      " -0.46766746 -0.47442269 -0.47039628 -0.45398217 -0.40521011 -0.32879105\n",
      " -0.21838559 -0.11124609 -0.03155225  0.03222947  0.07710141  0.11840614\n",
      "  0.15753761  0.19030654  0.20855403  0.23787731  0.26334223  0.28446478\n",
      "  0.30388987  0.32247743  0.33492804  0.33363912  0.29479855  0.23428302\n",
      "  0.13713543  0.02994741 -0.06865171 -0.15672822 -0.22296357 -0.28051227\n",
      " -0.32363328 -0.35238791 -0.37223399 -0.36947215 -0.36323288 -0.32557374\n",
      " -0.30649775 -0.27154642 -0.2054244  -0.11495496 -0.07919229 -0.03405277\n",
      "  0.02094967  0.06211916  0.10253039  0.1344988   0.15985394  0.1933354\n",
      "  0.21368404  0.2323361   0.24720623  0.2625145   0.        ]\n",
      "ret+ [-352.19528  -351.58942  -350.94846  -350.06287  -348.71228  -346.76453\n",
      " -343.86957  -339.95386  -334.79788  -328.39587  -320.76614  -313.36407\n",
      " -307.06677  -301.81555  -297.51236  -294.05072  -291.2238   -288.8378\n",
      " -286.65915  -284.45264  -281.96622  -278.99786  -275.37354  -271.01685\n",
      " -265.81528  -259.65262  -252.47507  -244.4275   -236.81161  -229.98828\n",
      " -223.96689  -218.70123  -214.07281  -209.90216  -206.02626  -202.28333\n",
      " -198.50177  -194.50168  -190.09497  -185.10815  -179.37569  -172.81354\n",
      " -165.32889  -156.9034   -148.04317  -139.93034  -132.54327  -125.73266\n",
      " -119.38996  -113.34977  -107.5253   -101.79154   -95.95903   -89.94672\n",
      "  -83.65415   -76.92467   -69.665825  -61.756145  -53.150513  -43.84838\n",
      "  -34.022038  -24.773996  -16.063253   -7.836008]\n",
      "adv+ [-113.512115 -116.20819  -119.02034  -121.75972  -124.22678  -126.2063\n",
      " -127.37703  -127.58036  -126.558754 -124.232254 -120.540985 -116.949425\n",
      " -114.379524 -112.82101  -112.22906  -112.544235 -113.61816  -115.282845\n",
      " -117.331406 -119.49879  -121.50209  -123.13368  -124.18897  -124.5744\n",
      " -124.13846  -122.71149  -120.17581  -116.651695 -113.4402   -110.93595\n",
      " -109.18796  -108.187836 -107.84454  -107.996    -108.47214  -109.13718\n",
      " -109.80551  -110.316765 -110.485054 -110.11234  -109.008095 -107.03143\n",
      " -104.044235  -99.97287   -95.285576  -91.206696  -87.72363   -84.73854\n",
      "  -82.109604  -79.71673   -77.49621   -75.31755   -72.89952   -70.21076\n",
      "  -67.13072   -63.447678  -59.044727  -53.745995  -47.45626   -40.135242\n",
      "  -31.883987  -23.82194   -15.909582   -8.098522]\n",
      "get 3.3527613e-08 1.0\n",
      "slice(0, 64, None)\n",
      "rews [ -7.42914677  -7.10560322  -6.87779856  -6.74521732  -6.72232246\n",
      "  -6.81002045  -7.02904367  -7.34374666  -7.70757246  -8.18741894\n",
      "  -8.68073273  -9.24701309  -9.75190544 -10.04706955  -9.46808624\n",
      "  -8.91653633  -8.42745686  -8.0448103   -7.78411818  -7.66041183\n",
      "  -7.66793871  -7.74821663  -7.92847681  -8.19780827  -8.49991703\n",
      "  -8.84094334  -9.21886539  -9.66224003 -10.02026653  -9.62338543\n",
      "  -9.26335621  -8.94728565  -8.68105507  -8.45507431  -8.28215218\n",
      "  -8.17749023  -8.09797096  -8.09739494  -8.17784977  -8.29753685\n",
      "  -8.41941643  -8.60130692  -8.83487797  -9.10800552  -9.34877491\n",
      "  -9.59394073  -9.8658514   -9.75513744  -9.50685692  -9.29008102\n",
      "  -9.11594963  -8.99911785  -8.97517776  -8.99749756  -9.03131866\n",
      "  -9.0706234   -9.11229706  -9.20675373  -9.30632591  -9.50137615\n",
      "  -9.72007275  -9.90000629  -9.67633915  -9.4423666    0.        ]\n",
      "vals [-12.70667171 -12.7205925  -12.74564648 -12.76732063 -12.80678844\n",
      " -12.8453083  -12.89008141 -12.92767239 -12.95711231 -12.98630333\n",
      " -13.00575447 -13.02054596 -13.02565765 -13.02894974 -13.0223341\n",
      " -13.00814152 -12.98627472 -12.95901871 -12.92793846 -12.89285755\n",
      " -12.86216068 -12.84624863 -12.82400227 -12.80636311 -12.80452824\n",
      " -12.80431652 -12.80352116 -12.79258442 -12.80509758 -12.81945896\n",
      " -12.83081818 -12.84745407 -12.85350132 -12.86275768 -12.87648487\n",
      " -12.89433765 -12.89457798 -12.91981316 -12.94005394 -12.9525671\n",
      " -12.95866108 -12.97237968 -12.98523903 -12.99527454 -12.99677181\n",
      " -12.99790382 -13.00013638 -12.9980402  -12.99330711 -12.98405647\n",
      " -12.97432709 -12.96008205 -12.93807697 -12.92977238 -12.92750072\n",
      " -12.92691517 -12.92721367 -12.91561413 -12.91524792 -12.89330482\n",
      " -12.88553524 -12.88757801 -12.87822437 -12.87678051   0.        ]\n",
      "ret+ [-405.67325  -402.26675  -399.15268  -396.23724  -393.4263   -390.61008\n",
      " -387.67682  -384.4927   -380.95856  -377.02118  -372.55936  -367.55417\n",
      " -361.92642  -355.73184  -349.17654  -343.13983  -337.5993   -332.49683\n",
      " -327.7293   -323.17694  -318.70358  -314.1774   -309.52444  -304.6424\n",
      " -299.43896  -293.8778   -287.91605  -281.5123   -274.596    -267.24823\n",
      " -260.2271   -253.49875  -247.02168  -240.74811  -234.63943  -228.6437\n",
      " -222.69316  -216.76282  -210.77315  -204.64171  -198.32745  -191.8263\n",
      " -185.07574  -178.02109  -170.61926  -162.89949  -154.8541   -146.45276\n",
      " -138.07841  -129.87025  -121.79816  -113.82041  -105.8801    -97.88376\n",
      "  -89.784096  -81.56847   -73.23014   -64.7655    -56.119946  -47.286488\n",
      "  -38.16678   -28.734045  -19.024282   -9.442367]\n",
      "adv+ [-130.15451  -130.60994  -131.42664  -132.54102  -133.84839  -135.26422\n",
      " -136.6702   -137.94029  -138.9651   -139.66847  -139.9167   -139.66122\n",
      " -138.79782  -137.34494  -135.49677  -134.1552   -133.3231   -132.96385\n",
      " -132.99245  -133.30392  -133.76164  -134.22444  -134.63765  -134.88025\n",
      " -134.835    -134.46394  -133.70743  -132.51187  -130.74448  -128.48276\n",
      " -126.50327  -124.775925 -123.28668  -121.98299  -120.83248  -119.78886\n",
      " -118.80922  -117.82585  -116.78641  -115.60401  -114.22643  -112.62416\n",
      " -110.72817  -108.467    -105.78146  -102.670425  -99.100746  -95.020706\n",
      "  -90.80302   -86.58719   -82.33554   -78.00472   -73.53215   -68.78743\n",
      "  -63.71236   -58.278465  -52.458073  -46.23767   -39.511364  -32.276356\n",
      "  -24.36109   -15.702126   -6.316061    3.434414]\n",
      "get -4.4703484e-08 0.99999994\n"
     ]
    }
   ],
   "source": [
    "num_ite = 2\n",
    "sensei_vpg.train(num_ite, batch_size=32)"
   ]
  },
  {
   "cell_type": "code",
   "execution_count": 4,
   "metadata": {},
   "outputs": [],
   "source": [
    "buff_ppo = GAE_Buffer(obs_dim, act_dim, 2048, gamma=0.99, lam=0.95)\n",
    "actor_ppo, critic_ppo = get_actor_critic(env)\n",
    "jen_ppo = PPO_Agent(actor_ppo, critic_ppo, act_dim)\n",
    "\n",
    "lam = 0.95\n",
    "gamma = 0.99\n",
    "epochs_actor = 10\n",
    "epochs_critic = 80\n",
    "sensei_ppo = Sensei(jen_ppo, env_fn, buff_ppo,\n",
    "                    epochs_actor=epochs_actor, epochs_critic=epochs_critic,\n",
    "                    gamma=gamma, gae_lambda=lam,\n",
    "                    log_dir='logs')"
   ]
  },
  {
   "cell_type": "code",
   "execution_count": 5,
   "metadata": {},
   "outputs": [
    {
     "name": "stdout",
     "output_type": "stream",
     "text": [
      "WARNING:tensorflow:Layer Actor is casting an input tensor from dtype float64 to the layer's dtype of float32, which is new behavior in TensorFlow 2.  The layer has dtype float32 because it's dtype defaults to floatx.\n",
      "\n",
      "If you intended to run this layer in float32, you can safely ignore this warning. If in doubt, this warning is likely only an issue if you are porting a TensorFlow 1.X model to TensorFlow 2.\n",
      "\n",
      "To change all layers to have dtype float64 by default, call `tf.keras.backend.set_floatx('float64')`. To change just this layer, pass dtype='float64' to the layer constructor. If you are the author of this layer, you can disable autocasting by passing autocast=False to the base Layer constructor.\n",
      "\n",
      "WARNING:tensorflow:Layer Critic is casting an input tensor from dtype float64 to the layer's dtype of float32, which is new behavior in TensorFlow 2.  The layer has dtype float32 because it's dtype defaults to floatx.\n",
      "\n",
      "If you intended to run this layer in float32, you can safely ignore this warning. If in doubt, this warning is likely only an issue if you are porting a TensorFlow 1.X model to TensorFlow 2.\n",
      "\n",
      "To change all layers to have dtype float64 by default, call `tf.keras.backend.set_floatx('float64')`. To change just this layer, pass dtype='float64' to the layer constructor. If you are the author of this layer, you can disable autocasting by passing autocast=False to the base Layer constructor.\n",
      "\n",
      "0 20.63917525773196\n",
      "1 9.538812785388128\n",
      "2 9.460829493087557\n",
      "3 9.34703196347032\n",
      "4 9.290909090909091\n",
      "5 9.331818181818182\n",
      "6 9.333333333333334\n",
      "7 9.313636363636364\n",
      "8 9.351598173515981\n",
      "9 9.337899543378995\n",
      "10 9.378995433789955\n",
      "11 9.444444444444445\n",
      "12 9.285067873303168\n",
      "13 9.371559633027523\n",
      "14 25.65\n",
      "15 21.49473684210526\n",
      "16 15.694656488549619\n",
      "17 16.983193277310924\n",
      "18 15.930232558139535\n",
      "19 14.16551724137931\n",
      "20 16.75409836065574\n",
      "21 13.825503355704697\n",
      "22 17.435897435897434\n",
      "23 13.552631578947368\n",
      "24 17.19327731092437\n",
      "25 18.90740740740741\n",
      "26 22.98876404494382\n",
      "27 25.024390243902438\n",
      "28 22.32967032967033\n",
      "29 21.842105263157894\n",
      "30 20.48\n",
      "31 20.724489795918366\n",
      "32 20.61\n",
      "33 20.515151515151516\n",
      "34 20.386138613861387\n",
      "35 20.636363636363637\n",
      "36 20.176470588235293\n",
      "37 21.34375\n",
      "38 20.5\n",
      "39 20.07920792079208\n",
      "40 20.696969696969695\n",
      "41 20.77777777777778\n",
      "42 20.737373737373737\n",
      "43 20.0\n",
      "44 20.61\n",
      "45 20.8265306122449\n",
      "46 20.636363636363637\n",
      "47 20.15686274509804\n",
      "48 20.545454545454547\n",
      "49 20.636363636363637\n",
      "50 20.0\n",
      "51 20.346534653465348\n",
      "52 19.776699029126213\n",
      "53 20.396039603960396\n",
      "54 20.27\n",
      "55 20.346534653465348\n",
      "56 20.465346534653467\n",
      "57 20.07843137254902\n",
      "58 20.41\n",
      "59 20.707070707070706\n",
      "60 20.636363636363637\n",
      "61 19.78846153846154\n",
      "62 20.07920792079208\n",
      "63 19.807692307692307\n",
      "64 20.755102040816325\n",
      "65 20.019417475728154\n",
      "66 20.696969696969695\n",
      "67 20.247524752475247\n",
      "68 21.04123711340206\n",
      "69 20.77777777777778\n",
      "70 20.42\n",
      "71 19.78846153846154\n",
      "72 20.4\n",
      "73 19.576923076923077\n",
      "74 20.465346534653467\n",
      "75 20.785714285714285\n",
      "76 21.144329896907216\n",
      "77 20.376237623762375\n",
      "78 19.95098039215686\n",
      "79 19.65714285714286\n",
      "80 21.25\n",
      "81 20.767676767676768\n",
      "82 20.257425742574256\n",
      "83 20.35\n",
      "84 21.237113402061855\n",
      "85 20.656565656565657\n",
      "86 23.837209302325583\n",
      "87 26.115384615384617\n",
      "88 25.0\n",
      "89 22.118279569892472\n",
      "90 21.473684210526315\n",
      "91 20.836734693877553\n",
      "92 21.257731958762886\n",
      "93 20.42\n",
      "94 20.636363636363637\n",
      "95 20.757575757575758\n",
      "96 20.15686274509804\n",
      "97 20.8265306122449\n",
      "98 20.918367346938776\n",
      "99 20.287128712871286\n",
      "100 21.53684210526316\n",
      "101 21.061855670103093\n",
      "102 20.887755102040817\n",
      "103 20.36\n",
      "104 20.77777777777778\n",
      "105 20.425742574257427\n",
      "106 20.128712871287128\n",
      "107 20.63\n",
      "108 21.072164948453608\n",
      "109 20.464646464646464\n",
      "110 21.395833333333332\n",
      "111 20.366336633663366\n",
      "112 20.366336633663366\n",
      "113 20.646464646464647\n",
      "114 19.813725490196077\n",
      "115 20.02912621359223\n",
      "116 22.217391304347824\n",
      "117 39.80769230769231\n",
      "118 123.6875\n",
      "119 120.4375\n",
      "120 147.06666666666666\n",
      "121 76.25925925925925\n",
      "122 70.72413793103448\n",
      "123 49.73170731707317\n",
      "124 47.23255813953488\n",
      "125 46.40909090909091\n",
      "126 42.875\n",
      "127 44.80434782608695\n",
      "128 51.325\n",
      "129 52.282051282051285\n",
      "130 57.083333333333336\n",
      "131 46.93181818181818\n",
      "132 43.148936170212764\n",
      "133 40.509803921568626\n",
      "134 35.8421052631579\n",
      "135 32.70967741935484\n",
      "136 28.95774647887324\n",
      "137 27.6\n",
      "138 27.445945945945947\n",
      "139 28.19178082191781\n",
      "140 26.88157894736842\n",
      "141 26.363636363636363\n",
      "142 26.329113924050635\n",
      "143 26.789473684210527\n",
      "144 26.243589743589745\n",
      "145 26.68831168831169\n",
      "146 27.253333333333334\n",
      "147 26.037974683544302\n",
      "148 26.763157894736842\n",
      "149 27.293333333333333\n",
      "150 26.333333333333332\n",
      "151 26.063291139240505\n",
      "152 28.041095890410958\n",
      "153 31.338461538461537\n",
      "154 32.63492063492063\n",
      "155 33.95\n",
      "156 31.96875\n",
      "157 35.21052631578947\n",
      "158 35.52542372881356\n",
      "159 34.86440677966102\n",
      "160 34.15\n",
      "161 35.0\n",
      "162 32.375\n",
      "163 31.784615384615385\n",
      "164 33.0\n",
      "165 29.028169014084508\n",
      "166 32.61290322580645\n",
      "167 31.166666666666668\n",
      "168 31.12121212121212\n",
      "169 29.782608695652176\n",
      "170 31.890625\n",
      "171 29.1\n",
      "172 28.708333333333332\n",
      "173 28.87323943661972\n",
      "174 28.985714285714284\n",
      "175 30.71641791044776\n",
      "176 30.70149253731343\n",
      "177 27.89041095890411\n",
      "178 27.60810810810811\n",
      "179 27.56756756756757\n",
      "180 29.897058823529413\n",
      "181 28.561643835616437\n",
      "182 28.830985915492956\n",
      "183 28.901408450704224\n",
      "184 28.054794520547944\n",
      "185 27.675675675675677\n",
      "186 28.375\n",
      "187 27.12\n",
      "188 27.493333333333332\n",
      "189 27.513513513513512\n",
      "190 27.56\n",
      "191 27.513513513513512\n",
      "192 28.802816901408452\n",
      "193 27.453333333333333\n",
      "194 27.931506849315067\n",
      "195 27.89041095890411\n",
      "196 27.026315789473685\n",
      "197 27.72972972972973\n",
      "198 29.04225352112676\n",
      "199 27.14666666666667\n"
     ]
    }
   ],
   "source": [
    "num_ite = 200\n",
    "sensei_ppo.train(num_ite, batch_size=128)"
   ]
  },
  {
   "cell_type": "markdown",
   "metadata": {},
   "source": [
    "# Testing buffer"
   ]
  },
  {
   "cell_type": "code",
   "execution_count": null,
   "metadata": {},
   "outputs": [],
   "source": [
    "a = tf.keras.optimizers.Adam(3e-3)"
   ]
  },
  {
   "cell_type": "code",
   "execution_count": null,
   "metadata": {},
   "outputs": [],
   "source": [
    "a"
   ]
  },
  {
   "cell_type": "code",
   "execution_count": null,
   "metadata": {},
   "outputs": [],
   "source": [
    "buff = GAE_Buffer(obs_dim, act_dim, 20, gamma=0.99, lam=0.95)"
   ]
  },
  {
   "cell_type": "code",
   "execution_count": null,
   "metadata": {},
   "outputs": [],
   "source": [
    "actor_test, critic_test = get_actor_critic(env)"
   ]
  },
  {
   "cell_type": "code",
   "execution_count": null,
   "metadata": {},
   "outputs": [],
   "source": [
    "test_vpg = VPG_Agent(actor_test, critic_tes, act_dim)"
   ]
  },
  {
   "cell_type": "code",
   "execution_count": null,
   "metadata": {},
   "outputs": [],
   "source": [
    "test_runner = ExperimentRunner(test_vpg, env, buff)\n",
    "test_runner.num_ite = 1"
   ]
  },
  {
   "cell_type": "code",
   "execution_count": null,
   "metadata": {},
   "outputs": [],
   "source": [
    "for i, rollout in enumerate(test_runner):\n",
    "    print(i)"
   ]
  },
  {
   "cell_type": "code",
   "execution_count": null,
   "metadata": {},
   "outputs": [],
   "source": [
    "env = gym.make('Pendulum-v0')\n",
    "obs_dim = env.observation_space.shape\n",
    "act_dim = env.action_space.shape or env.action_space.n\n",
    "\n",
    "actor_vpg, critic_vpg = get_actor_critic(env)\n",
    "jen_vpg = VPG_Agent(actor_vpg, critic_vpg, act_dim)\n",
    "\n",
    "simple_run(env, jen_vpg)"
   ]
  },
  {
   "cell_type": "code",
   "execution_count": null,
   "metadata": {},
   "outputs": [],
   "source": [
    "buff_ppo = GAE_Buffer(obs_dim, act_dim, 2048, gamma=0.99, lam=0.95)\n",
    "actor_ppo, critic_ppo = get_actor_critic(env)\n",
    "jen_ppo = PPO_Agent(actor_ppo, critic_ppo, act_dim)\n",
    "\n",
    "lam = 0.95\n",
    "gamma = 0.99\n",
    "epochs_actor = 10\n",
    "epochs_critic = 80\n",
    "sensei_ppo = Sensei(jen_ppo, env_fn, buff_ppo,\n",
    "                    epochs_actor=epochs_actor, epochs_critic=epochs_critic,\n",
    "                    gamma=gamma, gae_lambda=lam,\n",
    "                    log_dir='logs')"
   ]
  },
  {
   "cell_type": "code",
   "execution_count": null,
   "metadata": {},
   "outputs": [],
   "source": [
    "num_ite = 200\n",
    "sensei_ppo.train(num_ite, batch_size=256)"
   ]
  },
  {
   "cell_type": "markdown",
   "metadata": {},
   "source": [
    "# Vanilla Policy Gradient"
   ]
  },
  {
   "cell_type": "markdown",
   "metadata": {},
   "source": [
    "## Initialization"
   ]
  },
  {
   "cell_type": "code",
   "execution_count": null,
   "metadata": {},
   "outputs": [],
   "source": [
    "actor_vpg = GaussianActor(obs_dim, act_dim) if is_continuous else CategoricalActor(obs_dim, act_dim)\n",
    "critic_vpg = Critic(obs_dim)\n",
    "jen_vpg = VPG_Agent(actor_vpg, critic_vpg, is_continuous, act_dim)\n",
    "generator_vpg = rollouts_generator(jen_vpg, env, is_continuous, horizon=2048)\n",
    "\n",
    "alg_name = \"VPG\"\n",
    "lam = 0.95\n",
    "gamma = 0.99\n",
    "epochs_actor = 1\n",
    "epochs_critic = 40\n",
    "sensei_vpg = Sensei(jen_vpg, alg_name, env_fn,\n",
    "                    horizon=2048, epochs_actor=epochs_actor, epochs_critic=epochs_critic,\n",
    "                    gamma=gamma, gae_lambda=lam,\n",
    "                    log_dir='logs')"
   ]
  },
  {
   "cell_type": "markdown",
   "metadata": {},
   "source": [
    "# Training loop"
   ]
  },
  {
   "cell_type": "code",
   "execution_count": null,
   "metadata": {},
   "outputs": [],
   "source": [
    "num_ite = 100\n",
    "sensei_vpg.train(num_ite, batch_size=256)"
   ]
  },
  {
   "cell_type": "code",
   "execution_count": null,
   "metadata": {
    "scrolled": true
   },
   "outputs": [],
   "source": [
    "num_ite = 50\n",
    "sensei_vpg.train(num_ite, record=False, batch_size=256)"
   ]
  },
  {
   "cell_type": "code",
   "execution_count": null,
   "metadata": {},
   "outputs": [],
   "source": [
    "def discount_cumsum(x, discount):\n",
    "    \"\"\"\n",
    "    magic from rllab for computing discounted cumulative sums of vectors.\n",
    "    input: \n",
    "        vector x, \n",
    "        [x0, \n",
    "         x1, \n",
    "         x2]\n",
    "    output:\n",
    "        [x0 + discount * x1 + discount^2 * x2,  \n",
    "         x1 + discount * x2,\n",
    "         x2]\n",
    "    \"\"\"\n",
    "    return scipy.signal.lfilter([1], [1, float(-discount)], x[::-1], axis=0)[::-1]"
   ]
  },
  {
   "cell_type": "code",
   "execution_count": null,
   "metadata": {},
   "outputs": [],
   "source": []
  },
  {
   "cell_type": "code",
   "execution_count": null,
   "metadata": {},
   "outputs": [],
   "source": [
    "rollout = generator_ppo.__next__()"
   ]
  },
  {
   "cell_type": "code",
   "execution_count": null,
   "metadata": {},
   "outputs": [],
   "source": [
    "gae, td = get_gaeadv_vtarg(rollout, 0.95, 0.99)"
   ]
  },
  {
   "cell_type": "code",
   "execution_count": null,
   "metadata": {},
   "outputs": [],
   "source": [
    "rews, vals = rollout[\"rew\"][:198], rollout[\"vpred\"][:198]\n",
    "rews = np.append(rews, rollout[\"vpred\"])\n",
    "vals = np.append(vals, rollout[\"next_vpred\"])\n",
    "deltas = rews[:-1] + 0.99 * vals[1:] - vals[:-1]\n",
    "gae2 = discount_cumsum(deltas, 0.99*0.95)"
   ]
  },
  {
   "cell_type": "code",
   "execution_count": null,
   "metadata": {},
   "outputs": [],
   "source": [
    "np.sum(gae2 - gae)"
   ]
  },
  {
   "cell_type": "code",
   "execution_count": null,
   "metadata": {},
   "outputs": [],
   "source": [
    "gae2"
   ]
  },
  {
   "cell_type": "code",
   "execution_count": null,
   "metadata": {},
   "outputs": [],
   "source": [
    "gae"
   ]
  },
  {
   "cell_type": "code",
   "execution_count": null,
   "metadata": {},
   "outputs": [],
   "source": [
    "gae-gae2"
   ]
  },
  {
   "cell_type": "code",
   "execution_count": null,
   "metadata": {},
   "outputs": [],
   "source": [
    "rollout[\"new\"][:198]"
   ]
  },
  {
   "cell_type": "code",
   "execution_count": null,
   "metadata": {},
   "outputs": [],
   "source": [
    "act_dim"
   ]
  },
  {
   "cell_type": "code",
   "execution_count": null,
   "metadata": {},
   "outputs": [],
   "source": [
    "jen_vpg.actor_step"
   ]
  },
  {
   "cell_type": "code",
   "execution_count": null,
   "metadata": {},
   "outputs": [],
   "source": [
    "env.action_space.sample()"
   ]
  },
  {
   "cell_type": "code",
   "execution_count": null,
   "metadata": {},
   "outputs": [],
   "source": [
    "b = np.array([1,2])\n",
    "b[:1]"
   ]
  },
  {
   "cell_type": "code",
   "execution_count": null,
   "metadata": {},
   "outputs": [],
   "source": [
    "b[-1:]"
   ]
  },
  {
   "cell_type": "code",
   "execution_count": null,
   "metadata": {},
   "outputs": [],
   "source": [
    "limits = np.array([[-5, 5], [-10, 10]])\n",
    "ac = np.array([2, -19])\n",
    "\n",
    "print(limits[0,:])\n",
    "np.clip(ac, limits[:, 0], limits[:, 1])"
   ]
  },
  {
   "cell_type": "code",
   "execution_count": null,
   "metadata": {},
   "outputs": [],
   "source": []
  }
 ],
 "metadata": {
  "kernelspec": {
   "display_name": "Python 3",
   "language": "python",
   "name": "python3"
  },
  "language_info": {
   "codemirror_mode": {
    "name": "ipython",
    "version": 3
   },
   "file_extension": ".py",
   "mimetype": "text/x-python",
   "name": "python",
   "nbconvert_exporter": "python",
   "pygments_lexer": "ipython3",
   "version": "3.6.8"
  }
 },
 "nbformat": 4,
 "nbformat_minor": 2
}
