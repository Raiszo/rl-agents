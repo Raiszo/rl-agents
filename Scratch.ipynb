{
 "cells": [
  {
   "cell_type": "code",
   "execution_count": 61,
   "metadata": {},
   "outputs": [
    {
     "name": "stdout",
     "output_type": "stream",
     "text": [
      "The autoreload extension is already loaded. To reload it, use:\n",
      "  %reload_ext autoreload\n"
     ]
    }
   ],
   "source": [
    "import tensorflow as tf\n",
    "import gym\n",
    "import numpy as np\n",
    "from tensorflow_probability import distributions as dists\n",
    "import tensorflow.keras.layers as kl\n",
    "\n",
    "from rl_agents.env_utils import rollouts_generator, get_adv_vtarg\n",
    "from rl_agents.ppo.policy import Actor, Critic\n",
    "from rl_agents.ppo.agent import PPO_Agent\n",
    "\n",
    "# for auto-reloading external modules\n",
    "# see http://stackoverflow.com/questions/1907993/autoreload-of-modules-in-ipython\n",
    "%load_ext autoreload\n",
    "%autoreload 2\n",
    "\n",
    "tf.random.set_seed(0)"
   ]
  },
  {
   "cell_type": "code",
   "execution_count": 62,
   "metadata": {},
   "outputs": [],
   "source": [
    "env = gym.make('Pendulum-v0')\n",
    "is_continuous = isinstance(env.action_space, gym.spaces.Box)\n",
    "obs_dim = env.observation_space.shape\n",
    "act_dim = env.action_space.shape"
   ]
  },
  {
   "cell_type": "code",
   "execution_count": 63,
   "metadata": {},
   "outputs": [],
   "source": [
    "actor = Actor(obs_dim, act_dim, is_continuous)\n",
    "critic = Critic(obs_dim)\n",
    "vero = PPO_Agent(actor, critic)"
   ]
  },
  {
   "cell_type": "code",
   "execution_count": 64,
   "metadata": {},
   "outputs": [],
   "source": [
    "generator = rollouts_generator(vero, env, horizon=2048)\n",
    "rollout = generator.__next__()"
   ]
  },
  {
   "cell_type": "code",
   "execution_count": 65,
   "metadata": {},
   "outputs": [],
   "source": [
    "advantage, target_value = get_adv_vtarg(rollout, lam=0.95, gamma=0.99)"
   ]
  },
  {
   "cell_type": "code",
   "execution_count": 66,
   "metadata": {},
   "outputs": [
    {
     "name": "stdout",
     "output_type": "stream",
     "text": [
      "ratio: 1\n",
      "ratio: 1.0002220736139966\n",
      "ratio: 1.000821819882151\n",
      "ratio: 0.99941570137578351\n",
      "ratio: 1.0029618736356261\n",
      "ratio: 1.0008034525190732\n",
      "ratio: 0.99880714940146542\n",
      "ratio: 0.99642975145576052\n",
      "ratio: 0.99991070827547412\n",
      "ratio: 0.9965896842720281\n",
      "ratio: 1.0009503583676711\n",
      "ratio: 0.9999652829090161\n",
      "ratio: 0.99538609720992888\n",
      "ratio: 0.99869287104913429\n",
      "ratio: 1.0014511860669066\n",
      "ratio: 1.0041919006031608\n",
      "ratio: 1.000266283529982\n",
      "ratio: 1.0065575418362083\n",
      "ratio: 0.99855082092521563\n",
      "ratio: 0.996354249329997\n",
      "ratio: 0.99485256259149257\n",
      "ratio: 0.99854199669763211\n",
      "ratio: 1.002710114813929\n",
      "ratio: 1.0122081963728538\n",
      "ratio: 1.0060392069143616\n",
      "ratio: 1.0102116742705034\n",
      "ratio: 0.998385379103362\n",
      "ratio: 1.0018994864175386\n",
      "ratio: 1.0012905166846637\n",
      "ratio: 1.00183017827744\n",
      "ratio: 1.0009652956019162\n",
      "ratio: 0.99938074321991066\n",
      "ratio: 1.0030329573368961\n",
      "ratio: 1.0116941127316781\n",
      "ratio: 1.0067450334372721\n",
      "ratio: 0.998611414906235\n",
      "ratio: 1.0103327045610122\n",
      "ratio: 1.0033907416453156\n",
      "ratio: 0.99718169084731512\n",
      "ratio: 0.99124597405306958\n",
      "ratio: 0.999903118770287\n",
      "ratio: 0.99223969580419125\n",
      "ratio: 1.0032140574465269\n",
      "ratio: 0.99982960803164866\n",
      "ratio: 0.98960530439885819\n",
      "ratio: 0.99698337787848779\n",
      "ratio: 1.0045435392815498\n",
      "ratio: 1.0134349080373575\n",
      "ratio: 1.0007646580438156\n",
      "ratio: 1.0154687971697391\n",
      "ratio: 0.99614821855428659\n",
      "ratio: 0.99167863589676863\n",
      "ratio: 0.989522705295047\n",
      "ratio: 0.99531830371831165\n",
      "ratio: 1.0074043391340961\n",
      "ratio: 1.0361377268897578\n",
      "ratio: 1.0166449008616274\n",
      "ratio: 1.0262604798249639\n",
      "ratio: 0.99543683575885011\n",
      "ratio: 1.0050050663265511\n",
      "ratio: 1.003448496359918\n",
      "ratio: 1.0046780307331753\n",
      "ratio: 1.0023666080394324\n",
      "ratio: 0.99824013606539919\n"
     ]
    }
   ],
   "source": [
    "vero.run_epoch(rollout['ob'], rollout['ac'], rollout['log_probs'], target_value, advantage, epochs=2)"
   ]
  },
  {
   "cell_type": "code",
   "execution_count": 39,
   "metadata": {},
   "outputs": [
    {
     "name": "stdout",
     "output_type": "stream",
     "text": [
      "tf.Tensor([-0.42190623], shape=(1,), dtype=float64)\n",
      "tf.Tensor([[-0.42190623]], shape=(1, 1), dtype=float64)\n",
      "tf.Tensor([[0.88893853]], shape=(1, 1), dtype=float64)\n"
     ]
    }
   ],
   "source": [
    "obs = env.reset()\n",
    "ac, v, lp = vero.act_stochastic(obs)\n",
    "print(lp)\n",
    "l = vero.get_distributions(obs[None])\n",
    "print(l.log_prob(ac))\n",
    "print(l.entropy())"
   ]
  },
  {
   "cell_type": "code",
   "execution_count": 8,
   "metadata": {},
   "outputs": [
    {
     "name": "stdout",
     "output_type": "stream",
     "text": [
      "float32\n"
     ]
    }
   ],
   "source": [
    "ac = env.action_space.sample()\n",
    "print(ac.dtype)"
   ]
  },
  {
   "cell_type": "code",
   "execution_count": 9,
   "metadata": {},
   "outputs": [
    {
     "name": "stdout",
     "output_type": "stream",
     "text": [
      "<class 'numpy.float64'>\n"
     ]
    }
   ],
   "source": [
    "print(np.float64)"
   ]
  },
  {
   "cell_type": "code",
   "execution_count": 10,
   "metadata": {},
   "outputs": [],
   "source": [
    "import tensorflow_probability as tfp"
   ]
  },
  {
   "cell_type": "code",
   "execution_count": 11,
   "metadata": {},
   "outputs": [],
   "source": [
    "tfd = tfp.distributions\n"
   ]
  },
  {
   "cell_type": "code",
   "execution_count": 12,
   "metadata": {},
   "outputs": [],
   "source": [
    "dist = tfd.Normal(loc=np.array([0., 1, 2, 0.5]), scale=np.array([0.02, 0.09, 0.1, 1]))"
   ]
  },
  {
   "cell_type": "code",
   "execution_count": 13,
   "metadata": {},
   "outputs": [
    {
     "data": {
      "text/plain": [
       "<tf.Tensor: id=171838, shape=(4,), dtype=float64, numpy=array([0.01061005, 0.96683973, 2.05509682, 1.26374006])>"
      ]
     },
     "execution_count": 13,
     "metadata": {},
     "output_type": "execute_result"
    }
   ],
   "source": [
    "dist.sample()\n"
   ]
  },
  {
   "cell_type": "code",
   "execution_count": 14,
   "metadata": {},
   "outputs": [
    {
     "data": {
      "text/plain": [
       "(3,)"
      ]
     },
     "execution_count": 14,
     "metadata": {},
     "output_type": "execute_result"
    }
   ],
   "source": [
    "obs_dim"
   ]
  },
  {
   "cell_type": "code",
   "execution_count": null,
   "metadata": {},
   "outputs": [],
   "source": []
  }
 ],
 "metadata": {
  "kernelspec": {
   "display_name": "Python 3",
   "language": "python",
   "name": "python3"
  },
  "language_info": {
   "codemirror_mode": {
    "name": "ipython",
    "version": 3
   },
   "file_extension": ".py",
   "mimetype": "text/x-python",
   "name": "python",
   "nbconvert_exporter": "python",
   "pygments_lexer": "ipython3",
   "version": "3.6.7"
  }
 },
 "nbformat": 4,
 "nbformat_minor": 2
}
