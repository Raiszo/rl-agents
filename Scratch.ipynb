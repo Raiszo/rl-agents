{
 "cells": [
  {
   "cell_type": "code",
   "execution_count": 1,
   "metadata": {},
   "outputs": [],
   "source": [
    "import tensorflow as tf\n",
    "import gym\n",
    "import numpy as np\n",
    "import datetime\n",
    "\n",
    "# from rl_agents.env_utils import rollouts_generator, get_adv_vtarg, get_gaeadv_vtarg\n",
    "from rl_agents.vpg.agent import VPG_Agent\n",
    "from rl_agents.ppo.agent import PPO_Agent\n",
    "from rl_agents.training.buffers import GAE_Buffer\n",
    "from rl_agents.training.sensei import Sensei, ExperimentRunner\n",
    "from rl_agents.utils import get_actor_critic\n",
    "\n",
    "# for auto-reloading external modules\n",
    "# see http://stackoverflow.com/questions/1907993/autoreload-of-modules-in-ipython\n",
    "%load_ext autoreload\n",
    "%autoreload 2\n",
    "\n",
    "tf.random.set_seed(0)\n",
    "tf.keras.backend.set_floatx('float32')"
   ]
  },
  {
   "cell_type": "markdown",
   "metadata": {},
   "source": [
    "## Create GYM environment\n",
    "Use Pendulum-v0 for now"
   ]
  },
  {
   "cell_type": "code",
   "execution_count": 2,
   "metadata": {},
   "outputs": [],
   "source": [
    "# env_fn = lambda: gym.make('MountainCarContinuous-v0')\n",
    "env_fn = lambda: gym.make('Pendulum-v0')\n",
    "# env_fn = lambda: gym.make('MountainCar-v0')\n",
    "# env_fn = lambda: gym.make('CartPole-v0')\n",
    "# env_fn = lambda: gym.make('LunarLanderContinuous-v2')\n",
    "# env_fn = lambda: gym.make('Acrobot-v1')\n",
    "env = env_fn()\n",
    "# continuous = check_if_continuous(env)\n",
    "obs_dim = env.observation_space.shape\n",
    "act_dim = env.action_space.shape or env.action_space.n"
   ]
  },
  {
   "cell_type": "code",
   "execution_count": 10,
   "metadata": {},
   "outputs": [],
   "source": [
    "buff = GAE_Buffer(obs_dim, act_dim, 128, gamma=0.99, lam=0.95)\n",
    "actor_vpg, critic_vpg = get_actor_critic(env)\n",
    "jen_vpg = VPG_Agent(actor_vpg, critic_vpg, act_dim)\n",
    "\n",
    "alg_name = \"VPG\"\n",
    "lam = 0.95\n",
    "gamma = 0.99\n",
    "epochs_actor = 1\n",
    "epochs_critic = 40\n",
    "sensei_vpg = Sensei(jen_vpg, alg_name, env_fn, buff,\n",
    "                    epochs_actor=epochs_actor, epochs_critic=epochs_critic,\n",
    "                    gamma=gamma, gae_lambda=lam,\n",
    "                    log_dir='logs')"
   ]
  },
  {
   "cell_type": "code",
   "execution_count": 11,
   "metadata": {},
   "outputs": [
    {
     "name": "stdout",
     "output_type": "stream",
     "text": [
      "WARNING:tensorflow:Layer Actor is casting an input tensor from dtype float64 to the layer's dtype of float32, which is new behavior in TensorFlow 2.  The layer has dtype float32 because it's dtype defaults to floatx.\n",
      "\n",
      "If you intended to run this layer in float32, you can safely ignore this warning. If in doubt, this warning is likely only an issue if you are porting a TensorFlow 1.X model to TensorFlow 2.\n",
      "\n",
      "To change all layers to have dtype float64 by default, call `tf.keras.backend.set_floatx('float64')`. To change just this layer, pass dtype='float64' to the layer constructor. If you are the author of this layer, you can disable autocasting by passing autocast=False to the base Layer constructor.\n",
      "\n",
      "WARNING:tensorflow:Layer Critic is casting an input tensor from dtype float64 to the layer's dtype of float32, which is new behavior in TensorFlow 2.  The layer has dtype float32 because it's dtype defaults to floatx.\n",
      "\n",
      "If you intended to run this layer in float32, you can safely ignore this warning. If in doubt, this warning is likely only an issue if you are porting a TensorFlow 1.X model to TensorFlow 2.\n",
      "\n",
      "To change all layers to have dtype float64 by default, call `tf.keras.backend.set_floatx('float64')`. To change just this layer, pass dtype='float64' to the layer constructor. If you are the author of this layer, you can disable autocasting by passing autocast=False to the base Layer constructor.\n",
      "\n",
      "-7.735892803872923\n",
      "-7.975393351916364\n",
      "-8.291876157452897\n",
      "-8.689285915321332\n",
      "-9.081200431982651\n",
      "-9.638060306516367\n",
      "-10.106190246506259\n",
      "-9.60833013780907\n",
      "-9.092634301318466\n",
      "-8.61193448425629\n",
      "-8.194828145673954\n",
      "-7.834844587351533\n",
      "-7.554124089178629\n",
      "-7.360271328753454\n",
      "-7.280059726867686\n",
      "-7.323122438637384\n",
      "-7.514599544816472\n",
      "-7.838716889136695\n",
      "-8.336215123148335\n",
      "-8.990834514680133\n",
      "-9.724712961257994\n",
      "-10.261843616845963\n",
      "-9.56469350217073\n",
      "-8.88933217159901\n",
      "-8.252879185687656\n",
      "-7.654734763560922\n",
      "-7.110339847495342\n",
      "-6.711166812843333\n",
      "-6.368291520357651\n",
      "-6.100314428881616\n",
      "-5.951524762463073\n",
      "-5.9686343762251655\n",
      "-6.151911808327376\n",
      "-6.467045555035428\n",
      "-6.9848527018567586\n",
      "-7.611128448718901\n",
      "-8.413281416056954\n",
      "-9.350482547792678\n",
      "-10.374523286769367\n",
      "-10.210073218529661\n",
      "-9.292600018784453\n",
      "-8.393497929360402\n",
      "-7.52390384344827\n",
      "-6.728764620308086\n",
      "-6.072170770156002\n",
      "-5.5717191783795315\n",
      "-5.309070540624018\n",
      "-5.278140003417694\n",
      "-5.428093797786478\n",
      "-5.749756726809013\n",
      "-6.313913216478394\n",
      "-7.188646316273816\n",
      "-8.064612882716629\n",
      "-9.10205691054332\n",
      "-10.348474816224098\n",
      "-10.731489791139548\n",
      "-9.709667033372739\n",
      "-8.635356517879707\n",
      "-7.572051467569206\n",
      "-6.683393853085413\n",
      "-5.765088893573651\n",
      "-5.016645018933294\n",
      "-4.44826843661821\n",
      "-4.095391106749775\n",
      "-3.916589492454701\n",
      "-3.929448481997805\n",
      "-4.1560490873397775\n",
      "-4.581175309191899\n",
      "-5.2733345449162945\n",
      "-6.198035292126998\n",
      "-7.409827739886744\n",
      "-8.783622366093251\n",
      "-10.21050107533192\n",
      "-11.80815042617183\n",
      "-10.59414271860482\n",
      "-9.288991420427228\n",
      "-7.930312014945538\n",
      "-6.825361517670755\n",
      "-5.724054782045027\n",
      "-4.773882745766873\n",
      "-4.013784454692307\n",
      "-3.499926948136272\n",
      "-3.2403126928624384\n",
      "-3.250785371115479\n",
      "-3.5373396415852896\n",
      "-4.04586185593874\n",
      "-4.871985215774054\n",
      "-6.00843624648591\n",
      "-7.356591552823105\n",
      "-8.932369577082827\n",
      "-10.686413279003107\n",
      "-12.576779243289854\n",
      "-11.022771453282617\n",
      "-9.443741995114635\n",
      "-7.932225072141157\n",
      "-6.513175085053267\n",
      "-5.324123387650967\n",
      "-4.319059594997739\n",
      "-3.5209343607532912\n",
      "-2.949315648146557\n",
      "-2.6216261597119055\n",
      "-2.4795353607398365\n",
      "-2.602023555901553\n",
      "-2.960206620727696\n",
      "-3.52933471475531\n",
      "-4.442577681090955\n",
      "-5.704157175877717\n",
      "-7.295900421941825\n",
      "-9.020848175266963\n",
      "-10.954860412793034\n",
      "-13.063998685219811\n",
      "-11.678820294668807\n",
      "-9.969600138839919\n",
      "-8.24354687955368\n",
      "-6.6645612508322385\n",
      "-5.236190882606846\n",
      "-4.007311509521532\n",
      "-3.1570716260992375\n",
      "-2.5438848649233514\n",
      "-2.1111912647212447\n",
      "-1.8350031509439102\n",
      "-1.7145824950554938\n",
      "-1.77223584413761\n",
      "-2.0854614851304314\n",
      "-2.645526622488444\n",
      "-3.459244241836846\n",
      "-4.690353569287316\n",
      "-6.273369935940907\n",
      "[]\n",
      "-8.298506041086966\n",
      "-10.640081357452571\n",
      "-12.954655676721602\n",
      "-13.491683041981942\n",
      "-11.516065840746906\n",
      "-9.547126550451571\n",
      "-7.684348496942196\n",
      "-6.090971717238549\n",
      "-4.715346879595703\n",
      "-3.6083591089869222\n",
      "-2.6120400299339708\n",
      "-1.919940472102734\n",
      "-1.401988517302034\n",
      "-0.957621868885656\n",
      "-0.6770498561881129\n",
      "-0.5267735789947423\n",
      "-0.4330172387251934\n",
      "-0.4435405253621683\n",
      "-0.5308905003020968\n",
      "-0.7231465640956667\n",
      "-1.0940054329370734\n",
      "-1.695063750345625\n",
      "-2.4994533819658096\n",
      "-3.623718364971293\n",
      "-5.195433464887305\n",
      "-6.920756612434975\n",
      "-9.318784583309965\n",
      "-12.110191065751303\n",
      "-15.080621135057184\n",
      "-14.597016141247629\n",
      "-12.184485717553049\n",
      "-9.9411478159376\n",
      "-7.877154017899974\n",
      "-6.0060290771797495\n",
      "-4.299635001265394\n",
      "-3.151986477832954\n",
      "-2.342834549876807\n",
      "-1.7005479373021142\n",
      "-1.32119623657205\n",
      "-1.113002658012421\n",
      "-1.0060767887175224\n",
      "-0.9085635512212163\n",
      "-0.9852702851203902\n",
      "-1.2507914684911614\n",
      "-1.6478272440875819\n",
      "-2.3002221802921547\n",
      "-3.215531731277356\n",
      "-4.6191788946837615\n",
      "-6.511525396472653\n",
      "-8.898584675707433\n",
      "-11.747281412047078\n",
      "-13.977267866061242\n",
      "-16.062329078810905\n",
      "-13.721455460647991\n",
      "-11.403881357669608\n",
      "-8.857111809592814\n",
      "-6.810317135093474\n",
      "-5.1920283992666\n",
      "-3.775571253201294\n",
      "-2.7937068568244743\n",
      "-2.0485366201035493\n",
      "-1.4933230023978203\n",
      "-1.2129237556572996\n",
      "-1.083329044799694\n",
      "-1.0243003079629074\n",
      "-1.11861223441577\n",
      "-1.4068934899150023\n",
      "-1.919135599181071\n",
      "-2.5456244281078666\n",
      "-3.4825066570806626\n",
      "-4.9311707474055195\n",
      "-6.673010891779384\n",
      "new\n",
      "-6.732254693291076\n",
      "-6.841041902273944\n",
      "-7.1246474018907175\n",
      "-7.617801217339882\n",
      "-8.148813680209267\n",
      "-8.878466657923797\n",
      "-9.706367616508611\n",
      "-10.447991247357473\n",
      "-9.682182595247992\n",
      "-8.897726060794312\n",
      "-8.106151014323244\n",
      "-7.444236003895855\n",
      "-6.816569892794703\n",
      "-6.3246886650324905\n",
      "-5.941768852965599\n",
      "-5.693881330062982\n",
      "-5.663586718266741\n",
      "-5.827344931638098\n",
      "-6.1824084170307945\n",
      "-6.715068598420202\n",
      "-7.443068468951257\n",
      "-8.404602155219644\n",
      "-9.542724495539767\n",
      "-10.774740282839144\n",
      "-10.287579768662495\n",
      "-9.27974939388122\n",
      "-8.239572245918888\n",
      "-7.260791937149943\n",
      "-6.366339557813895\n",
      "-5.517444024711522\n",
      "-4.782184059722694\n",
      "-4.335272095290656\n",
      "-4.093361558652683\n",
      "-4.075180669109238\n",
      "-4.265161210091739\n",
      "-4.6708893957371735\n",
      "-5.349675593726749\n",
      "-6.295373859862191\n",
      "-7.447609007110088\n",
      "-8.739219524697834\n",
      "-10.231424061599677\n",
      "-11.742279096241536\n",
      "-10.459852121697047\n",
      "-9.155674809494112\n",
      "-7.908146310094592\n",
      "-6.742225327240447\n",
      "-5.726361197223999\n",
      "-4.921646304369637\n",
      "-4.3204919458763476\n",
      "-4.013829866663008\n",
      "-3.9465675169801626\n",
      "-4.129980663939768\n",
      "-4.601408939394173\n",
      "-5.2997578663873135\n",
      "-6.289611123591783\n",
      "-7.557948325055182\n",
      "[-1246.885498768952]\n",
      "1 -1246.885498768952\n"
     ]
    }
   ],
   "source": [
    "num_ite = 2\n",
    "agent_params = {\n",
    "    \"actor_lr\": 3e-4, \n",
    "    \"critic_lr\": 1e-3\n",
    "}\n",
    "sensei_vpg.train(num_ite, agent_params, batch_size=256)"
   ]
  },
  {
   "cell_type": "markdown",
   "metadata": {},
   "source": [
    "# Testing buffer"
   ]
  },
  {
   "cell_type": "code",
   "execution_count": null,
   "metadata": {},
   "outputs": [],
   "source": [
    "buff = GAE_Buffer(obs_dim, act_dim, 20, gamma=0.99, lam=0.95)"
   ]
  },
  {
   "cell_type": "code",
   "execution_count": null,
   "metadata": {},
   "outputs": [],
   "source": [
    "actor_test, critic_test = get_actor_critic(env)"
   ]
  },
  {
   "cell_type": "code",
   "execution_count": null,
   "metadata": {},
   "outputs": [],
   "source": [
    "test_vpg = VPG_Agent(actor_test, critic_tes, act_dim)"
   ]
  },
  {
   "cell_type": "code",
   "execution_count": null,
   "metadata": {},
   "outputs": [],
   "source": [
    "test_runner = ExperimentRunner(test_vpg, env, buff)\n",
    "test_runner.num_ite = 1"
   ]
  },
  {
   "cell_type": "code",
   "execution_count": null,
   "metadata": {},
   "outputs": [],
   "source": [
    "for i, rollout in enumerate(test_runner):\n",
    "    print(i)"
   ]
  },
  {
   "cell_type": "markdown",
   "metadata": {},
   "source": [
    "# Vanilla Policy Gradient"
   ]
  },
  {
   "cell_type": "markdown",
   "metadata": {},
   "source": [
    "## Initialization"
   ]
  },
  {
   "cell_type": "code",
   "execution_count": null,
   "metadata": {},
   "outputs": [],
   "source": [
    "actor_vpg = GaussianActor(obs_dim, act_dim) if is_continuous else CategoricalActor(obs_dim, act_dim)\n",
    "critic_vpg = Critic(obs_dim)\n",
    "jen_vpg = VPG_Agent(actor_vpg, critic_vpg, is_continuous, act_dim)\n",
    "generator_vpg = rollouts_generator(jen_vpg, env, is_continuous, horizon=2048)\n",
    "\n",
    "alg_name = \"VPG\"\n",
    "lam = 0.95\n",
    "gamma = 0.99\n",
    "epochs_actor = 1\n",
    "epochs_critic = 40\n",
    "sensei_vpg = Sensei(jen_vpg, alg_name, env_fn,\n",
    "                    horizon=2048, epochs_actor=epochs_actor, epochs_critic=epochs_critic,\n",
    "                    gamma=gamma, gae_lambda=lam,\n",
    "                    log_dir='logs')"
   ]
  },
  {
   "cell_type": "markdown",
   "metadata": {},
   "source": [
    "# Training loop"
   ]
  },
  {
   "cell_type": "code",
   "execution_count": null,
   "metadata": {},
   "outputs": [],
   "source": [
    "num_ite = 100\n",
    "sensei_vpg.train(num_ite, batch_size=256)"
   ]
  },
  {
   "cell_type": "code",
   "execution_count": null,
   "metadata": {
    "scrolled": true
   },
   "outputs": [],
   "source": [
    "num_ite = 50\n",
    "sensei_vpg.train(num_ite, record=False, batch_size=256)"
   ]
  },
  {
   "cell_type": "code",
   "execution_count": null,
   "metadata": {},
   "outputs": [],
   "source": [
    "def discount_cumsum(x, discount):\n",
    "    \"\"\"\n",
    "    magic from rllab for computing discounted cumulative sums of vectors.\n",
    "    input: \n",
    "        vector x, \n",
    "        [x0, \n",
    "         x1, \n",
    "         x2]\n",
    "    output:\n",
    "        [x0 + discount * x1 + discount^2 * x2,  \n",
    "         x1 + discount * x2,\n",
    "         x2]\n",
    "    \"\"\"\n",
    "    return scipy.signal.lfilter([1], [1, float(-discount)], x[::-1], axis=0)[::-1]"
   ]
  },
  {
   "cell_type": "code",
   "execution_count": null,
   "metadata": {},
   "outputs": [],
   "source": [
    "rollout = generator_ppo.__next__()"
   ]
  },
  {
   "cell_type": "code",
   "execution_count": null,
   "metadata": {},
   "outputs": [],
   "source": [
    "gae, td = get_gaeadv_vtarg(rollout, 0.95, 0.99)"
   ]
  },
  {
   "cell_type": "code",
   "execution_count": null,
   "metadata": {},
   "outputs": [],
   "source": [
    "rews, vals = rollout[\"rew\"][:198], rollout[\"vpred\"][:198]\n",
    "rews = np.append(rews, rollout[\"vpred\"])\n",
    "vals = np.append(vals, rollout[\"next_vpred\"])\n",
    "deltas = rews[:-1] + 0.99 * vals[1:] - vals[:-1]\n",
    "gae2 = discount_cumsum(deltas, 0.99*0.95)"
   ]
  },
  {
   "cell_type": "code",
   "execution_count": null,
   "metadata": {},
   "outputs": [],
   "source": [
    "np.sum(gae2 - gae)"
   ]
  },
  {
   "cell_type": "code",
   "execution_count": null,
   "metadata": {},
   "outputs": [],
   "source": [
    "gae2"
   ]
  },
  {
   "cell_type": "code",
   "execution_count": null,
   "metadata": {},
   "outputs": [],
   "source": [
    "gae"
   ]
  },
  {
   "cell_type": "code",
   "execution_count": null,
   "metadata": {},
   "outputs": [],
   "source": [
    "gae-gae2"
   ]
  },
  {
   "cell_type": "code",
   "execution_count": null,
   "metadata": {},
   "outputs": [],
   "source": [
    "rollout[\"new\"][:198]"
   ]
  },
  {
   "cell_type": "code",
   "execution_count": null,
   "metadata": {},
   "outputs": [],
   "source": [
    "act_dim"
   ]
  },
  {
   "cell_type": "code",
   "execution_count": null,
   "metadata": {},
   "outputs": [],
   "source": [
    "jen_vpg.actor_step"
   ]
  },
  {
   "cell_type": "code",
   "execution_count": null,
   "metadata": {},
   "outputs": [],
   "source": [
    "env.action_space.sample()"
   ]
  },
  {
   "cell_type": "code",
   "execution_count": null,
   "metadata": {},
   "outputs": [],
   "source": [
    "b = np.array([1,2])\n",
    "b[:1]"
   ]
  },
  {
   "cell_type": "code",
   "execution_count": null,
   "metadata": {},
   "outputs": [],
   "source": [
    "b[-1:]"
   ]
  },
  {
   "cell_type": "code",
   "execution_count": null,
   "metadata": {},
   "outputs": [],
   "source": [
    "limits = np.array([[-5, 5], [-10, 10]])\n",
    "ac = np.array([2, -19])\n",
    "\n",
    "print(limits[0,:])\n",
    "np.clip(ac, limits[:, 0], limits[:, 1])"
   ]
  },
  {
   "cell_type": "code",
   "execution_count": null,
   "metadata": {},
   "outputs": [],
   "source": []
  }
 ],
 "metadata": {
  "kernelspec": {
   "display_name": "Python 3",
   "language": "python",
   "name": "python3"
  },
  "language_info": {
   "codemirror_mode": {
    "name": "ipython",
    "version": 3
   },
   "file_extension": ".py",
   "mimetype": "text/x-python",
   "name": "python",
   "nbconvert_exporter": "python",
   "pygments_lexer": "ipython3",
   "version": "3.6.8"
  }
 },
 "nbformat": 4,
 "nbformat_minor": 2
}
