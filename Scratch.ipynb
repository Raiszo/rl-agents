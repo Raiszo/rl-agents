{
 "cells": [
  {
   "cell_type": "code",
   "execution_count": 2,
   "metadata": {},
   "outputs": [
    {
     "name": "stdout",
     "output_type": "stream",
     "text": [
      "The autoreload extension is already loaded. To reload it, use:\n",
      "  %reload_ext autoreload\n"
     ]
    }
   ],
   "source": [
    "import tensorflow as tf\n",
    "import gym\n",
    "import numpy as np\n",
    "import datetime\n",
    "\n",
    "# from rl_agents.env_utils import rollouts_generator, get_adv_vtarg, get_gaeadv_vtarg\n",
    "from rl_agents.vpg.agent import VPG_Agent\n",
    "from rl_agents.ppo.agent import PPO_Agent\n",
    "from rl_agents.training.buffers import GAE_Buffer\n",
    "from rl_agents.training.sensei import Sensei, ExperimentRunner\n",
    "from rl_agents.utils import get_actor_critic, simple_run\n",
    "\n",
    "# for auto-reloading external modules\n",
    "# see http://stackoverflow.com/questions/1907993/autoreload-of-modules-in-ipython\n",
    "%load_ext autoreload\n",
    "%autoreload 2\n",
    "\n",
    "tf.random.set_seed(0)\n",
    "tf.keras.backend.set_floatx('float32')"
   ]
  },
  {
   "cell_type": "markdown",
   "metadata": {},
   "source": [
    "## Create GYM environment\n",
    "Use Pendulum-v0 for now"
   ]
  },
  {
   "cell_type": "code",
   "execution_count": 3,
   "metadata": {},
   "outputs": [],
   "source": [
    "# env_fn = lambda: gym.make('MountainCarContinuous-v0')\n",
    "env_fn = lambda: gym.make('Pendulum-v0')\n",
    "# env_fn = lambda: gym.make('MountainCar-v0')\n",
    "# env_fn = lambda: gym.make('CartPole-v0')\n",
    "# env_fn = lambda: gym.make('LunarLanderContinuous-v2')\n",
    "# env_fn = lambda: gym.make('Acrobot-v1')\n",
    "env = env_fn()\n",
    "# continuous = check_if_continuous(env)\n",
    "obs_dim = env.observation_space.shape\n",
    "act_dim = env.action_space.shape or env.action_space.n"
   ]
  },
  {
   "cell_type": "code",
   "execution_count": 16,
   "metadata": {},
   "outputs": [
    {
     "data": {
      "text/plain": [
       "(1,)"
      ]
     },
     "execution_count": 16,
     "metadata": {},
     "output_type": "execute_result"
    }
   ],
   "source": [
    "act_dim"
   ]
  },
  {
   "cell_type": "code",
   "execution_count": 8,
   "metadata": {},
   "outputs": [],
   "source": [
    "buff_vpg = GAE_Buffer(obs_dim, act_dim, 4096, gamma=0.99, lam=0.95)\n",
    "actor_vpg, critic_vpg = get_actor_critic(env)\n",
    "jen_vpg = VPG_Agent(actor_vpg, critic_vpg)\n",
    "\n",
    "lam = 0.95\n",
    "gamma = 0.99\n",
    "epochs_actor = 1\n",
    "epochs_critic = 80\n",
    "sensei_vpg = Sensei(jen_vpg, env_fn, buff_vpg,\n",
    "                    epochs_actor=epochs_actor, epochs_critic=epochs_critic,\n",
    "                    gamma=gamma, gae_lambda=lam,\n",
    "                    log_dir='logs')"
   ]
  },
  {
   "cell_type": "code",
   "execution_count": 9,
   "metadata": {
    "scrolled": false
   },
   "outputs": [
    {
     "name": "stdout",
     "output_type": "stream",
     "text": [
      "WARNING:tensorflow:Layer Actor is casting an input tensor from dtype float64 to the layer's dtype of float32, which is new behavior in TensorFlow 2.  The layer has dtype float32 because it's dtype defaults to floatx.\n",
      "\n",
      "If you intended to run this layer in float32, you can safely ignore this warning. If in doubt, this warning is likely only an issue if you are porting a TensorFlow 1.X model to TensorFlow 2.\n",
      "\n",
      "To change all layers to have dtype float64 by default, call `tf.keras.backend.set_floatx('float64')`. To change just this layer, pass dtype='float64' to the layer constructor. If you are the author of this layer, you can disable autocasting by passing autocast=False to the base Layer constructor.\n",
      "\n",
      "WARNING:tensorflow:Layer Critic is casting an input tensor from dtype float64 to the layer's dtype of float32, which is new behavior in TensorFlow 2.  The layer has dtype float32 because it's dtype defaults to floatx.\n",
      "\n",
      "If you intended to run this layer in float32, you can safely ignore this warning. If in doubt, this warning is likely only an issue if you are porting a TensorFlow 1.X model to TensorFlow 2.\n",
      "\n",
      "To change all layers to have dtype float64 by default, call `tf.keras.backend.set_floatx('float64')`. To change just this layer, pass dtype='float64' to the layer constructor. If you are the author of this layer, you can disable autocasting by passing autocast=False to the base Layer constructor.\n",
      "\n",
      "0 -1790.0522716304483\n",
      "1 -1785.9532426761568\n",
      "2 -1726.697748910316\n",
      "3 -1762.0050326953817\n",
      "4 -1718.673698563708\n",
      "5 -1749.0945177519789\n",
      "6 -1699.3442147230076\n",
      "7 -1751.4122083084344\n",
      "8 -1705.3969673162542\n",
      "9 -1716.5896746863018\n",
      "10 -1768.8578928011893\n",
      "11 -1612.6796565209993\n",
      "12 -1234.8311613225342\n",
      "13 -1210.579997649159\n",
      "14 -1173.5401051246006\n",
      "15 -1340.565041959882\n",
      "16 -1302.5331749420288\n",
      "17 -1453.414981872646\n",
      "18 -1379.0029014074996\n",
      "19 -1523.7818819851204\n",
      "20 -1487.685816528778\n",
      "21 -1568.751474264595\n",
      "22 -1608.7063508827098\n",
      "23 -1581.5476193466989\n",
      "24 -1528.5185410949987\n",
      "25 -1583.2947982533365\n",
      "26 -1592.7997206218683\n",
      "27 -1611.5535160010993\n",
      "28 -1619.0091220170957\n",
      "29 -1615.1640710731215\n",
      "30 -1614.5717291637573\n",
      "31 -1610.2095518388128\n",
      "32 -1605.2591532993783\n",
      "33 -1621.934156279267\n",
      "34 -1593.4446065593638\n",
      "35 -1629.3473071196872\n",
      "36 -1609.710969882681\n",
      "37 -1624.7633738221148\n",
      "38 -1610.9609236251974\n",
      "39 -1614.8493128823077\n",
      "40 -1619.6116353264579\n",
      "41 -1619.028597716723\n",
      "42 -1611.3302502703962\n",
      "43 -1627.001109139741\n",
      "44 -1615.724580139354\n",
      "45 -1616.8110281304932\n",
      "46 -1611.1429847298996\n",
      "47 -1612.4120724569577\n",
      "48 -1630.6913876434005\n",
      "49 -1612.5631734273827\n",
      "50 -1612.4110708584128\n",
      "51 -1621.9436560891204\n",
      "52 -1626.1259061597939\n",
      "53 -1615.121601823839\n",
      "54 -1615.057908986515\n",
      "55 -1617.4132983609513\n",
      "56 -1623.9037799629243\n",
      "57 -1625.0990281480213\n",
      "58 -1598.7273291052525\n",
      "59 -1623.5656414422203\n",
      "60 -1624.431944873\n",
      "61 -1599.7379807232048\n",
      "62 -1624.3238886557824\n",
      "63 -1607.6433505275172\n",
      "64 -1614.2126939411426\n",
      "65 -1632.1235599789702\n",
      "66 -1620.1778012246896\n",
      "67 -1617.4049551690555\n",
      "68 -1637.848559549056\n",
      "69 -1610.2491135436187\n",
      "70 -1604.1830195519822\n",
      "71 -1623.7095368926637\n",
      "72 -1616.2094123195268\n",
      "73 -1620.811987160057\n",
      "74 -1620.926209317654\n",
      "75 -1619.3679133806406\n",
      "76 -1621.3748598255802\n",
      "77 -1601.5754839742426\n",
      "78 -1620.2544483482495\n",
      "79 -1621.5481841074663\n",
      "80 -1604.3755670025034\n",
      "81 -1614.4782393547503\n",
      "82 -1629.775334064844\n",
      "83 -1616.0274188712328\n",
      "84 -1608.9381826596834\n",
      "85 -1611.896185034921\n",
      "86 -1619.8852800616196\n",
      "87 -1594.660752727828\n",
      "88 -1619.0506982251627\n",
      "89 -1625.0146870505564\n",
      "90 -1625.4078240419847\n",
      "91 -1620.7139811654033\n",
      "92 -1602.5839735933855\n",
      "93 -1627.4758278401653\n",
      "94 -1618.4124132268748\n",
      "95 -1615.429241127754\n",
      "96 -1613.152489168226\n",
      "97 -1628.290349610044\n",
      "98 -1615.101881799093\n",
      "99 -1623.3123439046717\n",
      "100 -1620.070551933104\n",
      "101 -1636.839131207617\n",
      "102 -1624.5919204579482\n",
      "103 -1615.3693574791046\n",
      "104 -1615.943526510699\n",
      "105 -1624.6143995871796\n",
      "106 -1632.444948228729\n",
      "107 -1600.664283803439\n",
      "108 -1621.1912114755878\n",
      "109 -1609.6989498022851\n",
      "110 -1614.8601645706638\n",
      "111 -1621.8609937058886\n",
      "112 -1625.8952815220805\n",
      "113 -1622.3677610877894\n",
      "114 -1626.149344630716\n",
      "115 -1627.1018215869742\n",
      "116 -1634.350812598281\n",
      "117 -1622.3890105022954\n",
      "118 -1622.9183412365223\n",
      "119 -1617.2287151604437\n",
      "120 -1618.5584809318013\n",
      "121 -1627.3893913872698\n",
      "122 -1618.7490239907029\n",
      "123 -1627.7615201913786\n",
      "124 -1610.1016377428248\n",
      "125 -1619.7836237191896\n",
      "126 -1619.3076684525195\n",
      "127 -1616.5073761504214\n",
      "128 -1616.250369803722\n",
      "129 -1614.6764354092852\n",
      "130 -1613.9072533193469\n",
      "131 -1625.1268413804137\n",
      "132 -1618.8207792247379\n",
      "133 -1614.8306027139433\n",
      "134 -1624.1513516713735\n",
      "135 -1619.7323876873834\n",
      "136 -1633.682043831091\n",
      "137 -1613.5866252064998\n",
      "138 -1627.6555888536463\n",
      "139 -1615.429687294958\n",
      "140 -1638.414536112946\n",
      "141 -1621.264693165329\n",
      "142 -1620.4178211885317\n",
      "143 -1621.5064085208082\n",
      "144 -1625.5693871981964\n",
      "145 -1613.3711968641246\n",
      "146 -1634.9104833300312\n",
      "147 -1626.5660372431269\n",
      "148 -1640.8172482318018\n",
      "149 -1614.8785031358136\n",
      "150 -1633.942826872184\n",
      "151 -1616.1209383047956\n",
      "152 -1628.2379675233165\n",
      "153 -1616.7431528435518\n",
      "154 -1628.9546996269146\n",
      "155 -1628.5273266239205\n",
      "156 -1622.321628520129\n",
      "157 -1617.1483046956355\n",
      "158 -1622.3620342018953\n",
      "159 -1626.360697593921\n",
      "160 -1631.4079076156665\n",
      "161 -1618.1636097858313\n",
      "162 -1617.8264015254601\n",
      "163 -1636.5978875745593\n",
      "164 -1629.3782338729534\n",
      "165 -1630.8814587778368\n",
      "166 -1630.1112027225868\n",
      "167 -1629.0527941342782\n",
      "168 -1644.733468486954\n",
      "169 -1628.0412999203722\n",
      "170 -1627.773386932685\n",
      "171 -1631.2539623784903\n",
      "172 -1623.8546067972795\n",
      "173 -1623.9276708943623\n",
      "174 -1620.3150106268772\n",
      "175 -1616.0979076463575\n",
      "176 -1629.8434510802495\n",
      "177 -1630.5028529363162\n",
      "178 -1631.3906799146887\n",
      "179 -1612.2572334230797\n",
      "180 -1628.6953734821611\n",
      "181 -1618.8930274037966\n",
      "182 -1629.4958120079777\n",
      "183 -1625.7752114659636\n",
      "184 -1618.3065191132678\n",
      "185 -1633.3561654539683\n",
      "186 -1622.4845689732333\n",
      "187 -1622.1492115630022\n",
      "188 -1622.708607054947\n",
      "189 -1628.447388055225\n",
      "190 -1618.7964092404227\n",
      "191 -1624.4881045487093\n",
      "192 -1630.7610357736899\n",
      "193 -1628.923358823452\n",
      "194 -1630.3813532697875\n",
      "195 -1629.3436590370297\n",
      "196 -1630.1889676766177\n",
      "197 -1623.7096604887165\n",
      "198 -1614.484422584767\n",
      "199 -1611.936329075122\n"
     ]
    }
   ],
   "source": [
    "num_ite = 200\n",
    "sensei_vpg.train(num_ite, batch_size=128)"
   ]
  },
  {
   "cell_type": "code",
   "execution_count": 4,
   "metadata": {},
   "outputs": [],
   "source": [
    "buff_ppo = GAE_Buffer(obs_dim, act_dim, 2048, gamma=0.99, lam=0.95)\n",
    "actor_ppo, critic_ppo = get_actor_critic(env)\n",
    "jen_ppo = PPO_Agent(actor_ppo, critic_ppo, act_dim)\n",
    "\n",
    "lam = 0.95\n",
    "gamma = 0.99\n",
    "epochs_actor = 10\n",
    "epochs_critic = 80\n",
    "sensei_ppo = Sensei(jen_ppo, env_fn, buff_ppo,\n",
    "                    epochs_actor=epochs_actor, epochs_critic=epochs_critic,\n",
    "                    gamma=gamma, gae_lambda=lam,\n",
    "                    log_dir='logs')"
   ]
  },
  {
   "cell_type": "code",
   "execution_count": 5,
   "metadata": {},
   "outputs": [
    {
     "name": "stdout",
     "output_type": "stream",
     "text": [
      "WARNING:tensorflow:Layer Actor is casting an input tensor from dtype float64 to the layer's dtype of float32, which is new behavior in TensorFlow 2.  The layer has dtype float32 because it's dtype defaults to floatx.\n",
      "\n",
      "If you intended to run this layer in float32, you can safely ignore this warning. If in doubt, this warning is likely only an issue if you are porting a TensorFlow 1.X model to TensorFlow 2.\n",
      "\n",
      "To change all layers to have dtype float64 by default, call `tf.keras.backend.set_floatx('float64')`. To change just this layer, pass dtype='float64' to the layer constructor. If you are the author of this layer, you can disable autocasting by passing autocast=False to the base Layer constructor.\n",
      "\n",
      "WARNING:tensorflow:Layer Critic is casting an input tensor from dtype float64 to the layer's dtype of float32, which is new behavior in TensorFlow 2.  The layer has dtype float32 because it's dtype defaults to floatx.\n",
      "\n",
      "If you intended to run this layer in float32, you can safely ignore this warning. If in doubt, this warning is likely only an issue if you are porting a TensorFlow 1.X model to TensorFlow 2.\n",
      "\n",
      "To change all layers to have dtype float64 by default, call `tf.keras.backend.set_floatx('float64')`. To change just this layer, pass dtype='float64' to the layer constructor. If you are the author of this layer, you can disable autocasting by passing autocast=False to the base Layer constructor.\n",
      "\n",
      "0 20.63917525773196\n",
      "1 9.538812785388128\n",
      "2 9.460829493087557\n",
      "3 9.34703196347032\n",
      "4 9.290909090909091\n",
      "5 9.331818181818182\n",
      "6 9.333333333333334\n",
      "7 9.313636363636364\n",
      "8 9.351598173515981\n",
      "9 9.337899543378995\n",
      "10 9.378995433789955\n",
      "11 9.444444444444445\n",
      "12 9.285067873303168\n",
      "13 9.371559633027523\n",
      "14 25.65\n",
      "15 21.49473684210526\n",
      "16 15.694656488549619\n",
      "17 16.983193277310924\n",
      "18 15.930232558139535\n",
      "19 14.16551724137931\n",
      "20 16.75409836065574\n",
      "21 13.825503355704697\n",
      "22 17.435897435897434\n",
      "23 13.552631578947368\n",
      "24 17.19327731092437\n",
      "25 18.90740740740741\n",
      "26 22.98876404494382\n",
      "27 25.024390243902438\n",
      "28 22.32967032967033\n",
      "29 21.842105263157894\n",
      "30 20.48\n",
      "31 20.724489795918366\n",
      "32 20.61\n",
      "33 20.515151515151516\n",
      "34 20.386138613861387\n",
      "35 20.636363636363637\n",
      "36 20.176470588235293\n",
      "37 21.34375\n",
      "38 20.5\n",
      "39 20.07920792079208\n",
      "40 20.696969696969695\n",
      "41 20.77777777777778\n",
      "42 20.737373737373737\n",
      "43 20.0\n",
      "44 20.61\n",
      "45 20.8265306122449\n",
      "46 20.636363636363637\n",
      "47 20.15686274509804\n",
      "48 20.545454545454547\n",
      "49 20.636363636363637\n",
      "50 20.0\n",
      "51 20.346534653465348\n",
      "52 19.776699029126213\n",
      "53 20.396039603960396\n",
      "54 20.27\n",
      "55 20.346534653465348\n",
      "56 20.465346534653467\n",
      "57 20.07843137254902\n",
      "58 20.41\n",
      "59 20.707070707070706\n",
      "60 20.636363636363637\n",
      "61 19.78846153846154\n",
      "62 20.07920792079208\n",
      "63 19.807692307692307\n",
      "64 20.755102040816325\n",
      "65 20.019417475728154\n",
      "66 20.696969696969695\n",
      "67 20.247524752475247\n",
      "68 21.04123711340206\n",
      "69 20.77777777777778\n",
      "70 20.42\n",
      "71 19.78846153846154\n",
      "72 20.4\n",
      "73 19.576923076923077\n",
      "74 20.465346534653467\n",
      "75 20.785714285714285\n",
      "76 21.144329896907216\n",
      "77 20.376237623762375\n",
      "78 19.95098039215686\n",
      "79 19.65714285714286\n",
      "80 21.25\n",
      "81 20.767676767676768\n",
      "82 20.257425742574256\n",
      "83 20.35\n",
      "84 21.237113402061855\n",
      "85 20.656565656565657\n",
      "86 23.837209302325583\n",
      "87 26.115384615384617\n",
      "88 25.0\n",
      "89 22.118279569892472\n",
      "90 21.473684210526315\n",
      "91 20.836734693877553\n",
      "92 21.257731958762886\n",
      "93 20.42\n",
      "94 20.636363636363637\n",
      "95 20.757575757575758\n",
      "96 20.15686274509804\n",
      "97 20.8265306122449\n",
      "98 20.918367346938776\n",
      "99 20.287128712871286\n",
      "100 21.53684210526316\n",
      "101 21.061855670103093\n",
      "102 20.887755102040817\n",
      "103 20.36\n",
      "104 20.77777777777778\n",
      "105 20.425742574257427\n",
      "106 20.128712871287128\n",
      "107 20.63\n",
      "108 21.072164948453608\n",
      "109 20.464646464646464\n",
      "110 21.395833333333332\n",
      "111 20.366336633663366\n",
      "112 20.366336633663366\n",
      "113 20.646464646464647\n",
      "114 19.813725490196077\n",
      "115 20.02912621359223\n",
      "116 22.217391304347824\n",
      "117 39.80769230769231\n",
      "118 123.6875\n",
      "119 120.4375\n",
      "120 147.06666666666666\n",
      "121 76.25925925925925\n",
      "122 70.72413793103448\n",
      "123 49.73170731707317\n",
      "124 47.23255813953488\n",
      "125 46.40909090909091\n",
      "126 42.875\n",
      "127 44.80434782608695\n",
      "128 51.325\n",
      "129 52.282051282051285\n",
      "130 57.083333333333336\n",
      "131 46.93181818181818\n",
      "132 43.148936170212764\n",
      "133 40.509803921568626\n",
      "134 35.8421052631579\n",
      "135 32.70967741935484\n",
      "136 28.95774647887324\n",
      "137 27.6\n",
      "138 27.445945945945947\n",
      "139 28.19178082191781\n",
      "140 26.88157894736842\n",
      "141 26.363636363636363\n",
      "142 26.329113924050635\n",
      "143 26.789473684210527\n",
      "144 26.243589743589745\n",
      "145 26.68831168831169\n",
      "146 27.253333333333334\n",
      "147 26.037974683544302\n",
      "148 26.763157894736842\n",
      "149 27.293333333333333\n",
      "150 26.333333333333332\n",
      "151 26.063291139240505\n",
      "152 28.041095890410958\n",
      "153 31.338461538461537\n",
      "154 32.63492063492063\n",
      "155 33.95\n",
      "156 31.96875\n",
      "157 35.21052631578947\n",
      "158 35.52542372881356\n",
      "159 34.86440677966102\n",
      "160 34.15\n",
      "161 35.0\n",
      "162 32.375\n",
      "163 31.784615384615385\n",
      "164 33.0\n",
      "165 29.028169014084508\n",
      "166 32.61290322580645\n",
      "167 31.166666666666668\n",
      "168 31.12121212121212\n",
      "169 29.782608695652176\n",
      "170 31.890625\n",
      "171 29.1\n",
      "172 28.708333333333332\n",
      "173 28.87323943661972\n",
      "174 28.985714285714284\n",
      "175 30.71641791044776\n",
      "176 30.70149253731343\n",
      "177 27.89041095890411\n",
      "178 27.60810810810811\n",
      "179 27.56756756756757\n",
      "180 29.897058823529413\n",
      "181 28.561643835616437\n",
      "182 28.830985915492956\n",
      "183 28.901408450704224\n",
      "184 28.054794520547944\n",
      "185 27.675675675675677\n",
      "186 28.375\n",
      "187 27.12\n",
      "188 27.493333333333332\n",
      "189 27.513513513513512\n",
      "190 27.56\n",
      "191 27.513513513513512\n",
      "192 28.802816901408452\n",
      "193 27.453333333333333\n",
      "194 27.931506849315067\n",
      "195 27.89041095890411\n",
      "196 27.026315789473685\n",
      "197 27.72972972972973\n",
      "198 29.04225352112676\n",
      "199 27.14666666666667\n"
     ]
    }
   ],
   "source": [
    "num_ite = 200\n",
    "sensei_ppo.train(num_ite, batch_size=128)"
   ]
  },
  {
   "cell_type": "markdown",
   "metadata": {},
   "source": [
    "# Testing buffer"
   ]
  },
  {
   "cell_type": "code",
   "execution_count": null,
   "metadata": {},
   "outputs": [],
   "source": [
    "a = tf.keras.optimizers.Adam(3e-3)"
   ]
  },
  {
   "cell_type": "code",
   "execution_count": null,
   "metadata": {},
   "outputs": [],
   "source": [
    "a"
   ]
  },
  {
   "cell_type": "code",
   "execution_count": null,
   "metadata": {},
   "outputs": [],
   "source": [
    "buff = GAE_Buffer(obs_dim, act_dim, 20, gamma=0.99, lam=0.95)"
   ]
  },
  {
   "cell_type": "code",
   "execution_count": null,
   "metadata": {},
   "outputs": [],
   "source": [
    "actor_test, critic_test = get_actor_critic(env)"
   ]
  },
  {
   "cell_type": "code",
   "execution_count": null,
   "metadata": {},
   "outputs": [],
   "source": [
    "test_vpg = VPG_Agent(actor_test, critic_tes, act_dim)"
   ]
  },
  {
   "cell_type": "code",
   "execution_count": null,
   "metadata": {},
   "outputs": [],
   "source": [
    "test_runner = ExperimentRunner(test_vpg, env, buff)\n",
    "test_runner.num_ite = 1"
   ]
  },
  {
   "cell_type": "code",
   "execution_count": null,
   "metadata": {},
   "outputs": [],
   "source": [
    "for i, rollout in enumerate(test_runner):\n",
    "    print(i)"
   ]
  },
  {
   "cell_type": "code",
   "execution_count": null,
   "metadata": {},
   "outputs": [],
   "source": [
    "env = gym.make('Pendulum-v0')\n",
    "obs_dim = env.observation_space.shape\n",
    "act_dim = env.action_space.shape or env.action_space.n\n",
    "\n",
    "actor_vpg, critic_vpg = get_actor_critic(env)\n",
    "jen_vpg = VPG_Agent(actor_vpg, critic_vpg, act_dim)\n",
    "\n",
    "simple_run(env, jen_vpg)"
   ]
  },
  {
   "cell_type": "code",
   "execution_count": null,
   "metadata": {},
   "outputs": [],
   "source": [
    "buff_ppo = GAE_Buffer(obs_dim, act_dim, 2048, gamma=0.99, lam=0.95)\n",
    "actor_ppo, critic_ppo = get_actor_critic(env)\n",
    "jen_ppo = PPO_Agent(actor_ppo, critic_ppo, act_dim)\n",
    "\n",
    "lam = 0.95\n",
    "gamma = 0.99\n",
    "epochs_actor = 10\n",
    "epochs_critic = 80\n",
    "sensei_ppo = Sensei(jen_ppo, env_fn, buff_ppo,\n",
    "                    epochs_actor=epochs_actor, epochs_critic=epochs_critic,\n",
    "                    gamma=gamma, gae_lambda=lam,\n",
    "                    log_dir='logs')"
   ]
  },
  {
   "cell_type": "code",
   "execution_count": null,
   "metadata": {},
   "outputs": [],
   "source": [
    "num_ite = 200\n",
    "sensei_ppo.train(num_ite, batch_size=256)"
   ]
  },
  {
   "cell_type": "markdown",
   "metadata": {},
   "source": [
    "# Vanilla Policy Gradient"
   ]
  },
  {
   "cell_type": "markdown",
   "metadata": {},
   "source": [
    "## Initialization"
   ]
  },
  {
   "cell_type": "code",
   "execution_count": null,
   "metadata": {},
   "outputs": [],
   "source": [
    "actor_vpg = GaussianActor(obs_dim, act_dim) if is_continuous else CategoricalActor(obs_dim, act_dim)\n",
    "critic_vpg = Critic(obs_dim)\n",
    "jen_vpg = VPG_Agent(actor_vpg, critic_vpg, is_continuous, act_dim)\n",
    "generator_vpg = rollouts_generator(jen_vpg, env, is_continuous, horizon=2048)\n",
    "\n",
    "alg_name = \"VPG\"\n",
    "lam = 0.95\n",
    "gamma = 0.99\n",
    "epochs_actor = 1\n",
    "epochs_critic = 40\n",
    "sensei_vpg = Sensei(jen_vpg, alg_name, env_fn,\n",
    "                    horizon=2048, epochs_actor=epochs_actor, epochs_critic=epochs_critic,\n",
    "                    gamma=gamma, gae_lambda=lam,\n",
    "                    log_dir='logs')"
   ]
  },
  {
   "cell_type": "markdown",
   "metadata": {},
   "source": [
    "# Training loop"
   ]
  },
  {
   "cell_type": "code",
   "execution_count": null,
   "metadata": {},
   "outputs": [],
   "source": [
    "num_ite = 100\n",
    "sensei_vpg.train(num_ite, batch_size=256)"
   ]
  },
  {
   "cell_type": "code",
   "execution_count": null,
   "metadata": {
    "scrolled": true
   },
   "outputs": [],
   "source": [
    "num_ite = 50\n",
    "sensei_vpg.train(num_ite, record=False, batch_size=256)"
   ]
  },
  {
   "cell_type": "code",
   "execution_count": null,
   "metadata": {},
   "outputs": [],
   "source": [
    "def discount_cumsum(x, discount):\n",
    "    \"\"\"\n",
    "    magic from rllab for computing discounted cumulative sums of vectors.\n",
    "    input: \n",
    "        vector x, \n",
    "        [x0, \n",
    "         x1, \n",
    "         x2]\n",
    "    output:\n",
    "        [x0 + discount * x1 + discount^2 * x2,  \n",
    "         x1 + discount * x2,\n",
    "         x2]\n",
    "    \"\"\"\n",
    "    return scipy.signal.lfilter([1], [1, float(-discount)], x[::-1], axis=0)[::-1]"
   ]
  },
  {
   "cell_type": "code",
   "execution_count": null,
   "metadata": {},
   "outputs": [],
   "source": []
  },
  {
   "cell_type": "code",
   "execution_count": null,
   "metadata": {},
   "outputs": [],
   "source": [
    "rollout = generator_ppo.__next__()"
   ]
  },
  {
   "cell_type": "code",
   "execution_count": null,
   "metadata": {},
   "outputs": [],
   "source": [
    "gae, td = get_gaeadv_vtarg(rollout, 0.95, 0.99)"
   ]
  },
  {
   "cell_type": "code",
   "execution_count": null,
   "metadata": {},
   "outputs": [],
   "source": [
    "rews, vals = rollout[\"rew\"][:198], rollout[\"vpred\"][:198]\n",
    "rews = np.append(rews, rollout[\"vpred\"])\n",
    "vals = np.append(vals, rollout[\"next_vpred\"])\n",
    "deltas = rews[:-1] + 0.99 * vals[1:] - vals[:-1]\n",
    "gae2 = discount_cumsum(deltas, 0.99*0.95)"
   ]
  },
  {
   "cell_type": "code",
   "execution_count": null,
   "metadata": {},
   "outputs": [],
   "source": [
    "np.sum(gae2 - gae)"
   ]
  },
  {
   "cell_type": "code",
   "execution_count": null,
   "metadata": {},
   "outputs": [],
   "source": [
    "gae2"
   ]
  },
  {
   "cell_type": "code",
   "execution_count": null,
   "metadata": {},
   "outputs": [],
   "source": [
    "gae"
   ]
  },
  {
   "cell_type": "code",
   "execution_count": null,
   "metadata": {},
   "outputs": [],
   "source": [
    "gae-gae2"
   ]
  },
  {
   "cell_type": "code",
   "execution_count": null,
   "metadata": {},
   "outputs": [],
   "source": [
    "rollout[\"new\"][:198]"
   ]
  },
  {
   "cell_type": "code",
   "execution_count": null,
   "metadata": {},
   "outputs": [],
   "source": [
    "act_dim"
   ]
  },
  {
   "cell_type": "code",
   "execution_count": null,
   "metadata": {},
   "outputs": [],
   "source": [
    "jen_vpg.actor_step"
   ]
  },
  {
   "cell_type": "code",
   "execution_count": null,
   "metadata": {},
   "outputs": [],
   "source": [
    "env.action_space.sample()"
   ]
  },
  {
   "cell_type": "code",
   "execution_count": null,
   "metadata": {},
   "outputs": [],
   "source": [
    "b = np.array([1,2])\n",
    "b[:1]"
   ]
  },
  {
   "cell_type": "code",
   "execution_count": null,
   "metadata": {},
   "outputs": [],
   "source": [
    "b[-1:]"
   ]
  },
  {
   "cell_type": "code",
   "execution_count": null,
   "metadata": {},
   "outputs": [],
   "source": [
    "limits = np.array([[-5, 5], [-10, 10]])\n",
    "ac = np.array([2, -19])\n",
    "\n",
    "print(limits[0,:])\n",
    "np.clip(ac, limits[:, 0], limits[:, 1])"
   ]
  },
  {
   "cell_type": "code",
   "execution_count": null,
   "metadata": {},
   "outputs": [],
   "source": []
  }
 ],
 "metadata": {
  "kernelspec": {
   "display_name": "Python 3",
   "language": "python",
   "name": "python3"
  },
  "language_info": {
   "codemirror_mode": {
    "name": "ipython",
    "version": 3
   },
   "file_extension": ".py",
   "mimetype": "text/x-python",
   "name": "python",
   "nbconvert_exporter": "python",
   "pygments_lexer": "ipython3",
   "version": "3.6.8"
  }
 },
 "nbformat": 4,
 "nbformat_minor": 2
}
