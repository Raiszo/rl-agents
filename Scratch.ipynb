{
 "cells": [
  {
   "cell_type": "code",
   "execution_count": 1,
   "metadata": {},
   "outputs": [],
   "source": [
    "import tensorflow as tf\n",
    "import gym\n",
    "import numpy as np\n",
    "from tensorflow_probability import distributions as dists\n",
    "import tensorflow.keras.layers as kl\n",
    "\n",
    "# for auto-reloading external modules\n",
    "# see http://stackoverflow.com/questions/1907993/autoreload-of-modules-in-ipython\n",
    "%load_ext autoreload\n",
    "%autoreload 2\n",
    "\n",
    "tf.random.set_seed(0)"
   ]
  },
  {
   "cell_type": "code",
   "execution_count": 2,
   "metadata": {},
   "outputs": [],
   "source": [
    "env = gym.make('Pendulum-v0')\n",
    "is_continuous = isinstance(env.action_space, gym.spaces.Box)"
   ]
  },
  {
   "cell_type": "code",
   "execution_count": 3,
   "metadata": {},
   "outputs": [
    {
     "name": "stdout",
     "output_type": "stream",
     "text": [
      "1\n"
     ]
    }
   ],
   "source": [
    "action_dim = env.action_space.shape[0]\n",
    "print(action_dim)"
   ]
  },
  {
   "cell_type": "code",
   "execution_count": 4,
   "metadata": {},
   "outputs": [],
   "source": [
    "from rl_agents.ppo.policy import ContinuousSample"
   ]
  },
  {
   "cell_type": "code",
   "execution_count": 8,
   "metadata": {},
   "outputs": [
    {
     "name": "stdout",
     "output_type": "stream",
     "text": [
      "[[2.6097894]\n",
      " [2.0963311]]\n",
      "[[-0.95805526]\n",
      " [-0.4078633 ]]\n",
      "tfp.distributions.Normal(\"ContinuousSample/Normal/\", batch_shape=[2, 1], event_shape=[], dtype=float32)\n",
      "[[0.588605]]\n"
     ]
    }
   ],
   "source": [
    "a = env.action_space.sample()\n",
    "\n",
    "dist_layer = ContinuousSample(action_dim)\n",
    "\n",
    "y = dist_layer(np.array([a, a]))\n",
    "\n",
    "print(y[0].numpy())\n",
    "print(y[1].numpy())\n",
    "print(y[2])\n",
    "print(y[3].numpy())"
   ]
  },
  {
   "cell_type": "code",
   "execution_count": 6,
   "metadata": {},
   "outputs": [
    {
     "data": {
      "text/plain": [
       "0.5886049696783552"
      ]
     },
     "execution_count": 6,
     "metadata": {},
     "output_type": "execute_result"
    }
   ],
   "source": [
    "np.exp(-0.53)"
   ]
  },
  {
   "cell_type": "code",
   "execution_count": 9,
   "metadata": {},
   "outputs": [],
   "source": [
    "from rl_agents.ppo.policy import Actor"
   ]
  },
  {
   "cell_type": "code",
   "execution_count": 13,
   "metadata": {},
   "outputs": [
    {
     "data": {
      "text/plain": [
       "Box(3,)"
      ]
     },
     "execution_count": 13,
     "metadata": {},
     "output_type": "execute_result"
    }
   ],
   "source": [
    "env.observation_space"
   ]
  },
  {
   "cell_type": "code",
   "execution_count": 25,
   "metadata": {},
   "outputs": [
    {
     "name": "stdout",
     "output_type": "stream",
     "text": [
      "tf.Tensor([[0.20062875]], shape=(1, 1), dtype=float64) tf.Tensor([[-0.4194354]], shape=(1, 1), dtype=float64) tfp.distributions.Normal(\"Actor/ContinuousSample/Normal/\", batch_shape=[1, 1], event_shape=[], dtype=float64) <tf.Variable 'Variable:0' shape=(1, 1) dtype=float64, numpy=array([[0.58860497]])> tf.Tensor([[0.05526152]], shape=(1, 1), dtype=float64)\n"
     ]
    }
   ],
   "source": [
    "actor = Actor(env.observation_space.shape, env.action_space.shape, is_continuous)\n",
    "\n",
    "obs = env.reset()\n",
    "sample, log_prob, dist, std, logits = actor(obs[None])\n",
    "print(sample, log_prob, dist, std, logits)"
   ]
  },
  {
   "cell_type": "code",
   "execution_count": null,
   "metadata": {},
   "outputs": [],
   "source": []
  }
 ],
 "metadata": {
  "kernelspec": {
   "display_name": "Python 3",
   "language": "python",
   "name": "python3"
  },
  "language_info": {
   "codemirror_mode": {
    "name": "ipython",
    "version": 3
   },
   "file_extension": ".py",
   "mimetype": "text/x-python",
   "name": "python",
   "nbconvert_exporter": "python",
   "pygments_lexer": "ipython3",
   "version": "3.6.7"
  }
 },
 "nbformat": 4,
 "nbformat_minor": 2
}
