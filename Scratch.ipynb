{
 "cells": [
  {
   "cell_type": "code",
   "execution_count": 22,
   "metadata": {},
   "outputs": [
    {
     "name": "stdout",
     "output_type": "stream",
     "text": [
      "The autoreload extension is already loaded. To reload it, use:\n",
      "  %reload_ext autoreload\n",
      "The tensorboard.notebook extension is already loaded. To reload it, use:\n",
      "  %reload_ext tensorboard.notebook\n"
     ]
    }
   ],
   "source": [
    "import tensorflow as tf\n",
    "import gym\n",
    "import numpy as np\n",
    "from tensorflow_probability import distributions as dists\n",
    "import tensorflow.keras.layers as kl\n",
    "import datetime\n",
    "\n",
    "from rl_agents.env_utils import rollouts_generator, get_adv_vtarg\n",
    "from rl_agents.ppo.policy import Actor, Critic\n",
    "from rl_agents.ppo.agent import PPO_Agent\n",
    "\n",
    "# for auto-reloading external modules\n",
    "# see http://stackoverflow.com/questions/1907993/autoreload-of-modules-in-ipython\n",
    "%load_ext autoreload\n",
    "%autoreload 2\n",
    "%load_ext tensorboard.notebook\n",
    "\n",
    "tf.random.set_seed(0)"
   ]
  },
  {
   "cell_type": "markdown",
   "metadata": {},
   "source": [
    "## Create GYM environment\n",
    "Use Pendulum-v0 for now"
   ]
  },
  {
   "cell_type": "code",
   "execution_count": 23,
   "metadata": {},
   "outputs": [],
   "source": [
    "env = gym.make('Pendulum-v0')\n",
    "is_continuous = isinstance(env.action_space, gym.spaces.Box)\n",
    "obs_dim = env.observation_space.shape\n",
    "act_dim = env.action_space.shape"
   ]
  },
  {
   "cell_type": "code",
   "execution_count": 24,
   "metadata": {},
   "outputs": [],
   "source": [
    "actor = Actor(obs_dim, act_dim, is_continuous)\n",
    "critic = Critic(obs_dim)\n",
    "jen = PPO_Agent(actor, critic)\n",
    "generator = rollouts_generator(jen, env, horizon=2048)"
   ]
  },
  {
   "cell_type": "markdown",
   "metadata": {},
   "source": [
    "# Training loop"
   ]
  },
  {
   "cell_type": "code",
   "execution_count": 25,
   "metadata": {},
   "outputs": [],
   "source": [
    "num_ite = 200\n",
    "lam = 0.95\n",
    "gamma = 0.99\n",
    "num_epochs = 10\n",
    "\n",
    "current_time = datetime.datetime.now().strftime(\"%Y%m%d-%H%M%S\")\n",
    "train_log_dir = 'logs/gradient_tape/' + current_time + '/train'\n",
    "train_summary_writer = tf.summary.create_file_writer(train_log_dir)"
   ]
  },
  {
   "cell_type": "code",
   "execution_count": 28,
   "metadata": {},
   "outputs": [],
   "source": [
    "for i in range(num_ite):\n",
    "    rollout = generator.__next__()\n",
    "    advantage, target_value = get_adv_vtarg(rollout, lam=lam, gamma=gamma)\n",
    "    jen.run_ite(rollout['ob'], rollout['ac'], rollout['log_probs'], rollout['locs'], target_value, advantage,\n",
    "                 epochs=num_epochs)\n",
    "    with train_summary_writer.as_default():\n",
    "        tf.summary.scalar('reward mean', np.array(rollout[\"ep_rets\"]).mean(), step=i*num_epochs)\n",
    "    \n",
    "    if i % 50 == 0 or i == num_ite-1:\n",
    "        actor.save_weights(train_log_dir+'/_actor_'+str(i), save_format='tf')\n",
    "        critic.save_weights(train_log_dir+'/_critic_'+str(i), save_format='tf')\n",
    "    #    mean, std = rewards.mean(), rewards.std()\n",
    "    #    print('mean', mean)\n",
    "    #    print('std', std)"
   ]
  },
  {
   "cell_type": "code",
   "execution_count": 27,
   "metadata": {
    "scrolled": true
   },
   "outputs": [
    {
     "data": {
      "text/html": [
       "\n",
       "        <iframe\n",
       "            width=\"100%\"\n",
       "            height=\"800\"\n",
       "            src=\"http://localhost:8001\"\n",
       "            frameborder=\"0\"\n",
       "            allowfullscreen\n",
       "        ></iframe>\n",
       "        "
      ],
      "text/plain": [
       "<IPython.lib.display.IFrame at 0x7f5746b6add8>"
      ]
     },
     "metadata": {},
     "output_type": "display_data"
    }
   ],
   "source": [
    "%tensorboard --logdir logs/gradient_tape --port=8001"
   ]
  },
  {
   "cell_type": "code",
   "execution_count": 9,
   "metadata": {
    "scrolled": false
   },
   "outputs": [
    {
     "name": "stdout",
     "output_type": "stream",
     "text": [
      "#### iteration ### 0\n",
      "#### iteration ### 1\n",
      "#### iteration ### 2\n"
     ]
    }
   ],
   "source": [
    "actor2 = Actor(obs_dim, act_dim, is_continuous)\n",
    "critic2 = Critic(obs_dim)\n",
    "vero2 = PPO_Agent(actor2, critic2)\n",
    "generator2 = rollouts_generator(vero2, env, horizon=2048)\n",
    "\n",
    "num_ite = 200\n",
    "lam = 0.95\n",
    "gamma = 0.99\n",
    "num_epochs = 10\n",
    "\n",
    "for i in range(num_ite):\n",
    "    print('#### iteration ###', i)\n",
    "    rollout = generator2.__next__()\n",
    "    # print(rollout['ac'][0:10])\n",
    "    advantage, target_value = get_adv_vtarg(rollout, lam=lam, gamma=gamma)\n",
    "    vero2.run_ite(rollout['ob'], rollout['ac'], rollout['log_probs'], rollout['locs'], target_value, advantage,\n",
    "                  epochs=num_epochs)"
   ]
  },
  {
   "cell_type": "code",
   "execution_count": 13,
   "metadata": {},
   "outputs": [],
   "source": [
    "generator = rollouts_generator(jen, env, horizon=210)\n",
    "\n",
    "roll = generator.__next__()\n",
    "\n",
    "adv, tar = get_adv_vtarg(roll, lam=0.95, gamma=0.99)"
   ]
  },
  {
   "cell_type": "code",
   "execution_count": 14,
   "metadata": {},
   "outputs": [
    {
     "data": {
      "text/plain": [
       "dict_keys(['ob', 'ac', 'rew', 'new', 'vpred', 'next_vpred', 'ep_rets', 'ep_lens', 'log_probs', 'locs'])"
      ]
     },
     "execution_count": 14,
     "metadata": {},
     "output_type": "execute_result"
    }
   ],
   "source": [
    "roll.keys()"
   ]
  },
  {
   "cell_type": "code",
   "execution_count": 20,
   "metadata": {},
   "outputs": [
    {
     "data": {
      "text/plain": [
       "array([ -4.46303753,  -4.76982944,  -5.25897669,  -6.07663208,\n",
       "        -7.03088186,  -8.18696987,  -9.31243049, -10.69244418,\n",
       "       -10.95152102,  -9.7369286 ,  -8.52403479,  -7.33262405,\n",
       "        -6.33323444,  -5.46338617,  -4.81855076,  -4.31588751,\n",
       "        -3.96274289,  -3.78471415,  -3.82132724,  -4.06488331,\n",
       "        -4.4387805 ,  -5.12325702,  -5.94074073,  -6.92105055,\n",
       "        -8.1546692 ,  -9.62457392, -11.01847499, -11.03876518,\n",
       "        -9.67710229,  -8.35781227,  -7.23547672,  -6.23038877,\n",
       "        -5.35118174,  -4.74135091,  -4.34147534,  -4.15673628,\n",
       "        -4.20633771,  -4.40548795,  -4.77051669,  -5.4166298 ,\n",
       "        -6.2522507 ,  -7.21453707,  -8.30923869,  -9.48258746,\n",
       "       -10.94903283, -10.77487004,  -9.51685608,  -8.30952711,\n",
       "        -7.22602033,  -6.23932421,  -5.43136004,  -4.77019914,\n",
       "        -4.24789933,  -3.9483908 ,  -3.8455787 ,  -3.96949791,\n",
       "        -4.38951722,  -5.04225743,  -5.89600863,  -6.99138743,\n",
       "        -8.27813924,  -9.6631865 , -11.05091581, -10.94936959,\n",
       "        -9.66942724,  -8.47718108,  -7.26144686,  -6.21273862,\n",
       "        -5.34822847,  -4.62708987,  -4.17767784,  -4.00801431,\n",
       "        -4.03845413,  -4.33126674,  -4.89475284,  -5.54479774,\n",
       "        -6.4932283 ,  -7.66436678,  -8.84699004, -10.26512091,\n",
       "       -11.49659376, -10.27643891,  -8.93947836,  -7.83072037,\n",
       "        -6.86912733,  -5.95754597,  -5.19312024,  -4.59605651,\n",
       "        -4.19242032,  -3.98923488,  -4.03969322,  -4.31245106,\n",
       "        -4.80000122,  -5.58733637,  -6.49336376,  -7.56255897,\n",
       "        -8.90300944, -10.32830679, -11.53901235, -10.28462675,\n",
       "        -9.00950079,  -7.8133568 ,  -6.7238186 ,  -5.81507634,\n",
       "        -5.01931864,  -4.43880878,  -4.10025538,  -3.95906679,\n",
       "        -3.98478998,  -4.18198165,  -4.59776289,  -5.22269613,\n",
       "        -6.08178577,  -7.07640063,  -8.36997994,  -9.65658613,\n",
       "       -11.0114968 , -10.78220625,  -9.57529198,  -8.38875474,\n",
       "        -7.17112774,  -6.15454293,  -5.40439743,  -4.84780576,\n",
       "        -4.43752882,  -4.25659874,  -4.2590674 ,  -4.44209951,\n",
       "        -4.8795836 ,  -5.4894902 ,  -6.28294459,  -7.19958067,\n",
       "        -8.47038587,  -9.91333209, -11.26988681, -10.56898855,\n",
       "        -9.35908552,  -8.08756856,  -6.97360742,  -6.07573869,\n",
       "        -5.18222218,  -4.56407314,  -4.16224133,  -4.0188259 ,\n",
       "        -4.09013518,  -4.38811757,  -4.915734  ,  -5.62468306,\n",
       "        -6.57447835,  -7.8901065 ,  -9.21323159, -10.42777242,\n",
       "       -11.28105643, -10.0515094 ,  -8.7780347 ,  -7.6809736 ,\n",
       "        -6.63503776,  -5.80121654,  -5.17590685,  -4.76946894,\n",
       "        -4.52449182,  -4.45405613,  -4.58818685,  -4.85860889,\n",
       "        -5.36992219,  -6.02347123,  -6.94789039,  -7.86166138,\n",
       "        -8.94417433, -10.14636414, -11.08714572,  -9.97671665,\n",
       "        -8.85865427,  -7.71337921,  -6.73648456,  -5.91209072,\n",
       "        -5.24392403,  -4.72634179,  -4.41659595,  -4.31543463,\n",
       "        -4.47282507,  -4.9277584 ,  -5.57081519,  -6.47385708,\n",
       "        -7.39137176,  -8.45467468,  -9.65948739, -11.01490559,\n",
       "       -10.51270063,  -9.35373924,  -8.19341747,  -7.14664603,\n",
       "        -6.21955289,  -5.45049839,  -4.85148729,  -4.41158444,\n",
       "        -4.20607907,  -4.20519317,  -4.4188758 ,  -4.90125166,\n",
       "        -3.19530381,  -3.3689975 ,  -3.80404532,  -4.45837347,\n",
       "        -5.32443454,  -6.33249314,  -7.6079533 ,  -9.09680274,\n",
       "       -10.58768193, -12.01272801])"
      ]
     },
     "execution_count": 20,
     "metadata": {},
     "output_type": "execute_result"
    }
   ],
   "source": [
    "roll['rew']"
   ]
  },
  {
   "cell_type": "code",
   "execution_count": 18,
   "metadata": {},
   "outputs": [
    {
     "data": {
      "text/plain": [
       "array([1, 0, 0, 0, 0, 0, 0, 0, 0, 0, 0, 0, 0, 0, 0, 0, 0, 0, 0, 0, 0, 0,\n",
       "       0, 0, 0, 0, 0, 0, 0, 0, 0, 0, 0, 0, 0, 0, 0, 0, 0, 0, 0, 0, 0, 0,\n",
       "       0, 0, 0, 0, 0, 0, 0, 0, 0, 0, 0, 0, 0, 0, 0, 0, 0, 0, 0, 0, 0, 0,\n",
       "       0, 0, 0, 0, 0, 0, 0, 0, 0, 0, 0, 0, 0, 0, 0, 0, 0, 0, 0, 0, 0, 0,\n",
       "       0, 0, 0, 0, 0, 0, 0, 0, 0, 0, 0, 0, 0, 0, 0, 0, 0, 0, 0, 0, 0, 0,\n",
       "       0, 0, 0, 0, 0, 0, 0, 0, 0, 0, 0, 0, 0, 0, 0, 0, 0, 0, 0, 0, 0, 0,\n",
       "       0, 0, 0, 0, 0, 0, 0, 0, 0, 0, 0, 0, 0, 0, 0, 0, 0, 0, 0, 0, 0, 0,\n",
       "       0, 0, 0, 0, 0, 0, 0, 0, 0, 0, 0, 0, 0, 0, 0, 0, 0, 0, 0, 0, 0, 0,\n",
       "       0, 0, 0, 0, 0, 0, 0, 0, 0, 0, 0, 0, 0, 0, 0, 0, 0, 0, 0, 0, 0, 0,\n",
       "       0, 0, 1, 0, 0, 0, 0, 0, 0, 0, 0, 0], dtype=int32)"
      ]
     },
     "execution_count": 18,
     "metadata": {},
     "output_type": "execute_result"
    }
   ],
   "source": [
    "roll['new']"
   ]
  },
  {
   "cell_type": "code",
   "execution_count": 19,
   "metadata": {},
   "outputs": [
    {
     "data": {
      "text/plain": [
       "array([-113.16341038, -115.40258509, -117.48752021, -119.16545706,\n",
       "       -120.15082696, -120.20539407, -119.07717818, -116.67422881,\n",
       "       -112.67010627, -108.1655998 , -104.68843727, -102.31101047,\n",
       "       -101.05575439, -100.81008263, -101.46417902, -102.85795727,\n",
       "       -104.88871227, -107.46541567, -110.40464296, -113.49761451,\n",
       "       -116.48118296, -119.30063722, -121.49202718, -122.92090023,\n",
       "       -123.38521643, -122.55147516, -120.07482376, -115.95505363,\n",
       "       -111.53577012, -108.26915478, -106.19721396, -105.16927249,\n",
       "       -105.10260466, -105.95817729, -107.49167368, -109.5259315 ,\n",
       "       -111.84807242, -114.32451998, -116.73359017, -118.87747008,\n",
       "       -120.52273595, -121.42541423, -121.3834648 , -120.19573887,\n",
       "       -117.67749763, -113.47425845, -109.21955684, -106.05148271,\n",
       "       -103.97664095, -102.94436596, -102.90065337, -103.72532617,\n",
       "       -105.34794524, -107.6275779 , -110.39059986, -113.47042896,\n",
       "       -116.65268601, -119.52653943, -121.83333528, -123.34574645,\n",
       "       -123.75725671, -122.80299013, -120.30014075, -116.15113997,\n",
       "       -111.84528022, -108.62666012, -106.44617581, -105.40713643,\n",
       "       -105.40348573, -106.26597087, -107.90823047, -110.13384915,\n",
       "       -112.69165293, -115.31075963, -117.80933823, -119.9568881 ,\n",
       "       -121.5371106 , -122.23882926, -121.78345588, -120.04261371,\n",
       "       -116.7216347 , -111.88786397, -108.0891358 , -105.46704378,\n",
       "       -103.85801638, -103.19866193, -103.48420371, -104.62124536,\n",
       "       -106.47504277, -108.91959001, -111.7573432 , -114.70951546,\n",
       "       -117.54564826, -120.03514782, -121.76543819, -122.61330203,\n",
       "       -122.36904666, -120.66111278, -117.30907204, -112.45562548,\n",
       "       -108.61580135, -105.8787773 , -104.22479554, -103.61826208,\n",
       "       -103.9013035 , -105.01655314, -106.79920185, -109.08243519,\n",
       "       -111.62251741, -114.29660844, -116.90870886, -119.27006987,\n",
       "       -121.14127253, -122.26148438, -122.3978694 , -121.20882949,\n",
       "       -118.59224463, -114.39449665, -110.18152137, -107.00363971,\n",
       "       -104.93037956, -104.04304219, -104.1773755 , -105.11481135,\n",
       "       -106.7558867 , -108.93126328, -111.43602371, -114.11199674,\n",
       "       -116.80046316, -119.13280064, -120.92997099, -121.95734321,\n",
       "       -122.07967132, -120.82924345, -117.9365103 , -113.41072992,\n",
       "       -109.33996248, -106.27337787, -104.35553791, -103.50911298,\n",
       "       -103.50122762, -104.43259134, -106.03439454, -108.14965438,\n",
       "       -110.55639349, -113.01490976, -115.32867816, -117.27303455,\n",
       "       -118.60539655, -119.01890868, -118.11435998, -115.78160553,\n",
       "       -112.01841539, -107.12271323, -103.25748519, -100.50424986,\n",
       "        -98.78127072,  -98.07617238,  -98.23133839,  -99.05101812,\n",
       "       -100.35859887, -102.04592547, -103.92974942, -105.75094457,\n",
       "       -107.44060154, -108.63508331, -109.20466712, -108.75954176,\n",
       "       -107.31082471, -104.60840389, -100.45043981,  -95.01403292,\n",
       "        -90.40385476,  -86.66327957,  -83.89649183,  -81.98102313,\n",
       "        -80.80657025,  -80.22932208,  -80.15737515,  -80.35694281,\n",
       "        -80.65265181,  -80.78289706,  -80.51140157,  -79.55807945,\n",
       "        -77.65168919,  -74.65868703,  -70.35608067,  -64.50875832,\n",
       "        -56.8812657 ,  -49.31947193,  -42.53727818,  -36.57280481,\n",
       "        -31.36195946,  -26.821133  ,  -22.8206363 ,  -19.25328397,\n",
       "        -15.91506051,  -12.61517694,   -9.11554106,   -5.19108481,\n",
       "        -46.14589181,  -45.91021878,  -45.43085959,  -44.40983792,\n",
       "        -42.58208905,  -39.67204057,  -35.49245724,  -29.67395036,\n",
       "        -21.88421236,  -12.0197237 ])"
      ]
     },
     "execution_count": 19,
     "metadata": {},
     "output_type": "execute_result"
    }
   ],
   "source": [
    "adv"
   ]
  },
  {
   "cell_type": "code",
   "execution_count": null,
   "metadata": {},
   "outputs": [],
   "source": []
  }
 ],
 "metadata": {
  "kernelspec": {
   "display_name": "Python 3",
   "language": "python",
   "name": "python3"
  },
  "language_info": {
   "codemirror_mode": {
    "name": "ipython",
    "version": 3
   },
   "file_extension": ".py",
   "mimetype": "text/x-python",
   "name": "python",
   "nbconvert_exporter": "python",
   "pygments_lexer": "ipython3",
   "version": "3.6.7"
  }
 },
 "nbformat": 4,
 "nbformat_minor": 2
}
