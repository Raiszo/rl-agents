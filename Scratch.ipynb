{
 "cells": [
  {
   "cell_type": "code",
   "execution_count": 1,
   "metadata": {},
   "outputs": [],
   "source": [
    "import tensorflow as tf\n",
    "import gym\n",
    "import numpy as np\n",
    "from tensorflow_probability import distributions as dists\n",
    "import tensorflow.keras.layers as kl\n",
    "\n",
    "from rl_agents.env_utils import rollouts_generator, get_adv_vtarg\n",
    "from rl_agents.ppo.policy import Actor, Critic\n",
    "from rl_agents.ppo.agent import PPO_Agent\n",
    "\n",
    "# for auto-reloading external modules\n",
    "# see http://stackoverflow.com/questions/1907993/autoreload-of-modules-in-ipython\n",
    "%load_ext autoreload\n",
    "%autoreload 2\n",
    "\n",
    "tf.random.set_seed(0)"
   ]
  },
  {
   "cell_type": "code",
   "execution_count": 2,
   "metadata": {},
   "outputs": [],
   "source": [
    "env = gym.make('Pendulum-v0')\n",
    "is_continuous = isinstance(env.action_space, gym.spaces.Box)\n",
    "obs_dim = env.observation_space.shape\n",
    "act_dim = env.action_space.shape"
   ]
  },
  {
   "cell_type": "code",
   "execution_count": 3,
   "metadata": {},
   "outputs": [],
   "source": [
    "actor = Actor(obs_dim, act_dim, is_continuous)\n",
    "critic = Critic(obs_dim)\n",
    "vero = PPO_Agent(actor, critic)"
   ]
  },
  {
   "cell_type": "code",
   "execution_count": 24,
   "metadata": {},
   "outputs": [],
   "source": [
    "generator = rollouts_generator(vero, env, horizon=2048)\n",
    "rollout = generator.__next__()"
   ]
  },
  {
   "cell_type": "code",
   "execution_count": 27,
   "metadata": {},
   "outputs": [],
   "source": [
    "advantage, target_value = get_adv_vtarg(rollout, lam=0.95, gamma=0.99)"
   ]
  },
  {
   "cell_type": "code",
   "execution_count": 30,
   "metadata": {},
   "outputs": [
    {
     "name": "stdout",
     "output_type": "stream",
     "text": [
      "12.057407462052371\n",
      "1.4344754579645111\n",
      "1.8086110412886089\n",
      "1.5526932434684402\n",
      "76.898466862543643\n",
      "1.4575256098540161\n",
      "1.8084743073685678\n",
      "1.5213524460723129\n",
      "1.4745352992680492\n",
      "2.229411451559872\n",
      "1.1326168213630738\n",
      "1.9302413811947037\n",
      "2.4961163332943324\n",
      "1.2610773066478154\n",
      "1.4834187211384728\n",
      "1.2394797323270765\n",
      "1.5038401713364946\n",
      "2.1653899525103997\n",
      "1.6029983169297768\n",
      "2.179096787071201\n",
      "1.2297472126836955\n",
      "1.4774434362152498\n",
      "3.6722365902306793\n",
      "1.6448151667234483\n",
      "1.4554169570510214\n",
      "5.8630185026872983\n",
      "2.0068280810674262\n",
      "2.7338492207262703\n",
      "1.7230504766513068\n",
      "1.3390250588214894\n",
      "2.0177525759065316\n",
      "1.713844090678627\n",
      "12.836897617362387\n",
      "1.310364990128803\n",
      "4.0190836866340529\n",
      "1.7140694572686612\n",
      "81.146455174115985\n",
      "1.6302569108329139\n",
      "1.5673726572352229\n",
      "1.5455202134876658\n",
      "1.4819275200561304\n",
      "1.9751938865202368\n",
      "1.0432735764380359\n",
      "1.4374316202188779\n",
      "2.2947897744270822\n",
      "1.2578767433399429\n",
      "1.5143486720713366\n",
      "1.2813299640138585\n",
      "1.4745315958567897\n",
      "2.1755903976639019\n",
      "1.3245929161031929\n",
      "3.5586144559715773\n",
      "1.2475373203599176\n",
      "1.4236401217295018\n",
      "5.9897047443626779\n",
      "1.775884976216076\n",
      "1.2677388312511195\n",
      "6.1379627995583661\n",
      "1.5525123687163602\n",
      "2.3303254943720053\n",
      "2.1441642211048424\n",
      "1.4500700148351742\n",
      "2.3401656384714253\n",
      "1.6631164684943518\n"
     ]
    }
   ],
   "source": [
    "vero.run_epoch(rollout['ob'], rollout['log_probs'], target_value, advantage, 2)"
   ]
  },
  {
   "cell_type": "code",
   "execution_count": 11,
   "metadata": {},
   "outputs": [
    {
     "name": "stdout",
     "output_type": "stream",
     "text": [
      "(<tf.Tensor: id=174588, shape=(1,), dtype=float64, numpy=array([0.68133348])>, <tf.Tensor: id=174592, shape=(1,), dtype=float64, numpy=array([-0.12700349])>, <tf.Tensor: id=174596, shape=(1,), dtype=float64, numpy=array([-1.09003816])>)\n"
     ]
    }
   ],
   "source": [
    "obs = env.reset()\n",
    "l = vero.act_stochastic(obs)\n",
    "print(l)"
   ]
  },
  {
   "cell_type": "code",
   "execution_count": 13,
   "metadata": {},
   "outputs": [
    {
     "name": "stdout",
     "output_type": "stream",
     "text": [
      "float32\n"
     ]
    }
   ],
   "source": [
    "ac = env.action_space.sample()\n",
    "print(ac.dtype)"
   ]
  },
  {
   "cell_type": "code",
   "execution_count": 18,
   "metadata": {},
   "outputs": [
    {
     "name": "stdout",
     "output_type": "stream",
     "text": [
      "<class 'numpy.float64'>\n"
     ]
    }
   ],
   "source": [
    "print(np.float64)"
   ]
  },
  {
   "cell_type": "code",
   "execution_count": null,
   "metadata": {},
   "outputs": [],
   "source": []
  }
 ],
 "metadata": {
  "kernelspec": {
   "display_name": "Python 3",
   "language": "python",
   "name": "python3"
  },
  "language_info": {
   "codemirror_mode": {
    "name": "ipython",
    "version": 3
   },
   "file_extension": ".py",
   "mimetype": "text/x-python",
   "name": "python",
   "nbconvert_exporter": "python",
   "pygments_lexer": "ipython3",
   "version": "3.6.8"
  }
 },
 "nbformat": 4,
 "nbformat_minor": 2
}
