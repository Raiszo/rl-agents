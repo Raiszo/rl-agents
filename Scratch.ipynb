{
 "cells": [
  {
   "cell_type": "code",
   "execution_count": 1,
   "metadata": {},
   "outputs": [],
   "source": [
    "import tensorflow as tf\n",
    "import gym\n",
    "import numpy as np\n",
    "from tensorflow_probability import distributions as dists\n",
    "import tensorflow.keras.layers as kl\n",
    "import datetime\n",
    "\n",
    "from rl_agents.env_utils import rollouts_generator, get_adv_vtarg\n",
    "from rl_agents.ppo.policy import Actor, Critic\n",
    "from rl_agents.ppo.agent import PPO_Agent\n",
    "\n",
    "# for auto-reloading external modules\n",
    "# see http://stackoverflow.com/questions/1907993/autoreload-of-modules-in-ipython\n",
    "%load_ext autoreload\n",
    "%autoreload 2\n",
    "%load_ext tensorboard.notebook\n",
    "\n",
    "tf.random.set_seed(0)"
   ]
  },
  {
   "cell_type": "markdown",
   "metadata": {},
   "source": [
    "## Create GYM environment\n",
    "Use Pendulum-v0 for now"
   ]
  },
  {
   "cell_type": "code",
   "execution_count": 2,
   "metadata": {},
   "outputs": [],
   "source": [
    "env = gym.make('Pendulum-v0')\n",
    "is_continuous = isinstance(env.action_space, gym.spaces.Box)\n",
    "obs_dim = env.observation_space.shape\n",
    "act_dim = env.action_space.shape"
   ]
  },
  {
   "cell_type": "code",
   "execution_count": 3,
   "metadata": {},
   "outputs": [],
   "source": [
    "actor = Actor(obs_dim, act_dim, is_continuous)\n",
    "critic = Critic(obs_dim)\n",
    "vero = PPO_Agent(actor, critic)\n",
    "generator = rollouts_generator(vero, env, horizon=2048)"
   ]
  },
  {
   "cell_type": "markdown",
   "metadata": {},
   "source": [
    "# Training loop"
   ]
  },
  {
   "cell_type": "code",
   "execution_count": 4,
   "metadata": {},
   "outputs": [],
   "source": [
    "num_ite = 200\n",
    "lam = 0.95\n",
    "gamma = 0.99\n",
    "num_epochs = 10\n",
    "\n",
    "current_time = datetime.datetime.now().strftime(\"%Y%m%d-%H%M%S\")\n",
    "train_log_dir = 'logs/gradient_tape/' + current_time + '/train'\n",
    "train_summary_writer = tf.summary.create_file_writer(train_log_dir)"
   ]
  },
  {
   "cell_type": "code",
   "execution_count": 5,
   "metadata": {},
   "outputs": [],
   "source": [
    "for i in range(num_ite):\n",
    "    rollout = generator.__next__()\n",
    "    advantage, target_value = get_adv_vtarg(rollout, lam=lam, gamma=gamma)\n",
    "    vero.run_ite(rollout['ob'], rollout['ac'], rollout['log_probs'], target_value, advantage,\n",
    "                 epochs=num_epochs)\n",
    "    with train_summary_writer.as_default():\n",
    "        tf.summary.scalar('reward mean', np.array(rollout[\"ep_rets\"]).mean(), step=i*num_epochs)\n",
    "    \n",
    "    if i % 50 == 0 or i == num_ite-1:\n",
    "        actor.save_weights(train_log_dir+'/_actor_'+str(i), save_format='tf')\n",
    "        critic.save_weights(train_log_dir+'/_critic_'+str(i), save_format='tf')\n",
    "    #    mean, std = rewards.mean(), rewards.std()\n",
    "    #    print('mean', mean)\n",
    "    #    print('std', std)\n",
    "    \n"
   ]
  },
  {
   "cell_type": "code",
   "execution_count": 1,
   "metadata": {
    "scrolled": true
   },
   "outputs": [
    {
     "name": "stderr",
     "output_type": "stream",
     "text": [
      "UsageError: Line magic function `%tensorboard` not found.\n"
     ]
    }
   ],
   "source": [
    "%tensorboard --logdir logs/gradient_tape"
   ]
  },
  {
   "cell_type": "code",
   "execution_count": null,
   "metadata": {},
   "outputs": [],
   "source": [
    "obs = env.reset()\n",
    "ac, v, lp = vero.act_stochastic(obs)\n",
    "print(lp)\n",
    "l = vero.get_distributions(obs[None])\n",
    "print(l.log_prob(ac))\n",
    "print(l.entropy())"
   ]
  },
  {
   "cell_type": "code",
   "execution_count": null,
   "metadata": {},
   "outputs": [],
   "source": [
    "ac = env.action_space.sample()\n",
    "print(ac.dtype)"
   ]
  },
  {
   "cell_type": "code",
   "execution_count": null,
   "metadata": {},
   "outputs": [],
   "source": [
    "print(np.float64)"
   ]
  },
  {
   "cell_type": "code",
   "execution_count": null,
   "metadata": {},
   "outputs": [],
   "source": [
    "import tensorflow_probability as tfp"
   ]
  },
  {
   "cell_type": "code",
   "execution_count": null,
   "metadata": {},
   "outputs": [],
   "source": [
    "tfd = tfp.distributions\n"
   ]
  },
  {
   "cell_type": "code",
   "execution_count": null,
   "metadata": {},
   "outputs": [],
   "source": [
    "dist = tfd.Normal(loc=np.array([0., 1, 2, 0.5]), scale=np.array([0.02, 0.09, 0.1, 1]))"
   ]
  },
  {
   "cell_type": "code",
   "execution_count": null,
   "metadata": {},
   "outputs": [],
   "source": [
    "dist.sample()\n"
   ]
  },
  {
   "cell_type": "code",
   "execution_count": 11,
   "metadata": {},
   "outputs": [
    {
     "data": {
      "text/plain": [
       "array([-0.4457868 , -0.91729486,  5.1830072 ], dtype=float32)"
      ]
     },
     "execution_count": 11,
     "metadata": {},
     "output_type": "execute_result"
    }
   ],
   "source": [
    "env.observation_space.sample()"
   ]
  },
  {
   "cell_type": "code",
   "execution_count": null,
   "metadata": {},
   "outputs": [],
   "source": [
    "%load_ext tensorboard.notebook"
   ]
  },
  {
   "cell_type": "code",
   "execution_count": null,
   "metadata": {},
   "outputs": [],
   "source": [
    "generator = rollouts_generator(vero, env, horizon=2048)\n",
    "\n",
    "rollout = generator.__next__()\n",
    "advantage, target_value = get_adv_vtarg(rollout, lam=0.95, gamma=0.99)\n",
    "vero.run_epoch(rollout['ob'], rollout['ac'], rollout['log_probs'], target_value, advantage, epochs=5)"
   ]
  },
  {
   "cell_type": "code",
   "execution_count": 12,
   "metadata": {},
   "outputs": [
    {
     "data": {
      "text/plain": [
       "(3,)"
      ]
     },
     "execution_count": 12,
     "metadata": {},
     "output_type": "execute_result"
    }
   ],
   "source": [
    "obs_dim"
   ]
  },
  {
   "cell_type": "code",
   "execution_count": 10,
   "metadata": {},
   "outputs": [
    {
     "data": {
      "text/plain": [
       "[<tf.Variable 'Actor/dense/kernel:0' shape=(3, 32) dtype=float64, numpy=\n",
       " array([[-0.23775086,  0.0865082 ,  0.18968251,  0.38295697,  0.51894917,\n",
       "         -0.15761821,  0.08655264,  0.14825048,  0.50769685,  0.05912139,\n",
       "          0.1884715 , -0.05413917, -0.42845413, -0.23050986,  0.42611479,\n",
       "          0.31040875,  0.39117041, -0.15224479,  0.42801437, -0.12993485,\n",
       "         -0.38280668, -0.1330051 ,  0.53515256, -0.37260987,  0.01727576,\n",
       "         -0.12489494,  0.27695066, -0.03321982, -0.43405681,  0.45421999,\n",
       "         -0.25787384, -0.20653047],\n",
       "        [ 0.11198237, -0.04425309, -0.05990919,  0.30799883,  0.23335211,\n",
       "          0.10551802,  0.01627948,  0.40033144,  0.4581129 ,  0.04297429,\n",
       "         -0.30024867, -0.1294846 , -0.12120222, -0.32832094,  0.2620834 ,\n",
       "          0.19250278,  0.05132553, -0.19108716,  0.1292169 , -0.22103806,\n",
       "          0.44025438,  0.28718562,  0.30438951, -0.51267301,  0.28971121,\n",
       "         -0.29629225,  0.03672055, -0.18913436,  0.21002218, -0.32613824,\n",
       "          0.14637875,  0.05508059],\n",
       "        [-0.37556968, -0.18044674, -0.27512393, -0.32220162, -0.0464133 ,\n",
       "          0.22223629,  0.05837246, -0.34733031,  0.3693626 , -0.11565517,\n",
       "          0.38344805, -0.32842319, -0.08311814,  0.12788701, -0.09857786,\n",
       "          0.36775047,  0.37936617, -0.19452236,  0.08807604, -0.2685189 ,\n",
       "          0.20137566,  0.20347115,  0.34392359, -0.21156246, -0.11460452,\n",
       "          0.05956989,  0.24849383,  0.3190604 ,  0.02436641,  0.20701458,\n",
       "          0.26005242, -0.36972935]])>,\n",
       " <tf.Variable 'Actor/dense/bias:0' shape=(32,) dtype=float64, numpy=\n",
       " array([ 0.04985125,  0.04952336, -0.031304  ,  0.06676623,  0.09264707,\n",
       "        -0.0272455 , -0.11644875, -0.02939193,  0.01408479, -0.02418152,\n",
       "        -0.13394649,  0.02859313, -0.00585553,  0.07075718,  0.07301704,\n",
       "         0.18047882, -0.00230906, -0.09109955,  0.10694968,  0.00789993,\n",
       "         0.21698338,  0.17182636, -0.09046288, -0.03007927,  0.00917418,\n",
       "         0.03430584, -0.13565013,  0.03882992,  0.01459739, -0.05093086,\n",
       "        -0.05007356,  0.03183308])>,\n",
       " <tf.Variable 'Actor/dense_1/kernel:0' shape=(32, 32) dtype=float64, numpy=\n",
       " array([[ 0.03297584,  0.14172053,  0.27334569, ..., -0.12613591,\n",
       "         -0.01876927,  0.1836128 ],\n",
       "        [ 0.19921202, -0.09865269, -0.07609786, ..., -0.13565002,\n",
       "         -0.25611991,  0.13195734],\n",
       "        [ 0.151192  , -0.25128339,  0.32190079, ..., -0.07706292,\n",
       "          0.07145213, -0.2429788 ],\n",
       "        ...,\n",
       "        [ 0.0602331 , -0.26394818, -0.24390755, ..., -0.26045412,\n",
       "         -0.14712827, -0.15850415],\n",
       "        [-0.13068522,  0.24811775,  0.02875074, ..., -0.12633678,\n",
       "         -0.28368048,  0.22729635],\n",
       "        [-0.11034544, -0.20243242, -0.23263961, ...,  0.23598868,\n",
       "         -0.10567821, -0.17926458]])>,\n",
       " <tf.Variable 'Actor/dense_1/bias:0' shape=(32,) dtype=float64, numpy=\n",
       " array([ 0.04988329,  0.11516053, -0.01086668, -0.00576069,  0.02114   ,\n",
       "         0.00389881,  0.06382342, -0.04738295,  0.02025225, -0.0465383 ,\n",
       "        -0.08399185, -0.0225041 ,  0.06261711,  0.06310058,  0.01905404,\n",
       "         0.02595366,  0.04035985,  0.02746829, -0.03303413, -0.01687308,\n",
       "        -0.03601022,  0.03157765,  0.04246902,  0.01089712, -0.02374581,\n",
       "        -0.04513956,  0.02044251,  0.046193  , -0.02980083, -0.02356037,\n",
       "        -0.04548906, -0.00215369])>,\n",
       " <tf.Variable 'Actor/dense_2/kernel:0' shape=(32, 1) dtype=float64, numpy=\n",
       " array([[ 0.19192177],\n",
       "        [ 0.16427528],\n",
       "        [ 0.41855915],\n",
       "        [-0.3767627 ],\n",
       "        [ 0.00242764],\n",
       "        [-0.35257123],\n",
       "        [ 0.34133266],\n",
       "        [ 0.05154713],\n",
       "        [ 0.29833181],\n",
       "        [-0.39480065],\n",
       "        [-0.06662438],\n",
       "        [-0.1003733 ],\n",
       "        [ 0.4018749 ],\n",
       "        [ 0.14124783],\n",
       "        [-0.13414139],\n",
       "        [ 0.15296831],\n",
       "        [-0.21967113],\n",
       "        [-0.36990187],\n",
       "        [ 0.07545211],\n",
       "        [ 0.09812803],\n",
       "        [ 0.10260317],\n",
       "        [ 0.34224625],\n",
       "        [-0.28842957],\n",
       "        [-0.26499323],\n",
       "        [-0.05658909],\n",
       "        [-0.24587141],\n",
       "        [-0.46841497],\n",
       "        [ 0.16275153],\n",
       "        [-0.39195144],\n",
       "        [-0.16757226],\n",
       "        [ 0.01939744],\n",
       "        [-0.16187286]])>,\n",
       " <tf.Variable 'Actor/dense_2/bias:0' shape=(1,) dtype=float64, numpy=array([0.02358582])>,\n",
       " <tf.Variable 'Variable:0' shape=(1, 1) dtype=float64, numpy=array([[0.61551822]])>]"
      ]
     },
     "execution_count": 10,
     "metadata": {},
     "output_type": "execute_result"
    }
   ],
   "source": [
    "actor.trainable_variables"
   ]
  },
  {
   "cell_type": "code",
   "execution_count": 11,
   "metadata": {},
   "outputs": [
    {
     "data": {
      "text/plain": [
       "0.5886049696783552"
      ]
     },
     "execution_count": 11,
     "metadata": {},
     "output_type": "execute_result"
    }
   ],
   "source": [
    "np.exp(-0.53)"
   ]
  },
  {
   "cell_type": "code",
   "execution_count": null,
   "metadata": {},
   "outputs": [],
   "source": []
  }
 ],
 "metadata": {
  "kernelspec": {
   "display_name": "Python 3",
   "language": "python",
   "name": "python3"
  },
  "language_info": {
   "codemirror_mode": {
    "name": "ipython",
    "version": 3
   },
   "file_extension": ".py",
   "mimetype": "text/x-python",
   "name": "python",
   "nbconvert_exporter": "python",
   "pygments_lexer": "ipython3",
   "version": "3.6.7"
  }
 },
 "nbformat": 4,
 "nbformat_minor": 2
}
