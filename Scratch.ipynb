{
 "cells": [
  {
   "cell_type": "code",
   "execution_count": 1,
   "metadata": {},
   "outputs": [],
   "source": [
    "import tensorflow as tf\n",
    "import gym\n",
    "import numpy as np\n",
    "from tensorflow_probability import distributions as dists\n",
    "import tensorflow.keras.layers as kl\n",
    "import datetime\n",
    "\n",
    "from rl_agents.env_utils import rollouts_generator, get_adv_vtarg\n",
    "from rl_agents.vpg.agent import VPG_Agent\n",
    "from rl_agents.ppo.agent import PPO_Agent\n",
    "from rl_agents.policies.categorical import CategoricalActor\n",
    "from rl_agents.policies.gaussian import GaussianActor\n",
    "from rl_agents.common import Critic\n",
    "from rl_agents.trainer.sensei import Sensei\n",
    "\n",
    "from gym.spaces import Box, Discrete\n",
    "\n",
    "# for auto-reloading external modules\n",
    "# see http://stackoverflow.com/questions/1907993/autoreload-of-modules-in-ipython\n",
    "%load_ext autoreload\n",
    "%autoreload 2\n",
    "%load_ext tensorboard.notebook\n",
    "\n",
    "tf.random.set_seed(0)"
   ]
  },
  {
   "cell_type": "markdown",
   "metadata": {},
   "source": [
    "## Create GYM environment\n",
    "Use Pendulum-v0 for now"
   ]
  },
  {
   "cell_type": "code",
   "execution_count": 59,
   "metadata": {},
   "outputs": [],
   "source": [
    "# env_fn = lambda: gym.make('MountainCarContinuous-v0')\n",
    "# env_fn = lambda: gym.make('Pendulum-v0')\n",
    "env_fn = lambda: gym.make('MountainCar-v0')\n",
    "# env_fn = lambda: gym.make('CartPole-v0')\n",
    "env = env_fn()\n",
    "is_continuous = isinstance(env.action_space, gym.spaces.Box)\n",
    "obs_dim = env.observation_space.shape\n",
    "act_dim = env.action_space.shape if is_continuous else env.action_space.n"
   ]
  },
  {
   "cell_type": "markdown",
   "metadata": {},
   "source": [
    "# Proximal Policy Optimization"
   ]
  },
  {
   "cell_type": "markdown",
   "metadata": {},
   "source": [
    "## Initialization"
   ]
  },
  {
   "cell_type": "code",
   "execution_count": null,
   "metadata": {},
   "outputs": [],
   "source": [
    "actor_ppo = GaussianActor(obs_dim, act_dim) if is_continuous else CategoricalActor(obs_dim, act_dim)\n",
    "critic_ppo = Critic(obs_dim)\n",
    "jen_ppo = PPO_Agent(actor_ppo, critic_ppo, is_continuous, act_dim)\n",
    "generator_ppo = rollouts_generator(jen_ppo, env, is_continuous, horizon=2048)\n",
    "\n",
    "alg_name = \"PPO\"\n",
    "num_ite = 200\n",
    "lam = 0.95\n",
    "gamma = 0.99\n",
    "epochs_actor = 20\n",
    "epochs_critic = 40\n",
    "sensei_ppo = Sensei(jen_ppo, alg_name, env_fn,\n",
    "                    ite=num_ite, horizon=2048,\n",
    "                    epochs_actor=epochs_actor, epochs_critic=epochs_critic,\n",
    "                    gamma=gamma, gae_lambda=lam,\n",
    "                    log_dir='logs')"
   ]
  },
  {
   "cell_type": "code",
   "execution_count": null,
   "metadata": {},
   "outputs": [],
   "source": [
    "sensei_ppo.train(batch_size=256)"
   ]
  },
  {
   "cell_type": "markdown",
   "metadata": {},
   "source": [
    "# Vanilla Policy Gradient"
   ]
  },
  {
   "cell_type": "markdown",
   "metadata": {},
   "source": [
    "## Initialization"
   ]
  },
  {
   "cell_type": "code",
   "execution_count": 60,
   "metadata": {},
   "outputs": [],
   "source": [
    "actor_vpg = GaussianActor(obs_dim, act_dim) if is_continuous else CategoricalActor(obs_dim, act_dim)\n",
    "critic_vpg = Critic(obs_dim)\n",
    "jen_vpg = VPG_Agent(actor_vpg, critic_vpg, is_continuous, act_dim)\n",
    "generator_vpg = rollouts_generator(jen_vpg, env, is_continuous, horizon=2048)\n",
    "\n",
    "alg_name = \"VPG\"\n",
    "num_ite = 1\n",
    "lam = 0.95\n",
    "gamma = 0.99\n",
    "epochs_actor = 1\n",
    "epochs_critic = 40\n",
    "sensei_vpg = Sensei(jen_vpg, alg_name, env_fn,\n",
    "                    ite=num_ite, horizon=2048,\n",
    "                    epochs_actor=epochs_actor, epochs_critic=epochs_critic,\n",
    "                    gamma=gamma, gae_lambda=lam,\n",
    "                    log_dir='logs')"
   ]
  },
  {
   "cell_type": "markdown",
   "metadata": {},
   "source": [
    "# Training loop"
   ]
  },
  {
   "cell_type": "code",
   "execution_count": 73,
   "metadata": {},
   "outputs": [],
   "source": [
    "sensei_vpg.train(batch_size=256)"
   ]
  },
  {
   "cell_type": "code",
   "execution_count": 74,
   "metadata": {},
   "outputs": [],
   "source": [
    "rollout = generator_vpg.__next__()"
   ]
  },
  {
   "cell_type": "code",
   "execution_count": 78,
   "metadata": {},
   "outputs": [
    {
     "data": {
      "text/plain": [
       "array([-1., -1., -1., -1., -1., -1., -1., -1., -1., -1., -1., -1., -1.,\n",
       "       -1., -1., -1., -1., -1., -1., -1., -1., -1., -1., -1., -1., -1.,\n",
       "       -1., -1., -1., -1., -1., -1., -1., -1., -1., -1., -1., -1., -1.,\n",
       "       -1., -1., -1., -1., -1., -1., -1., -1., -1., -1., -1., -1., -1.,\n",
       "       -1., -1., -1., -1., -1., -1., -1., -1., -1., -1., -1., -1., -1.,\n",
       "       -1., -1., -1., -1., -1., -1., -1., -1., -1., -1., -1., -1., -1.,\n",
       "       -1., -1., -1., -1., -1., -1., -1., -1., -1., -1., -1., -1., -1.,\n",
       "       -1., -1., -1., -1., -1., -1., -1., -1., -1., -1., -1., -1., -1.,\n",
       "       -1., -1., -1., -1., -1., -1., -1., -1., -1., -1., -1., -1., -1.,\n",
       "       -1., -1., -1., -1., -1., -1., -1., -1., -1., -1., -1., -1., -1.,\n",
       "       -1., -1., -1., -1., -1., -1., -1., -1., -1., -1., -1., -1., -1.,\n",
       "       -1., -1., -1., -1., -1., -1., -1., -1., -1., -1., -1., -1., -1.,\n",
       "       -1., -1., -1., -1., -1., -1., -1., -1., -1., -1., -1., -1., -1.,\n",
       "       -1., -1., -1., -1., -1., -1., -1., -1., -1., -1., -1., -1., -1.,\n",
       "       -1., -1., -1., -1., -1., -1., -1., -1., -1., -1., -1., -1., -1.,\n",
       "       -1., -1., -1., -1., -1.])"
      ]
     },
     "execution_count": 78,
     "metadata": {},
     "output_type": "execute_result"
    }
   ],
   "source": [
    "rollout['rew'][:200]"
   ]
  },
  {
   "cell_type": "code",
   "execution_count": 76,
   "metadata": {},
   "outputs": [],
   "source": [
    "adv, target_value = get_adv_vtarg(rollout, lam=lam, gamma=gamma)"
   ]
  },
  {
   "cell_type": "code",
   "execution_count": 77,
   "metadata": {},
   "outputs": [
    {
     "data": {
      "text/plain": [
       "array([-3.96471142, -3.9706069 , -3.97720704, -3.98444762, -3.99225975,\n",
       "       -4.00039483, -4.00730507, -4.01304752, -4.01841905, -4.02412243,\n",
       "       -4.03010987, -4.03619309, -4.04093503, -4.04498506, -4.04772361,\n",
       "       -4.05047359, -4.05188431, -4.05341157, -4.05504403, -4.05676964,\n",
       "       -4.05857579, -4.06039037, -4.0614741 , -4.06176133, -4.06051846,\n",
       "       -4.05774322, -4.0534362 , -4.04760135, -4.04040065, -4.0331868 ,\n",
       "       -4.02451122, -4.01439514, -4.00286724, -3.99007283, -3.97683699,\n",
       "       -3.96337231, -3.95056101, -3.93826292, -3.92501852, -3.91119817,\n",
       "       -3.898488  , -3.88702682, -3.87661146, -3.86573928, -3.85448015,\n",
       "       -3.84309082, -3.83265714, -3.82409699, -3.81750796, -3.81257684,\n",
       "       -3.80810951, -3.80538674, -3.80319289, -3.80298495, -3.80375103,\n",
       "       -3.80466731, -3.80611497, -3.80951712, -3.81420978, -3.82076723,\n",
       "       -3.82848848, -3.8379211 , -3.84833028, -3.86024279, -3.87289522,\n",
       "       -3.88665525, -3.90011229, -3.91458036, -3.92902473, -3.94281083,\n",
       "       -3.95714701, -3.97060889, -3.98442614, -3.99717728, -4.0102737 ,\n",
       "       -4.02360163, -4.0369225 , -4.04881793, -4.06063613, -4.07163096,\n",
       "       -4.08246384, -4.09306636, -4.1033186 , -4.11181915, -4.11993985,\n",
       "       -4.12692905, -4.13209176, -4.13612493, -4.13900589, -4.14004356,\n",
       "       -4.13994975, -4.13939051, -4.13699754, -4.13415544, -4.13019097,\n",
       "       -4.12576553, -4.11953087, -4.1128457 , -4.10429359, -4.09396544,\n",
       "       -4.08333324, -4.07240076, -4.06042499, -1.        , -3.9008252 ,\n",
       "       -3.90037085, -3.90033267, -3.90056416, -3.90057153, -3.90163197,\n",
       "       -3.90216732, -3.90232   , -3.90272797, -3.90289438, -3.90424035,\n",
       "       -3.90611192, -3.90913089, -3.91248714, -3.9162885 , -3.92127466,\n",
       "       -3.92713222, -3.93239282, -3.93791726, -3.94430395, -3.95072797,\n",
       "       -3.95702763, -3.96262083, -3.9689885 , -3.97606729, -3.98378822,\n",
       "       -3.99207775, -4.00085886, -4.00997037, -4.01852373, -4.02588699,\n",
       "       -4.03335503, -4.03941374, -4.04404519, -4.04730126, -4.04996652,\n",
       "       -4.05269307, -4.05479531, -4.05686827, -4.05750204, -4.05748552,\n",
       "       -4.05754837, -4.05769011, -4.05790971, -4.05814416, -4.05766186,\n",
       "       -4.05640005, -4.05376023, -4.05121905, -4.04879547, -4.04636763,\n",
       "       -4.0425474 , -4.03800854, -4.03210646, -4.02568971, -4.01954604,\n",
       "       -4.01354619, -4.00622666, -3.9978116 , -3.98975877, -3.98148384,\n",
       "       -3.97381358, -3.96682144, -3.9605754 , -3.95513692, -3.95043684,\n",
       "       -3.94587306, -3.94200196, -3.93743834, -3.93285373, -3.92777316,\n",
       "       -3.92365447, -3.9197579 , -3.91611531, -3.91289873, -3.91063379,\n",
       "       -3.90806267, -3.90677184, -3.90648632, -3.90564161, -3.904388  ,\n",
       "       -3.9036641 , -3.90425882, -3.90587799, -3.9072271 , -3.90985713,\n",
       "       -3.9134621 , -3.91645287, -3.91894786, -3.92157356, -3.92380075,\n",
       "       -3.92703149, -3.9304609 , -3.93418805, -3.9388254 , -3.94356066])"
      ]
     },
     "execution_count": 77,
     "metadata": {},
     "output_type": "execute_result"
    }
   ],
   "source": [
    "target_value[:200]"
   ]
  },
  {
   "cell_type": "code",
   "execution_count": null,
   "metadata": {},
   "outputs": [],
   "source": []
  }
 ],
 "metadata": {
  "kernelspec": {
   "display_name": "Python 3",
   "language": "python",
   "name": "python3"
  },
  "language_info": {
   "codemirror_mode": {
    "name": "ipython",
    "version": 3
   },
   "file_extension": ".py",
   "mimetype": "text/x-python",
   "name": "python",
   "nbconvert_exporter": "python",
   "pygments_lexer": "ipython3",
   "version": "3.6.7"
  }
 },
 "nbformat": 4,
 "nbformat_minor": 2
}
