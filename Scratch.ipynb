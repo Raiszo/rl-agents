{
 "cells": [
  {
   "cell_type": "code",
   "execution_count": 1,
   "metadata": {},
   "outputs": [],
   "source": [
    "import tensorflow as tf\n",
    "import gym\n",
    "import numpy as np\n",
    "import datetime\n",
    "\n",
    "# from rl_agents.env_utils import rollouts_generator, get_adv_vtarg, get_gaeadv_vtarg\n",
    "from rl_agents.vpg.agent import VPG_Agent\n",
    "from rl_agents.ppo.agent import PPO_Agent\n",
    "from rl_agents.training.buffers import GAE_Buffer\n",
    "from rl_agents.training.sensei import Sensei, ExperimentRunner\n",
    "from rl_agents.utils import get_actor_critic, simple_run, Logger\n",
    "\n",
    "# for auto-reloading external modules\n",
    "# see http://stackoverflow.com/questions/1907993/autoreload-of-modules-in-ipython\n",
    "%load_ext autoreload\n",
    "%autoreload 2\n",
    "\n",
    "tf.random.set_seed(0)\n",
    "tf.keras.backend.set_floatx('float32')"
   ]
  },
  {
   "cell_type": "markdown",
   "metadata": {},
   "source": [
    "## Create GYM environment\n",
    "Use Pendulum-v0 for now"
   ]
  },
  {
   "cell_type": "code",
   "execution_count": 2,
   "metadata": {},
   "outputs": [],
   "source": [
    "# env_fn = lambda: gym.make('MountainCarContinuous-v0')\n",
    "# env_fn = lambda: gym.make('Pendulum-v0')\n",
    "env_fn = lambda: gym.make('MountainCar-v0')\n",
    "# env_fn = lambda: gym.make('CartPole-v0')\n",
    "# env_fn = lambda: gym.make('LunarLanderContinuous-v2')\n",
    "# env_fn = lambda: gym.make('Acrobot-v1')\n",
    "\n",
    "env = env_fn()\n",
    "obs_dim = env.observation_space.shape\n",
    "act_dim = env.action_space.shape or env.action_space.n"
   ]
  },
  {
   "cell_type": "code",
   "execution_count": 3,
   "metadata": {},
   "outputs": [],
   "source": [
    "lam = 0.95\n",
    "gamma = 0.99\n",
    "buffer_size = 4096\n",
    "\n",
    "logger = Logger(env.unwrapped.spec.id)\n",
    "\n",
    "buff_vpg = GAE_Buffer(obs_dim, act_dim, buffer_size, gamma=gamma, lam=lam)\n",
    "actor_vpg, critic_vpg = get_actor_critic(env)\n",
    "jen_vpg = VPG_Agent(actor_vpg, critic_vpg, logger=logger)\n",
    "\n",
    "epochs_actor = 1\n",
    "epochs_critic = 80\n",
    "sensei_vpg = Sensei(jen_vpg, env_fn, buff_vpg,\n",
    "                    epochs_actor=epochs_actor, epochs_critic=epochs_critic,\n",
    "                    logger=logger)"
   ]
  },
  {
   "cell_type": "code",
   "execution_count": 4,
   "metadata": {
    "scrolled": false
   },
   "outputs": [
    {
     "name": "stdout",
     "output_type": "stream",
     "text": [
      "WARNING:tensorflow:Layer Actor is casting an input tensor from dtype float64 to the layer's dtype of float32, which is new behavior in TensorFlow 2.  The layer has dtype float32 because it's dtype defaults to floatx.\n",
      "\n",
      "If you intended to run this layer in float32, you can safely ignore this warning. If in doubt, this warning is likely only an issue if you are porting a TensorFlow 1.X model to TensorFlow 2.\n",
      "\n",
      "To change all layers to have dtype float64 by default, call `tf.keras.backend.set_floatx('float64')`. To change just this layer, pass dtype='float64' to the layer constructor. If you are the author of this layer, you can disable autocasting by passing autocast=False to the base Layer constructor.\n",
      "\n",
      "WARNING:tensorflow:Layer Critic is casting an input tensor from dtype float64 to the layer's dtype of float32, which is new behavior in TensorFlow 2.  The layer has dtype float32 because it's dtype defaults to floatx.\n",
      "\n",
      "If you intended to run this layer in float32, you can safely ignore this warning. If in doubt, this warning is likely only an issue if you are porting a TensorFlow 1.X model to TensorFlow 2.\n",
      "\n",
      "To change all layers to have dtype float64 by default, call `tf.keras.backend.set_floatx('float64')`. To change just this layer, pass dtype='float64' to the layer constructor. If you are the author of this layer, you can disable autocasting by passing autocast=False to the base Layer constructor.\n",
      "\n"
     ]
    }
   ],
   "source": [
    "num_ite = 200\n",
    "sensei_vpg.train(num_ite, batch_size=128)"
   ]
  },
  {
   "cell_type": "code",
   "execution_count": null,
   "metadata": {},
   "outputs": [],
   "source": [
    "buff_ppo = GAE_Buffer(obs_dim, act_dim, 2048, gamma=0.99, lam=0.95)\n",
    "actor_ppo, critic_ppo = get_actor_critic(env)\n",
    "jen_ppo = PPO_Agent(actor_ppo, critic_ppo, act_dim)\n",
    "\n",
    "lam = 0.95\n",
    "gamma = 0.99\n",
    "epochs_actor = 10\n",
    "epochs_critic = 80\n",
    "sensei_ppo = Sensei(jen_ppo, env_fn, buff_ppo,\n",
    "                    epochs_actor=epochs_actor, epochs_critic=epochs_critic,\n",
    "                    gamma=gamma, gae_lambda=lam,\n",
    "                    log_dir='logs')"
   ]
  },
  {
   "cell_type": "code",
   "execution_count": null,
   "metadata": {},
   "outputs": [],
   "source": [
    "num_ite = 200\n",
    "sensei_ppo.train(num_ite, batch_size=128)"
   ]
  },
  {
   "cell_type": "markdown",
   "metadata": {},
   "source": [
    "# Testing buffer"
   ]
  },
  {
   "cell_type": "code",
   "execution_count": null,
   "metadata": {},
   "outputs": [],
   "source": [
    "a = tf.keras.optimizers.Adam(3e-3)"
   ]
  },
  {
   "cell_type": "code",
   "execution_count": null,
   "metadata": {},
   "outputs": [],
   "source": [
    "a"
   ]
  },
  {
   "cell_type": "code",
   "execution_count": null,
   "metadata": {},
   "outputs": [],
   "source": [
    "buff = GAE_Buffer(obs_dim, act_dim, 20, gamma=0.99, lam=0.95)"
   ]
  },
  {
   "cell_type": "code",
   "execution_count": null,
   "metadata": {},
   "outputs": [],
   "source": [
    "actor_test, critic_test = get_actor_critic(env)"
   ]
  },
  {
   "cell_type": "code",
   "execution_count": null,
   "metadata": {},
   "outputs": [],
   "source": [
    "test_vpg = VPG_Agent(actor_test, critic_tes, act_dim)"
   ]
  },
  {
   "cell_type": "code",
   "execution_count": null,
   "metadata": {},
   "outputs": [],
   "source": [
    "test_runner = ExperimentRunner(test_vpg, env, buff)\n",
    "test_runner.num_ite = 1"
   ]
  },
  {
   "cell_type": "code",
   "execution_count": null,
   "metadata": {},
   "outputs": [],
   "source": [
    "for i, rollout in enumerate(test_runner):\n",
    "    print(i)"
   ]
  },
  {
   "cell_type": "code",
   "execution_count": null,
   "metadata": {},
   "outputs": [],
   "source": [
    "env = gym.make('Pendulum-v0')\n",
    "obs_dim = env.observation_space.shape\n",
    "act_dim = env.action_space.shape or env.action_space.n\n",
    "\n",
    "actor_vpg, critic_vpg = get_actor_critic(env)\n",
    "jen_vpg = VPG_Agent(actor_vpg, critic_vpg, act_dim)\n",
    "\n",
    "simple_run(env, jen_vpg)"
   ]
  },
  {
   "cell_type": "code",
   "execution_count": null,
   "metadata": {},
   "outputs": [],
   "source": [
    "buff_ppo = GAE_Buffer(obs_dim, act_dim, 2048, gamma=0.99, lam=0.95)\n",
    "actor_ppo, critic_ppo = get_actor_critic(env)\n",
    "jen_ppo = PPO_Agent(actor_ppo, critic_ppo, act_dim)\n",
    "\n",
    "lam = 0.95\n",
    "gamma = 0.99\n",
    "epochs_actor = 10\n",
    "epochs_critic = 80\n",
    "sensei_ppo = Sensei(jen_ppo, env_fn, buff_ppo,\n",
    "                    epochs_actor=epochs_actor, epochs_critic=epochs_critic,\n",
    "                    gamma=gamma, gae_lambda=lam,\n",
    "                    log_dir='logs')"
   ]
  },
  {
   "cell_type": "code",
   "execution_count": null,
   "metadata": {},
   "outputs": [],
   "source": [
    "num_ite = 200\n",
    "sensei_ppo.train(num_ite, batch_size=256)"
   ]
  },
  {
   "cell_type": "markdown",
   "metadata": {},
   "source": [
    "# Vanilla Policy Gradient"
   ]
  },
  {
   "cell_type": "markdown",
   "metadata": {},
   "source": [
    "## Initialization"
   ]
  },
  {
   "cell_type": "code",
   "execution_count": null,
   "metadata": {},
   "outputs": [],
   "source": [
    "actor_vpg = GaussianActor(obs_dim, act_dim) if is_continuous else CategoricalActor(obs_dim, act_dim)\n",
    "critic_vpg = Critic(obs_dim)\n",
    "jen_vpg = VPG_Agent(actor_vpg, critic_vpg, is_continuous, act_dim)\n",
    "generator_vpg = rollouts_generator(jen_vpg, env, is_continuous, horizon=2048)\n",
    "\n",
    "alg_name = \"VPG\"\n",
    "lam = 0.95\n",
    "gamma = 0.99\n",
    "epochs_actor = 1\n",
    "epochs_critic = 40\n",
    "sensei_vpg = Sensei(jen_vpg, alg_name, env_fn,\n",
    "                    horizon=2048, epochs_actor=epochs_actor, epochs_critic=epochs_critic,\n",
    "                    gamma=gamma, gae_lambda=lam,\n",
    "                    log_dir='logs')"
   ]
  },
  {
   "cell_type": "markdown",
   "metadata": {},
   "source": [
    "# Training loop"
   ]
  },
  {
   "cell_type": "code",
   "execution_count": null,
   "metadata": {},
   "outputs": [],
   "source": [
    "num_ite = 100\n",
    "sensei_vpg.train(num_ite, batch_size=256)"
   ]
  },
  {
   "cell_type": "code",
   "execution_count": null,
   "metadata": {
    "scrolled": true
   },
   "outputs": [],
   "source": [
    "num_ite = 50\n",
    "sensei_vpg.train(num_ite, record=False, batch_size=256)"
   ]
  },
  {
   "cell_type": "code",
   "execution_count": null,
   "metadata": {},
   "outputs": [],
   "source": [
    "def discount_cumsum(x, discount):\n",
    "    \"\"\"\n",
    "    magic from rllab for computing discounted cumulative sums of vectors.\n",
    "    input: \n",
    "        vector x, \n",
    "        [x0, \n",
    "         x1, \n",
    "         x2]\n",
    "    output:\n",
    "        [x0 + discount * x1 + discount^2 * x2,  \n",
    "         x1 + discount * x2,\n",
    "         x2]\n",
    "    \"\"\"\n",
    "    return scipy.signal.lfilter([1], [1, float(-discount)], x[::-1], axis=0)[::-1]"
   ]
  },
  {
   "cell_type": "code",
   "execution_count": null,
   "metadata": {},
   "outputs": [],
   "source": []
  },
  {
   "cell_type": "code",
   "execution_count": null,
   "metadata": {},
   "outputs": [],
   "source": [
    "rollout = generator_ppo.__next__()"
   ]
  },
  {
   "cell_type": "code",
   "execution_count": null,
   "metadata": {},
   "outputs": [],
   "source": [
    "gae, td = get_gaeadv_vtarg(rollout, 0.95, 0.99)"
   ]
  },
  {
   "cell_type": "code",
   "execution_count": null,
   "metadata": {},
   "outputs": [],
   "source": [
    "rews, vals = rollout[\"rew\"][:198], rollout[\"vpred\"][:198]\n",
    "rews = np.append(rews, rollout[\"vpred\"])\n",
    "vals = np.append(vals, rollout[\"next_vpred\"])\n",
    "deltas = rews[:-1] + 0.99 * vals[1:] - vals[:-1]\n",
    "gae2 = discount_cumsum(deltas, 0.99*0.95)"
   ]
  },
  {
   "cell_type": "code",
   "execution_count": null,
   "metadata": {},
   "outputs": [],
   "source": [
    "np.sum(gae2 - gae)"
   ]
  },
  {
   "cell_type": "code",
   "execution_count": null,
   "metadata": {},
   "outputs": [],
   "source": [
    "gae2"
   ]
  },
  {
   "cell_type": "code",
   "execution_count": null,
   "metadata": {},
   "outputs": [],
   "source": [
    "gae"
   ]
  },
  {
   "cell_type": "code",
   "execution_count": null,
   "metadata": {},
   "outputs": [],
   "source": [
    "gae-gae2"
   ]
  },
  {
   "cell_type": "code",
   "execution_count": null,
   "metadata": {},
   "outputs": [],
   "source": [
    "rollout[\"new\"][:198]"
   ]
  },
  {
   "cell_type": "code",
   "execution_count": null,
   "metadata": {},
   "outputs": [],
   "source": [
    "act_dim"
   ]
  },
  {
   "cell_type": "code",
   "execution_count": null,
   "metadata": {},
   "outputs": [],
   "source": [
    "jen_vpg.actor_step"
   ]
  },
  {
   "cell_type": "code",
   "execution_count": null,
   "metadata": {},
   "outputs": [],
   "source": [
    "env.action_space.sample()"
   ]
  },
  {
   "cell_type": "code",
   "execution_count": null,
   "metadata": {},
   "outputs": [],
   "source": [
    "b = np.array([1,2])\n",
    "b[:1]"
   ]
  },
  {
   "cell_type": "code",
   "execution_count": null,
   "metadata": {},
   "outputs": [],
   "source": [
    "b[-1:]"
   ]
  },
  {
   "cell_type": "code",
   "execution_count": null,
   "metadata": {},
   "outputs": [],
   "source": [
    "limits = np.array([[-5, 5], [-10, 10]])\n",
    "ac = np.array([2, -19])\n",
    "\n",
    "print(limits[0,:])\n",
    "np.clip(ac, limits[:, 0], limits[:, 1])"
   ]
  },
  {
   "cell_type": "code",
   "execution_count": null,
   "metadata": {},
   "outputs": [],
   "source": []
  }
 ],
 "metadata": {
  "kernelspec": {
   "display_name": "Python 3",
   "language": "python",
   "name": "python3"
  },
  "language_info": {
   "codemirror_mode": {
    "name": "ipython",
    "version": 3
   },
   "file_extension": ".py",
   "mimetype": "text/x-python",
   "name": "python",
   "nbconvert_exporter": "python",
   "pygments_lexer": "ipython3",
   "version": "3.6.8"
  }
 },
 "nbformat": 4,
 "nbformat_minor": 2
}
